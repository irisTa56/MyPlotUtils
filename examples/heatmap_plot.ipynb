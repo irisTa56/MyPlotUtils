{
 "cells": [
  {
   "cell_type": "code",
   "execution_count": 1,
   "metadata": {
    "ExecuteTime": {
     "end_time": "2019-02-12T05:32:28.993797Z",
     "start_time": "2019-02-12T05:32:28.072139Z"
    }
   },
   "outputs": [],
   "source": [
    "import tk_plot_utils as tk"
   ]
  },
  {
   "cell_type": "code",
   "execution_count": 2,
   "metadata": {
    "ExecuteTime": {
     "end_time": "2019-02-12T05:32:29.025942Z",
     "start_time": "2019-02-12T05:32:28.996724Z"
    }
   },
   "outputs": [
    {
     "data": {
      "text/html": [
       "<script type=\"text/javascript\">window.PlotlyConfig = {MathJaxConfig: 'local'};</script><script type=\"text/javascript\">if (window.MathJax) {MathJax.Hub.Config({SVG: {font: \"STIX-Web\"}});}</script><script>requirejs.config({paths: { 'plotly': ['https://cdn.plot.ly/plotly-latest.min']},});if(!window._Plotly) {require(['plotly'],function(plotly) {window._Plotly=plotly;});}</script>"
      ],
      "text/vnd.plotly.v1+html": [
       "<script type=\"text/javascript\">window.PlotlyConfig = {MathJaxConfig: 'local'};</script><script type=\"text/javascript\">if (window.MathJax) {MathJax.Hub.Config({SVG: {font: \"STIX-Web\"}});}</script><script>requirejs.config({paths: { 'plotly': ['https://cdn.plot.ly/plotly-latest.min']},});if(!window._Plotly) {require(['plotly'],function(plotly) {window._Plotly=plotly;});}</script>"
      ]
     },
     "metadata": {},
     "output_type": "display_data"
    },
    {
     "data": {
      "text/html": [
       "<script>\n",
       "  function download_plotly_image(plot_id, format, height, width, filename)\n",
       "  {\n",
       "    let p = document.getElementById(plot_id);\n",
       "    window._Plotly.downloadImage(\n",
       "      p,\n",
       "      {\n",
       "        format: format,\n",
       "        height: height,\n",
       "        width: width,\n",
       "        filename: filename\n",
       "      });\n",
       "  };\n",
       "</script>\n",
       "<script>\n",
       "  function hide_draggable_elements(plot_id)\n",
       "  {\n",
       "    let p = document.getElementById(plot_id);\n",
       "    let svg = p.querySelector(\"svg.main-svg\");\n",
       "    let svgNS = svg.namespaceURI;\n",
       "    let hidelayer = document.createElementNS(svgNS, \"g\");\n",
       "    hidelayer.setAttribute(\"class\", \"hidelayer\");\n",
       "    [...p.querySelectorAll(\"g.draglayer > g\")].forEach((item) =>\n",
       "      {\n",
       "        if (6 < item.getAttribute(\"class\").length)\n",
       "        {\n",
       "          [...item.querySelectorAll(\"rect.drag\")].forEach((item) =>\n",
       "            {\n",
       "              let rect = document.createElementNS(svgNS, \"rect\");\n",
       "              for (let key of [\"style\", \"x\", \"y\", \"width\", \"height\"])\n",
       "              {\n",
       "                rect.setAttribute(key, item.getAttribute(key));\n",
       "              }\n",
       "              hidelayer.appendChild(rect);\n",
       "            });\n",
       "        }\n",
       "      });\n",
       "    svg.appendChild(hidelayer);\n",
       "  };\n",
       "</script>\n",
       "<script>\n",
       "  function remove_autoscale_button(plot_id)\n",
       "  {\n",
       "    [...document.getElementById(plot_id).querySelectorAll(\"a.modebar-btn\")]\n",
       "      .forEach((item) =>\n",
       "        {\n",
       "          if (item.getAttribute(\"data-title\") == \"Autoscale\")\n",
       "          {\n",
       "            item.parentNode.removeChild(item);\n",
       "          }\n",
       "        });\n",
       "  };\n",
       "</script>\n",
       "<script>\n",
       "  function shift_subplots_xtitle(plot_id, xtitle_index)\n",
       "  {\n",
       "    let p = document.getElementById(plot_id);\n",
       "    let xtitle = [...p.querySelectorAll(\"g.infolayer > g\")]\n",
       "      .filter((g) => g.className.baseVal == \"annotation\")[xtitle_index]\n",
       "      .querySelector(\"g.cursor-pointer\");\n",
       "    let t = xtitle.getAttribute(\"transform\");\n",
       "    let ytrans_old = parseFloat(t.slice(t.indexOf(\",\")+1, t.indexOf(\")\")));\n",
       "    let h_rect = parseFloat(xtitle.querySelector(\"rect\").getAttribute(\"height\"));\n",
       "    let ytrans_new = p.layout.height - h_rect;\n",
       "    xtitle.setAttribute(\"transform\",\n",
       "      t.slice(0,t.indexOf(\",\")+1) + ytrans_new.toString() + \")\");\n",
       "    p.layout.annotations[xtitle_index].yshift = ytrans_old - ytrans_new;\n",
       "  };\n",
       "</script>\n",
       "<script>\n",
       "  function shift_subplots_ytitle(plot_id, ytitle_index)\n",
       "  {\n",
       "    let p = document.getElementById(plot_id);\n",
       "    let annotation = [...p.querySelectorAll(\"g.infolayer > g\")]\n",
       "      .filter((g) => g.className.baseVal == \"annotation\")[ytitle_index];\n",
       "    let ytitle_parent = annotation.querySelector(\"g.annotation-text-g\");\n",
       "    let ytitle = annotation.querySelector(\"g.cursor-pointer\");\n",
       "    let r = ytitle_parent.getAttribute(\"transform\");\n",
       "    let t = ytitle.getAttribute(\"transform\");\n",
       "    let xtrans_old = parseFloat(t.slice(t.indexOf(\"(\")+1, t.indexOf(\",\")));\n",
       "    let rect = ytitle.querySelector(\"rect\");\n",
       "    let xcenter = 0.5*parseFloat(rect.getAttribute(\"width\"))\n",
       "                  + parseFloat(rect.getAttribute(\"x\"));\n",
       "    let ycenter = 0.5*parseFloat(rect.getAttribute(\"height\"))\n",
       "                  - parseFloat(rect.getAttribute(\"y\"));\n",
       "    let xtrans_new = ycenter - xcenter;\n",
       "    ytitle.setAttribute(\"transform\",\n",
       "      t.slice(0,t.indexOf(\"(\")+1) + xtrans_new.toString() + t.slice(t.indexOf(\",\")));\n",
       "      ytitle_parent.setAttribute(\"transform\",\n",
       "      r.slice(0,r.indexOf(\",\")+1) + (xtrans_new+xcenter).toString() + r.slice(r.lastIndexOf(\",\")));\n",
       "    p.layout.annotations[ytitle_index].xshift = xtrans_new - xtrans_old;\n",
       "  };\n",
       "</script>\n"
      ],
      "text/plain": [
       "<IPython.core.display.HTML object>"
      ]
     },
     "metadata": {},
     "output_type": "display_data"
    }
   ],
   "source": [
    "tk.init_plotly(connected=True)"
   ]
  },
  {
   "cell_type": "code",
   "execution_count": 3,
   "metadata": {
    "ExecuteTime": {
     "end_time": "2019-02-12T05:32:29.042195Z",
     "start_time": "2019-02-12T05:32:29.029441Z"
    }
   },
   "outputs": [],
   "source": [
    "import numpy as np\n",
    "sample = np.random.uniform(-1, 1, (20, 10))"
   ]
  },
  {
   "cell_type": "markdown",
   "metadata": {},
   "source": [
    "## Make Heatmap"
   ]
  },
  {
   "cell_type": "code",
   "execution_count": 4,
   "metadata": {
    "ExecuteTime": {
     "end_time": "2019-02-12T05:32:29.523378Z",
     "start_time": "2019-02-12T05:32:29.049733Z"
    }
   },
   "outputs": [],
   "source": [
    "heatmap = tk.make_heatmap({\n",
    "  \"z\": sample,\n",
    "  \"origin\": (0, 0),\n",
    "  \"dx\": 1,\n",
    "  \"dy\": 1,\n",
    "})\n",
    "plt = tk.plotly()"
   ]
  },
  {
   "cell_type": "code",
   "execution_count": 5,
   "metadata": {
    "ExecuteTime": {
     "end_time": "2019-02-12T05:32:29.542342Z",
     "start_time": "2019-02-12T05:32:29.527798Z"
    }
   },
   "outputs": [],
   "source": [
    "plt.set_title(\"Random numbers\")\n",
    "plt.set_x_title(\"horizontal\")\n",
    "plt.set_y_title(\"vertical\")"
   ]
  },
  {
   "cell_type": "code",
   "execution_count": 6,
   "metadata": {
    "ExecuteTime": {
     "end_time": "2019-02-12T05:32:30.593233Z",
     "start_time": "2019-02-12T05:32:29.545683Z"
    }
   },
   "outputs": [
    {
     "data": {
      "application/vnd.plotly.v1+json": {
       "config": {
        "linkText": "Export to plot.ly",
        "plotlyServerURL": "https://plot.ly",
        "showLink": false
       },
       "data": [
        {
         "dx": 1,
         "dy": 1,
         "transpose": true,
         "type": "heatmap",
         "uid": "8e0857d9-be65-471c-86d4-f8b4e79e7b2e",
         "x": [
          0,
          1,
          2,
          3,
          4,
          5,
          6,
          7,
          8,
          9,
          10,
          11,
          12,
          13,
          14,
          15,
          16,
          17,
          18,
          19,
          20
         ],
         "y": [
          0,
          1,
          2,
          3,
          4,
          5,
          6,
          7,
          8,
          9,
          10
         ],
         "z": [
          [
           0.6210281011933383,
           0.24555529453580682,
           -0.2839960330751139,
           0.4029248864076589,
           0.00830391216364701,
           0.16160377486673094,
           0.36389430805011935,
           0.3894043511298415,
           -0.7468683907039311,
           0.02680113242443838
          ],
          [
           0.9032323465618557,
           -0.5228036014466517,
           -0.6860668510650729,
           -0.9688567797527432,
           -0.19510392868478066,
           -0.09980561139654465,
           -0.6675186885226994,
           0.9566394548367141,
           0.9673314285350272,
           0.5059631567541403
          ],
          [
           -0.18638777525751338,
           0.2402691785778981,
           -0.8447427105750795,
           0.28027333859193804,
           -0.7543660131515444,
           -0.038903476116112,
           0.33013406684133106,
           0.7983043335531761,
           0.9408578814850332,
           0.5656730036425097
          ],
          [
           -0.4768768004522803,
           -0.5772825939575987,
           0.9144180871418706,
           -0.9004416308871106,
           0.3432463352846915,
           -0.4607133104581018,
           0.5279808069725929,
           -0.33838587763631156,
           0.13274807091536744,
           -0.8234755890616521
          ],
          [
           -0.5497952227777938,
           -0.1408359220989892,
           -0.7262179287198436,
           0.7543509767120511,
           -0.6130247004203959,
           -0.17022044207339215,
           -0.5078648790277316,
           -0.5594621726960545,
           -0.23538230728962795,
           0.7714753209927936
          ],
          [
           -0.7640597000391265,
           -0.6653367450911705,
           -0.3118354703916817,
           -0.6282284896961587,
           -0.401918989104203,
           -0.7628309034694265,
           -0.9899487532866882,
           -0.6778744569576622,
           -0.44028381782007475,
           -0.6119709766324859
          ],
          [
           -0.33735837943580194,
           0.37740566237141104,
           -0.4950489074261615,
           0.6495411121851398,
           0.29238040953351807,
           -0.4544076274374287,
           0.12365025139365216,
           -0.10995364625634907,
           0.06756899059860966,
           -0.7076481636887413
          ],
          [
           0.20224631006876903,
           -0.9190340400264159,
           -0.21678816413803892,
           -0.1769037745538573,
           0.7994826491656497,
           0.39093314787222844,
           0.058082158475139645,
           0.9154013443023179,
           0.2567168710159351,
           -0.07338599785163935
          ],
          [
           0.6981081605731512,
           -0.6403562107231888,
           -0.4702862128471059,
           0.23740852557118863,
           0.4903981853257504,
           -0.05567346686973229,
           0.804955821337664,
           -0.42750541867391756,
           0.7874706244966798,
           0.1901170172993445
          ],
          [
           0.27085435855491946,
           -0.731144746147679,
           -0.8388580922864184,
           0.14567802135653918,
           -0.9701872950689165,
           0.07002837501665304,
           0.7958121663836797,
           -0.5526579077728047,
           -0.029550020987433756,
           0.21151643672950615
          ],
          [
           0.035638729559341886,
           0.35030712746466075,
           -0.15608887900485446,
           0.6774152058115315,
           -0.7338828811739142,
           0.376755055489012,
           0.45307723148593215,
           0.5029707067967433,
           -0.065879473541689,
           0.141856000311112
          ],
          [
           0.42281487314582145,
           0.7164876714145298,
           -0.4024606233456074,
           0.5010185292785114,
           -0.3946228004464001,
           -0.5193246207147899,
           0.31474663347952947,
           -0.6894342757436327,
           -0.747580443690931,
           -0.18920081608965122
          ],
          [
           -0.30630334765257006,
           0.9767259940388107,
           -0.2312853974900193,
           -0.4998181538609121,
           -0.4888486357750359,
           0.13404094387997323,
           0.9689887828222445,
           -0.45930373332516106,
           0.20096306264356256,
           0.4219911400624963
          ],
          [
           -0.1715387057653195,
           -0.13834364050737213,
           0.8903160380210549,
           0.8918401664647917,
           -0.09113620214581819,
           -0.0765158480892989,
           0.9483620452353134,
           -0.3579719121075091,
           0.4977464571817056,
           -0.6133096883089759
          ],
          [
           -0.47024317535228954,
           -0.6985758632174341,
           -0.9088872213668262,
           0.9675613290811724,
           0.749428744795217,
           0.3351759527655265,
           0.41880839057212826,
           -0.2960641456766453,
           -0.38683804292611246,
           -0.02149391193715222
          ],
          [
           -0.38569950258641206,
           -0.6750097056298443,
           -0.32753688144931115,
           -0.07121938517494075,
           0.21543185909517826,
           -0.2530363847550523,
           -0.14182568405388918,
           0.7140067261114922,
           -0.6181485116899796,
           0.3243336620513866
          ],
          [
           -0.1477711420653549,
           -0.12431653844181478,
           0.881522236658743,
           0.1908845429890207,
           -0.30968168480617075,
           -0.2121378869424042,
           -0.5897303149896662,
           0.2016883717711324,
           -0.31556995616441474,
           -0.7141756525098502
          ],
          [
           0.6243885560922617,
           -0.9481709400057736,
           0.20522244657730582,
           -0.13590490869985405,
           -0.4679758825287015,
           -0.4790499132122812,
           -0.0001644695563394194,
           0.8635491751118733,
           0.40565243222688796,
           -0.07841340236559402
          ],
          [
           0.06756524993165836,
           0.4597971024539971,
           -0.8525263923916673,
           0.5694689104420259,
           -0.2909794155891905,
           0.8207914587405425,
           -0.24872785726789615,
           0.2544501797089289,
           -0.13718301364696384,
           0.7126670364022998
          ],
          [
           -0.6078781741987691,
           0.9590922561092718,
           0.6685007720246856,
           -0.06824133389008846,
           -0.837025943272631,
           0.6419034931554404,
           0.6159945214925153,
           -0.23870311584516002,
           -0.6022628421836425,
           -0.6973725415215104
          ]
         ]
        },
        {
         "type": "heatmap",
         "uid": "a5fad54b-3f5f-4f66-ab22-07fb1c317f1d",
         "visible": false,
         "xaxis": "x101",
         "yaxis": "y101"
        },
        {
         "type": "heatmap",
         "uid": "bef8548f-87ef-4ecc-b329-02cc76673f3a",
         "visible": false,
         "xaxis": "x201",
         "yaxis": "y201"
        }
       ],
       "layout": {
        "annotations": [
         {
          "font": {
           "family": "Arial",
           "size": 20
          },
          "name": "title",
          "showarrow": false,
          "text": "Random numbers",
          "x": 0.5,
          "xanchor": "center",
          "xref": "paper",
          "y": 1,
          "yanchor": "bottom",
          "yref": "paper",
          "yshift": 30
         }
        ],
        "font": {
         "family": "Arial",
         "size": 18
        },
        "height": 450,
        "margin": {
         "b": 0,
         "l": 0,
         "r": 10
        },
        "titlefont": {
         "family": "Arial",
         "size": 20
        },
        "width": 450,
        "xaxis": {
         "anchor": "y",
         "automargin": true,
         "constrain": "domain",
         "dtick": 5,
         "hoverformat": ".f",
         "range": [
          0,
          20
         ],
         "showgrid": false,
         "showline": false,
         "showticklabels": true,
         "ticklen": 5,
         "ticks": "outside",
         "title": "horizontal",
         "titlefont": {
          "family": "Arial",
          "size": 20
         },
         "zeroline": false
        },
        "xaxis101": {
         "anchor": "y",
         "automargin": true,
         "constrain": "domain",
         "dtick": 5,
         "overlaying": "x",
         "range": [
          0,
          20
         ],
         "scaleanchor": "x",
         "showgrid": false,
         "showline": false,
         "showticklabels": false,
         "side": "top",
         "ticklen": 5,
         "ticks": "outside",
         "zeroline": false
        },
        "xaxis201": {
         "anchor": "y",
         "automargin": true,
         "constrain": "domain",
         "dtick": 1,
         "mirror": "ticks",
         "overlaying": "x",
         "range": [
          0,
          20
         ],
         "scaleanchor": "x",
         "showgrid": false,
         "showline": true,
         "showticklabels": false,
         "ticklen": 3,
         "ticks": "outside",
         "zeroline": false
        },
        "yaxis": {
         "anchor": "x",
         "automargin": true,
         "constrain": "domain",
         "dtick": 2,
         "hoverformat": ".f",
         "range": [
          0,
          10
         ],
         "scaleanchor": "x",
         "showgrid": false,
         "showline": false,
         "showticklabels": true,
         "ticklen": 5,
         "tickprefix": " ",
         "ticks": "outside",
         "ticksuffix": " ",
         "title": "vertical",
         "titlefont": {
          "family": "Arial",
          "size": 20
         },
         "zeroline": false
        },
        "yaxis101": {
         "anchor": "x",
         "automargin": true,
         "constrain": "domain",
         "dtick": 2,
         "overlaying": "y",
         "range": [
          0,
          10
         ],
         "scaleanchor": "y",
         "showgrid": false,
         "showline": false,
         "showticklabels": false,
         "side": "right",
         "ticklen": 5,
         "ticks": "outside",
         "zeroline": false
        },
        "yaxis201": {
         "anchor": "x",
         "automargin": true,
         "constrain": "domain",
         "dtick": 0.5,
         "mirror": "ticks",
         "overlaying": "y",
         "range": [
          0,
          10
         ],
         "scaleanchor": "y",
         "showgrid": false,
         "showline": true,
         "showticklabels": false,
         "ticklen": 3,
         "ticks": "outside",
         "zeroline": false
        }
       }
      },
      "text/html": [
       "<div id=\"18cf5f52-744b-46fd-bc43-0acf9014d52c\" style=\"height: 450px; width: 450px;\" class=\"plotly-graph-div\"></div><script type=\"text/javascript\">require([\"plotly\"], function(Plotly) { window.PLOTLYENV=window.PLOTLYENV || {};window.PLOTLYENV.BASE_URL=\"https://plot.ly\";Plotly.newPlot(\"18cf5f52-744b-46fd-bc43-0acf9014d52c\", [{\"dx\": 1, \"dy\": 1, \"transpose\": true, \"x\": [0, 1, 2, 3, 4, 5, 6, 7, 8, 9, 10, 11, 12, 13, 14, 15, 16, 17, 18, 19, 20], \"y\": [0, 1, 2, 3, 4, 5, 6, 7, 8, 9, 10], \"z\": [[0.6210281011933383, 0.24555529453580682, -0.2839960330751139, 0.4029248864076589, 0.00830391216364701, 0.16160377486673094, 0.36389430805011935, 0.3894043511298415, -0.7468683907039311, 0.02680113242443838], [0.9032323465618557, -0.5228036014466517, -0.6860668510650729, -0.9688567797527432, -0.19510392868478066, -0.09980561139654465, -0.6675186885226994, 0.9566394548367141, 0.9673314285350272, 0.5059631567541403], [-0.18638777525751338, 0.2402691785778981, -0.8447427105750795, 0.28027333859193804, -0.7543660131515444, -0.038903476116112, 0.33013406684133106, 0.7983043335531761, 0.9408578814850332, 0.5656730036425097], [-0.4768768004522803, -0.5772825939575987, 0.9144180871418706, -0.9004416308871106, 0.3432463352846915, -0.4607133104581018, 0.5279808069725929, -0.33838587763631156, 0.13274807091536744, -0.8234755890616521], [-0.5497952227777938, -0.1408359220989892, -0.7262179287198436, 0.7543509767120511, -0.6130247004203959, -0.17022044207339215, -0.5078648790277316, -0.5594621726960545, -0.23538230728962795, 0.7714753209927936], [-0.7640597000391265, -0.6653367450911705, -0.3118354703916817, -0.6282284896961587, -0.401918989104203, -0.7628309034694265, -0.9899487532866882, -0.6778744569576622, -0.44028381782007475, -0.6119709766324859], [-0.33735837943580194, 0.37740566237141104, -0.4950489074261615, 0.6495411121851398, 0.29238040953351807, -0.4544076274374287, 0.12365025139365216, -0.10995364625634907, 0.06756899059860966, -0.7076481636887413], [0.20224631006876903, -0.9190340400264159, -0.21678816413803892, -0.1769037745538573, 0.7994826491656497, 0.39093314787222844, 0.058082158475139645, 0.9154013443023179, 0.2567168710159351, -0.07338599785163935], [0.6981081605731512, -0.6403562107231888, -0.4702862128471059, 0.23740852557118863, 0.4903981853257504, -0.05567346686973229, 0.804955821337664, -0.42750541867391756, 0.7874706244966798, 0.1901170172993445], [0.27085435855491946, -0.731144746147679, -0.8388580922864184, 0.14567802135653918, -0.9701872950689165, 0.07002837501665304, 0.7958121663836797, -0.5526579077728047, -0.029550020987433756, 0.21151643672950615], [0.035638729559341886, 0.35030712746466075, -0.15608887900485446, 0.6774152058115315, -0.7338828811739142, 0.376755055489012, 0.45307723148593215, 0.5029707067967433, -0.065879473541689, 0.141856000311112], [0.42281487314582145, 0.7164876714145298, -0.4024606233456074, 0.5010185292785114, -0.3946228004464001, -0.5193246207147899, 0.31474663347952947, -0.6894342757436327, -0.747580443690931, -0.18920081608965122], [-0.30630334765257006, 0.9767259940388107, -0.2312853974900193, -0.4998181538609121, -0.4888486357750359, 0.13404094387997323, 0.9689887828222445, -0.45930373332516106, 0.20096306264356256, 0.4219911400624963], [-0.1715387057653195, -0.13834364050737213, 0.8903160380210549, 0.8918401664647917, -0.09113620214581819, -0.0765158480892989, 0.9483620452353134, -0.3579719121075091, 0.4977464571817056, -0.6133096883089759], [-0.47024317535228954, -0.6985758632174341, -0.9088872213668262, 0.9675613290811724, 0.749428744795217, 0.3351759527655265, 0.41880839057212826, -0.2960641456766453, -0.38683804292611246, -0.02149391193715222], [-0.38569950258641206, -0.6750097056298443, -0.32753688144931115, -0.07121938517494075, 0.21543185909517826, -0.2530363847550523, -0.14182568405388918, 0.7140067261114922, -0.6181485116899796, 0.3243336620513866], [-0.1477711420653549, -0.12431653844181478, 0.881522236658743, 0.1908845429890207, -0.30968168480617075, -0.2121378869424042, -0.5897303149896662, 0.2016883717711324, -0.31556995616441474, -0.7141756525098502], [0.6243885560922617, -0.9481709400057736, 0.20522244657730582, -0.13590490869985405, -0.4679758825287015, -0.4790499132122812, -0.0001644695563394194, 0.8635491751118733, 0.40565243222688796, -0.07841340236559402], [0.06756524993165836, 0.4597971024539971, -0.8525263923916673, 0.5694689104420259, -0.2909794155891905, 0.8207914587405425, -0.24872785726789615, 0.2544501797089289, -0.13718301364696384, 0.7126670364022998], [-0.6078781741987691, 0.9590922561092718, 0.6685007720246856, -0.06824133389008846, -0.837025943272631, 0.6419034931554404, 0.6159945214925153, -0.23870311584516002, -0.6022628421836425, -0.6973725415215104]], \"type\": \"heatmap\", \"uid\": \"8e0857d9-be65-471c-86d4-f8b4e79e7b2e\"}, {\"visible\": false, \"xaxis\": \"x101\", \"yaxis\": \"y101\", \"type\": \"heatmap\", \"uid\": \"a5fad54b-3f5f-4f66-ab22-07fb1c317f1d\"}, {\"visible\": false, \"xaxis\": \"x201\", \"yaxis\": \"y201\", \"type\": \"heatmap\", \"uid\": \"bef8548f-87ef-4ecc-b329-02cc76673f3a\"}], {\"width\": 450, \"height\": 450, \"font\": {\"family\": \"Arial\", \"size\": 18}, \"titlefont\": {\"family\": \"Arial\", \"size\": 20}, \"margin\": {\"b\": 0, \"l\": 0, \"r\": 10}, \"xaxis\": {\"automargin\": true, \"zeroline\": false, \"showgrid\": false, \"ticks\": \"outside\", \"titlefont\": {\"family\": \"Arial\", \"size\": 20}, \"showline\": false, \"showticklabels\": true, \"ticklen\": 5, \"hoverformat\": \".f\", \"anchor\": \"y\", \"title\": \"horizontal\", \"range\": [0, 20], \"dtick\": 5, \"constrain\": \"domain\"}, \"xaxis101\": {\"automargin\": true, \"zeroline\": false, \"showgrid\": false, \"ticks\": \"outside\", \"showline\": false, \"showticklabels\": false, \"ticklen\": 5, \"overlaying\": \"x\", \"scaleanchor\": \"x\", \"side\": \"top\", \"anchor\": \"y\", \"range\": [0, 20], \"dtick\": 5, \"constrain\": \"domain\"}, \"xaxis201\": {\"automargin\": true, \"zeroline\": false, \"showgrid\": false, \"ticks\": \"outside\", \"showline\": true, \"showticklabels\": false, \"ticklen\": 3, \"mirror\": \"ticks\", \"overlaying\": \"x\", \"scaleanchor\": \"x\", \"anchor\": \"y\", \"range\": [0, 20], \"dtick\": 1.0, \"constrain\": \"domain\"}, \"yaxis\": {\"automargin\": true, \"zeroline\": false, \"showgrid\": false, \"ticks\": \"outside\", \"titlefont\": {\"family\": \"Arial\", \"size\": 20}, \"showline\": false, \"showticklabels\": true, \"ticklen\": 5, \"hoverformat\": \".f\", \"tickprefix\": \"\\u2009\", \"ticksuffix\": \"\\u2009\", \"anchor\": \"x\", \"title\": \"vertical\", \"range\": [0, 10], \"dtick\": 2, \"constrain\": \"domain\", \"scaleanchor\": \"x\"}, \"yaxis101\": {\"automargin\": true, \"zeroline\": false, \"showgrid\": false, \"ticks\": \"outside\", \"showline\": false, \"showticklabels\": false, \"ticklen\": 5, \"overlaying\": \"y\", \"scaleanchor\": \"y\", \"side\": \"right\", \"anchor\": \"x\", \"range\": [0, 10], \"dtick\": 2, \"constrain\": \"domain\"}, \"yaxis201\": {\"automargin\": true, \"zeroline\": false, \"showgrid\": false, \"ticks\": \"outside\", \"showline\": true, \"showticklabels\": false, \"ticklen\": 3, \"mirror\": \"ticks\", \"overlaying\": \"y\", \"scaleanchor\": \"y\", \"anchor\": \"x\", \"range\": [0, 10], \"dtick\": 0.5, \"constrain\": \"domain\"}, \"annotations\": [{\"font\": {\"family\": \"Arial\", \"size\": 20}, \"name\": \"title\", \"showarrow\": false, \"text\": \"Random numbers\", \"x\": 0.5, \"xanchor\": \"center\", \"xref\": \"paper\", \"y\": 1.0, \"yanchor\": \"bottom\", \"yref\": \"paper\", \"yshift\": 30}]}, {\"showLink\": false, \"linkText\": \"Export to plot.ly\", \"plotlyServerURL\": \"https://plot.ly\"})});</script>"
      ],
      "text/vnd.plotly.v1+html": [
       "<div id=\"18cf5f52-744b-46fd-bc43-0acf9014d52c\" style=\"height: 450px; width: 450px;\" class=\"plotly-graph-div\"></div><script type=\"text/javascript\">require([\"plotly\"], function(Plotly) { window.PLOTLYENV=window.PLOTLYENV || {};window.PLOTLYENV.BASE_URL=\"https://plot.ly\";Plotly.newPlot(\"18cf5f52-744b-46fd-bc43-0acf9014d52c\", [{\"dx\": 1, \"dy\": 1, \"transpose\": true, \"x\": [0, 1, 2, 3, 4, 5, 6, 7, 8, 9, 10, 11, 12, 13, 14, 15, 16, 17, 18, 19, 20], \"y\": [0, 1, 2, 3, 4, 5, 6, 7, 8, 9, 10], \"z\": [[0.6210281011933383, 0.24555529453580682, -0.2839960330751139, 0.4029248864076589, 0.00830391216364701, 0.16160377486673094, 0.36389430805011935, 0.3894043511298415, -0.7468683907039311, 0.02680113242443838], [0.9032323465618557, -0.5228036014466517, -0.6860668510650729, -0.9688567797527432, -0.19510392868478066, -0.09980561139654465, -0.6675186885226994, 0.9566394548367141, 0.9673314285350272, 0.5059631567541403], [-0.18638777525751338, 0.2402691785778981, -0.8447427105750795, 0.28027333859193804, -0.7543660131515444, -0.038903476116112, 0.33013406684133106, 0.7983043335531761, 0.9408578814850332, 0.5656730036425097], [-0.4768768004522803, -0.5772825939575987, 0.9144180871418706, -0.9004416308871106, 0.3432463352846915, -0.4607133104581018, 0.5279808069725929, -0.33838587763631156, 0.13274807091536744, -0.8234755890616521], [-0.5497952227777938, -0.1408359220989892, -0.7262179287198436, 0.7543509767120511, -0.6130247004203959, -0.17022044207339215, -0.5078648790277316, -0.5594621726960545, -0.23538230728962795, 0.7714753209927936], [-0.7640597000391265, -0.6653367450911705, -0.3118354703916817, -0.6282284896961587, -0.401918989104203, -0.7628309034694265, -0.9899487532866882, -0.6778744569576622, -0.44028381782007475, -0.6119709766324859], [-0.33735837943580194, 0.37740566237141104, -0.4950489074261615, 0.6495411121851398, 0.29238040953351807, -0.4544076274374287, 0.12365025139365216, -0.10995364625634907, 0.06756899059860966, -0.7076481636887413], [0.20224631006876903, -0.9190340400264159, -0.21678816413803892, -0.1769037745538573, 0.7994826491656497, 0.39093314787222844, 0.058082158475139645, 0.9154013443023179, 0.2567168710159351, -0.07338599785163935], [0.6981081605731512, -0.6403562107231888, -0.4702862128471059, 0.23740852557118863, 0.4903981853257504, -0.05567346686973229, 0.804955821337664, -0.42750541867391756, 0.7874706244966798, 0.1901170172993445], [0.27085435855491946, -0.731144746147679, -0.8388580922864184, 0.14567802135653918, -0.9701872950689165, 0.07002837501665304, 0.7958121663836797, -0.5526579077728047, -0.029550020987433756, 0.21151643672950615], [0.035638729559341886, 0.35030712746466075, -0.15608887900485446, 0.6774152058115315, -0.7338828811739142, 0.376755055489012, 0.45307723148593215, 0.5029707067967433, -0.065879473541689, 0.141856000311112], [0.42281487314582145, 0.7164876714145298, -0.4024606233456074, 0.5010185292785114, -0.3946228004464001, -0.5193246207147899, 0.31474663347952947, -0.6894342757436327, -0.747580443690931, -0.18920081608965122], [-0.30630334765257006, 0.9767259940388107, -0.2312853974900193, -0.4998181538609121, -0.4888486357750359, 0.13404094387997323, 0.9689887828222445, -0.45930373332516106, 0.20096306264356256, 0.4219911400624963], [-0.1715387057653195, -0.13834364050737213, 0.8903160380210549, 0.8918401664647917, -0.09113620214581819, -0.0765158480892989, 0.9483620452353134, -0.3579719121075091, 0.4977464571817056, -0.6133096883089759], [-0.47024317535228954, -0.6985758632174341, -0.9088872213668262, 0.9675613290811724, 0.749428744795217, 0.3351759527655265, 0.41880839057212826, -0.2960641456766453, -0.38683804292611246, -0.02149391193715222], [-0.38569950258641206, -0.6750097056298443, -0.32753688144931115, -0.07121938517494075, 0.21543185909517826, -0.2530363847550523, -0.14182568405388918, 0.7140067261114922, -0.6181485116899796, 0.3243336620513866], [-0.1477711420653549, -0.12431653844181478, 0.881522236658743, 0.1908845429890207, -0.30968168480617075, -0.2121378869424042, -0.5897303149896662, 0.2016883717711324, -0.31556995616441474, -0.7141756525098502], [0.6243885560922617, -0.9481709400057736, 0.20522244657730582, -0.13590490869985405, -0.4679758825287015, -0.4790499132122812, -0.0001644695563394194, 0.8635491751118733, 0.40565243222688796, -0.07841340236559402], [0.06756524993165836, 0.4597971024539971, -0.8525263923916673, 0.5694689104420259, -0.2909794155891905, 0.8207914587405425, -0.24872785726789615, 0.2544501797089289, -0.13718301364696384, 0.7126670364022998], [-0.6078781741987691, 0.9590922561092718, 0.6685007720246856, -0.06824133389008846, -0.837025943272631, 0.6419034931554404, 0.6159945214925153, -0.23870311584516002, -0.6022628421836425, -0.6973725415215104]], \"type\": \"heatmap\", \"uid\": \"8e0857d9-be65-471c-86d4-f8b4e79e7b2e\"}, {\"visible\": false, \"xaxis\": \"x101\", \"yaxis\": \"y101\", \"type\": \"heatmap\", \"uid\": \"a5fad54b-3f5f-4f66-ab22-07fb1c317f1d\"}, {\"visible\": false, \"xaxis\": \"x201\", \"yaxis\": \"y201\", \"type\": \"heatmap\", \"uid\": \"bef8548f-87ef-4ecc-b329-02cc76673f3a\"}], {\"width\": 450, \"height\": 450, \"font\": {\"family\": \"Arial\", \"size\": 18}, \"titlefont\": {\"family\": \"Arial\", \"size\": 20}, \"margin\": {\"b\": 0, \"l\": 0, \"r\": 10}, \"xaxis\": {\"automargin\": true, \"zeroline\": false, \"showgrid\": false, \"ticks\": \"outside\", \"titlefont\": {\"family\": \"Arial\", \"size\": 20}, \"showline\": false, \"showticklabels\": true, \"ticklen\": 5, \"hoverformat\": \".f\", \"anchor\": \"y\", \"title\": \"horizontal\", \"range\": [0, 20], \"dtick\": 5, \"constrain\": \"domain\"}, \"xaxis101\": {\"automargin\": true, \"zeroline\": false, \"showgrid\": false, \"ticks\": \"outside\", \"showline\": false, \"showticklabels\": false, \"ticklen\": 5, \"overlaying\": \"x\", \"scaleanchor\": \"x\", \"side\": \"top\", \"anchor\": \"y\", \"range\": [0, 20], \"dtick\": 5, \"constrain\": \"domain\"}, \"xaxis201\": {\"automargin\": true, \"zeroline\": false, \"showgrid\": false, \"ticks\": \"outside\", \"showline\": true, \"showticklabels\": false, \"ticklen\": 3, \"mirror\": \"ticks\", \"overlaying\": \"x\", \"scaleanchor\": \"x\", \"anchor\": \"y\", \"range\": [0, 20], \"dtick\": 1.0, \"constrain\": \"domain\"}, \"yaxis\": {\"automargin\": true, \"zeroline\": false, \"showgrid\": false, \"ticks\": \"outside\", \"titlefont\": {\"family\": \"Arial\", \"size\": 20}, \"showline\": false, \"showticklabels\": true, \"ticklen\": 5, \"hoverformat\": \".f\", \"tickprefix\": \"\\u2009\", \"ticksuffix\": \"\\u2009\", \"anchor\": \"x\", \"title\": \"vertical\", \"range\": [0, 10], \"dtick\": 2, \"constrain\": \"domain\", \"scaleanchor\": \"x\"}, \"yaxis101\": {\"automargin\": true, \"zeroline\": false, \"showgrid\": false, \"ticks\": \"outside\", \"showline\": false, \"showticklabels\": false, \"ticklen\": 5, \"overlaying\": \"y\", \"scaleanchor\": \"y\", \"side\": \"right\", \"anchor\": \"x\", \"range\": [0, 10], \"dtick\": 2, \"constrain\": \"domain\"}, \"yaxis201\": {\"automargin\": true, \"zeroline\": false, \"showgrid\": false, \"ticks\": \"outside\", \"showline\": true, \"showticklabels\": false, \"ticklen\": 3, \"mirror\": \"ticks\", \"overlaying\": \"y\", \"scaleanchor\": \"y\", \"anchor\": \"x\", \"range\": [0, 10], \"dtick\": 0.5, \"constrain\": \"domain\"}, \"annotations\": [{\"font\": {\"family\": \"Arial\", \"size\": 20}, \"name\": \"title\", \"showarrow\": false, \"text\": \"Random numbers\", \"x\": 0.5, \"xanchor\": \"center\", \"xref\": \"paper\", \"y\": 1.0, \"yanchor\": \"bottom\", \"yref\": \"paper\", \"yshift\": 30}]}, {\"showLink\": false, \"linkText\": \"Export to plot.ly\", \"plotlyServerURL\": \"https://plot.ly\"})});</script>"
      ]
     },
     "metadata": {},
     "output_type": "display_data"
    },
    {
     "data": {
      "text/html": [
       "<button onclick=\"download_plotly_image('18cf5f52-744b-46fd-bc43-0acf9014d52c', 'svg', 450, 450, 'plot-20190212-053229')\">\n",
       "  Download Image as <span style=\"text-transform:uppercase;\">svg</span>\n",
       "</button>\n",
       "<script>\n",
       "  if (window.Jupyter)\n",
       "  {\n",
       "    hide_draggable_elements(\"18cf5f52-744b-46fd-bc43-0acf9014d52c\");\n",
       "    remove_autoscale_button(\"18cf5f52-744b-46fd-bc43-0acf9014d52c\");\n",
       "  }\n",
       "  else\n",
       "  {\n",
       "    window.addEventListener(\"load\", () =>\n",
       "    {\n",
       "      hide_draggable_elements(\"18cf5f52-744b-46fd-bc43-0acf9014d52c\");\n",
       "      remove_autoscale_button(\"18cf5f52-744b-46fd-bc43-0acf9014d52c\");\n",
       "    });\n",
       "  }\n",
       "</script>\n"
      ],
      "text/plain": [
       "<IPython.core.display.HTML object>"
      ]
     },
     "metadata": {},
     "output_type": "display_data"
    }
   ],
   "source": [
    "plt.show(heatmap)"
   ]
  },
  {
   "cell_type": "markdown",
   "metadata": {},
   "source": [
    "The above `heatmap` is equivalent with the following."
   ]
  },
  {
   "cell_type": "code",
   "execution_count": 7,
   "metadata": {
    "ExecuteTime": {
     "end_time": "2019-02-12T05:32:30.608930Z",
     "start_time": "2019-02-12T05:32:30.597544Z"
    }
   },
   "outputs": [],
   "source": [
    "heatmap2 = tk.make_heatmap({\n",
    "  \"z\": sample,\n",
    "  \"x\": list(range(0, 21)),\n",
    "  \"y\": list(range(0, 11)),\n",
    "})"
   ]
  },
  {
   "cell_type": "code",
   "execution_count": 8,
   "metadata": {
    "ExecuteTime": {
     "end_time": "2019-02-12T05:32:31.706496Z",
     "start_time": "2019-02-12T05:32:30.612891Z"
    }
   },
   "outputs": [
    {
     "data": {
      "application/vnd.plotly.v1+json": {
       "config": {
        "linkText": "Export to plot.ly",
        "plotlyServerURL": "https://plot.ly",
        "showLink": false
       },
       "data": [
        {
         "transpose": true,
         "type": "heatmap",
         "uid": "6b684e58-c1b2-408e-9f83-9d51c804673d",
         "x": [
          0,
          1,
          2,
          3,
          4,
          5,
          6,
          7,
          8,
          9,
          10,
          11,
          12,
          13,
          14,
          15,
          16,
          17,
          18,
          19,
          20
         ],
         "y": [
          0,
          1,
          2,
          3,
          4,
          5,
          6,
          7,
          8,
          9,
          10
         ],
         "z": [
          [
           0.6210281011933383,
           0.24555529453580682,
           -0.2839960330751139,
           0.4029248864076589,
           0.00830391216364701,
           0.16160377486673094,
           0.36389430805011935,
           0.3894043511298415,
           -0.7468683907039311,
           0.02680113242443838
          ],
          [
           0.9032323465618557,
           -0.5228036014466517,
           -0.6860668510650729,
           -0.9688567797527432,
           -0.19510392868478066,
           -0.09980561139654465,
           -0.6675186885226994,
           0.9566394548367141,
           0.9673314285350272,
           0.5059631567541403
          ],
          [
           -0.18638777525751338,
           0.2402691785778981,
           -0.8447427105750795,
           0.28027333859193804,
           -0.7543660131515444,
           -0.038903476116112,
           0.33013406684133106,
           0.7983043335531761,
           0.9408578814850332,
           0.5656730036425097
          ],
          [
           -0.4768768004522803,
           -0.5772825939575987,
           0.9144180871418706,
           -0.9004416308871106,
           0.3432463352846915,
           -0.4607133104581018,
           0.5279808069725929,
           -0.33838587763631156,
           0.13274807091536744,
           -0.8234755890616521
          ],
          [
           -0.5497952227777938,
           -0.1408359220989892,
           -0.7262179287198436,
           0.7543509767120511,
           -0.6130247004203959,
           -0.17022044207339215,
           -0.5078648790277316,
           -0.5594621726960545,
           -0.23538230728962795,
           0.7714753209927936
          ],
          [
           -0.7640597000391265,
           -0.6653367450911705,
           -0.3118354703916817,
           -0.6282284896961587,
           -0.401918989104203,
           -0.7628309034694265,
           -0.9899487532866882,
           -0.6778744569576622,
           -0.44028381782007475,
           -0.6119709766324859
          ],
          [
           -0.33735837943580194,
           0.37740566237141104,
           -0.4950489074261615,
           0.6495411121851398,
           0.29238040953351807,
           -0.4544076274374287,
           0.12365025139365216,
           -0.10995364625634907,
           0.06756899059860966,
           -0.7076481636887413
          ],
          [
           0.20224631006876903,
           -0.9190340400264159,
           -0.21678816413803892,
           -0.1769037745538573,
           0.7994826491656497,
           0.39093314787222844,
           0.058082158475139645,
           0.9154013443023179,
           0.2567168710159351,
           -0.07338599785163935
          ],
          [
           0.6981081605731512,
           -0.6403562107231888,
           -0.4702862128471059,
           0.23740852557118863,
           0.4903981853257504,
           -0.05567346686973229,
           0.804955821337664,
           -0.42750541867391756,
           0.7874706244966798,
           0.1901170172993445
          ],
          [
           0.27085435855491946,
           -0.731144746147679,
           -0.8388580922864184,
           0.14567802135653918,
           -0.9701872950689165,
           0.07002837501665304,
           0.7958121663836797,
           -0.5526579077728047,
           -0.029550020987433756,
           0.21151643672950615
          ],
          [
           0.035638729559341886,
           0.35030712746466075,
           -0.15608887900485446,
           0.6774152058115315,
           -0.7338828811739142,
           0.376755055489012,
           0.45307723148593215,
           0.5029707067967433,
           -0.065879473541689,
           0.141856000311112
          ],
          [
           0.42281487314582145,
           0.7164876714145298,
           -0.4024606233456074,
           0.5010185292785114,
           -0.3946228004464001,
           -0.5193246207147899,
           0.31474663347952947,
           -0.6894342757436327,
           -0.747580443690931,
           -0.18920081608965122
          ],
          [
           -0.30630334765257006,
           0.9767259940388107,
           -0.2312853974900193,
           -0.4998181538609121,
           -0.4888486357750359,
           0.13404094387997323,
           0.9689887828222445,
           -0.45930373332516106,
           0.20096306264356256,
           0.4219911400624963
          ],
          [
           -0.1715387057653195,
           -0.13834364050737213,
           0.8903160380210549,
           0.8918401664647917,
           -0.09113620214581819,
           -0.0765158480892989,
           0.9483620452353134,
           -0.3579719121075091,
           0.4977464571817056,
           -0.6133096883089759
          ],
          [
           -0.47024317535228954,
           -0.6985758632174341,
           -0.9088872213668262,
           0.9675613290811724,
           0.749428744795217,
           0.3351759527655265,
           0.41880839057212826,
           -0.2960641456766453,
           -0.38683804292611246,
           -0.02149391193715222
          ],
          [
           -0.38569950258641206,
           -0.6750097056298443,
           -0.32753688144931115,
           -0.07121938517494075,
           0.21543185909517826,
           -0.2530363847550523,
           -0.14182568405388918,
           0.7140067261114922,
           -0.6181485116899796,
           0.3243336620513866
          ],
          [
           -0.1477711420653549,
           -0.12431653844181478,
           0.881522236658743,
           0.1908845429890207,
           -0.30968168480617075,
           -0.2121378869424042,
           -0.5897303149896662,
           0.2016883717711324,
           -0.31556995616441474,
           -0.7141756525098502
          ],
          [
           0.6243885560922617,
           -0.9481709400057736,
           0.20522244657730582,
           -0.13590490869985405,
           -0.4679758825287015,
           -0.4790499132122812,
           -0.0001644695563394194,
           0.8635491751118733,
           0.40565243222688796,
           -0.07841340236559402
          ],
          [
           0.06756524993165836,
           0.4597971024539971,
           -0.8525263923916673,
           0.5694689104420259,
           -0.2909794155891905,
           0.8207914587405425,
           -0.24872785726789615,
           0.2544501797089289,
           -0.13718301364696384,
           0.7126670364022998
          ],
          [
           -0.6078781741987691,
           0.9590922561092718,
           0.6685007720246856,
           -0.06824133389008846,
           -0.837025943272631,
           0.6419034931554404,
           0.6159945214925153,
           -0.23870311584516002,
           -0.6022628421836425,
           -0.6973725415215104
          ]
         ]
        },
        {
         "type": "heatmap",
         "uid": "1384c92a-58b2-45e7-870f-ca5d837c6ab0",
         "visible": false,
         "xaxis": "x101",
         "yaxis": "y101"
        },
        {
         "type": "heatmap",
         "uid": "902372a9-63b2-4207-9628-17066a96f294",
         "visible": false,
         "xaxis": "x201",
         "yaxis": "y201"
        }
       ],
       "layout": {
        "annotations": [
         {
          "font": {
           "family": "Arial",
           "size": 20
          },
          "name": "title",
          "showarrow": false,
          "text": "Random numbers",
          "x": 0.5,
          "xanchor": "center",
          "xref": "paper",
          "y": 1,
          "yanchor": "bottom",
          "yref": "paper",
          "yshift": 30
         }
        ],
        "font": {
         "family": "Arial",
         "size": 18
        },
        "height": 450,
        "margin": {
         "b": 0,
         "l": 0,
         "r": 10
        },
        "titlefont": {
         "family": "Arial",
         "size": 20
        },
        "width": 450,
        "xaxis": {
         "anchor": "y",
         "automargin": true,
         "constrain": "domain",
         "dtick": 5,
         "hoverformat": ".f",
         "range": [
          0,
          20
         ],
         "showgrid": false,
         "showline": false,
         "showticklabels": true,
         "ticklen": 5,
         "ticks": "outside",
         "title": "horizontal",
         "titlefont": {
          "family": "Arial",
          "size": 20
         },
         "zeroline": false
        },
        "xaxis101": {
         "anchor": "y",
         "automargin": true,
         "constrain": "domain",
         "dtick": 5,
         "overlaying": "x",
         "range": [
          0,
          20
         ],
         "scaleanchor": "x",
         "showgrid": false,
         "showline": false,
         "showticklabels": false,
         "side": "top",
         "ticklen": 5,
         "ticks": "outside",
         "zeroline": false
        },
        "xaxis201": {
         "anchor": "y",
         "automargin": true,
         "constrain": "domain",
         "dtick": 1,
         "mirror": "ticks",
         "overlaying": "x",
         "range": [
          0,
          20
         ],
         "scaleanchor": "x",
         "showgrid": false,
         "showline": true,
         "showticklabels": false,
         "ticklen": 3,
         "ticks": "outside",
         "zeroline": false
        },
        "yaxis": {
         "anchor": "x",
         "automargin": true,
         "constrain": "domain",
         "dtick": 2,
         "hoverformat": ".f",
         "range": [
          0,
          10
         ],
         "scaleanchor": "x",
         "showgrid": false,
         "showline": false,
         "showticklabels": true,
         "ticklen": 5,
         "tickprefix": " ",
         "ticks": "outside",
         "ticksuffix": " ",
         "title": "vertical",
         "titlefont": {
          "family": "Arial",
          "size": 20
         },
         "zeroline": false
        },
        "yaxis101": {
         "anchor": "x",
         "automargin": true,
         "constrain": "domain",
         "dtick": 2,
         "overlaying": "y",
         "range": [
          0,
          10
         ],
         "scaleanchor": "y",
         "showgrid": false,
         "showline": false,
         "showticklabels": false,
         "side": "right",
         "ticklen": 5,
         "ticks": "outside",
         "zeroline": false
        },
        "yaxis201": {
         "anchor": "x",
         "automargin": true,
         "constrain": "domain",
         "dtick": 0.5,
         "mirror": "ticks",
         "overlaying": "y",
         "range": [
          0,
          10
         ],
         "scaleanchor": "y",
         "showgrid": false,
         "showline": true,
         "showticklabels": false,
         "ticklen": 3,
         "ticks": "outside",
         "zeroline": false
        }
       }
      },
      "text/html": [
       "<div id=\"cc1f8588-67d3-4668-bfc0-faa6320afc2e\" style=\"height: 450px; width: 450px;\" class=\"plotly-graph-div\"></div><script type=\"text/javascript\">require([\"plotly\"], function(Plotly) { window.PLOTLYENV=window.PLOTLYENV || {};window.PLOTLYENV.BASE_URL=\"https://plot.ly\";Plotly.newPlot(\"cc1f8588-67d3-4668-bfc0-faa6320afc2e\", [{\"transpose\": true, \"x\": [0, 1, 2, 3, 4, 5, 6, 7, 8, 9, 10, 11, 12, 13, 14, 15, 16, 17, 18, 19, 20], \"y\": [0, 1, 2, 3, 4, 5, 6, 7, 8, 9, 10], \"z\": [[0.6210281011933383, 0.24555529453580682, -0.2839960330751139, 0.4029248864076589, 0.00830391216364701, 0.16160377486673094, 0.36389430805011935, 0.3894043511298415, -0.7468683907039311, 0.02680113242443838], [0.9032323465618557, -0.5228036014466517, -0.6860668510650729, -0.9688567797527432, -0.19510392868478066, -0.09980561139654465, -0.6675186885226994, 0.9566394548367141, 0.9673314285350272, 0.5059631567541403], [-0.18638777525751338, 0.2402691785778981, -0.8447427105750795, 0.28027333859193804, -0.7543660131515444, -0.038903476116112, 0.33013406684133106, 0.7983043335531761, 0.9408578814850332, 0.5656730036425097], [-0.4768768004522803, -0.5772825939575987, 0.9144180871418706, -0.9004416308871106, 0.3432463352846915, -0.4607133104581018, 0.5279808069725929, -0.33838587763631156, 0.13274807091536744, -0.8234755890616521], [-0.5497952227777938, -0.1408359220989892, -0.7262179287198436, 0.7543509767120511, -0.6130247004203959, -0.17022044207339215, -0.5078648790277316, -0.5594621726960545, -0.23538230728962795, 0.7714753209927936], [-0.7640597000391265, -0.6653367450911705, -0.3118354703916817, -0.6282284896961587, -0.401918989104203, -0.7628309034694265, -0.9899487532866882, -0.6778744569576622, -0.44028381782007475, -0.6119709766324859], [-0.33735837943580194, 0.37740566237141104, -0.4950489074261615, 0.6495411121851398, 0.29238040953351807, -0.4544076274374287, 0.12365025139365216, -0.10995364625634907, 0.06756899059860966, -0.7076481636887413], [0.20224631006876903, -0.9190340400264159, -0.21678816413803892, -0.1769037745538573, 0.7994826491656497, 0.39093314787222844, 0.058082158475139645, 0.9154013443023179, 0.2567168710159351, -0.07338599785163935], [0.6981081605731512, -0.6403562107231888, -0.4702862128471059, 0.23740852557118863, 0.4903981853257504, -0.05567346686973229, 0.804955821337664, -0.42750541867391756, 0.7874706244966798, 0.1901170172993445], [0.27085435855491946, -0.731144746147679, -0.8388580922864184, 0.14567802135653918, -0.9701872950689165, 0.07002837501665304, 0.7958121663836797, -0.5526579077728047, -0.029550020987433756, 0.21151643672950615], [0.035638729559341886, 0.35030712746466075, -0.15608887900485446, 0.6774152058115315, -0.7338828811739142, 0.376755055489012, 0.45307723148593215, 0.5029707067967433, -0.065879473541689, 0.141856000311112], [0.42281487314582145, 0.7164876714145298, -0.4024606233456074, 0.5010185292785114, -0.3946228004464001, -0.5193246207147899, 0.31474663347952947, -0.6894342757436327, -0.747580443690931, -0.18920081608965122], [-0.30630334765257006, 0.9767259940388107, -0.2312853974900193, -0.4998181538609121, -0.4888486357750359, 0.13404094387997323, 0.9689887828222445, -0.45930373332516106, 0.20096306264356256, 0.4219911400624963], [-0.1715387057653195, -0.13834364050737213, 0.8903160380210549, 0.8918401664647917, -0.09113620214581819, -0.0765158480892989, 0.9483620452353134, -0.3579719121075091, 0.4977464571817056, -0.6133096883089759], [-0.47024317535228954, -0.6985758632174341, -0.9088872213668262, 0.9675613290811724, 0.749428744795217, 0.3351759527655265, 0.41880839057212826, -0.2960641456766453, -0.38683804292611246, -0.02149391193715222], [-0.38569950258641206, -0.6750097056298443, -0.32753688144931115, -0.07121938517494075, 0.21543185909517826, -0.2530363847550523, -0.14182568405388918, 0.7140067261114922, -0.6181485116899796, 0.3243336620513866], [-0.1477711420653549, -0.12431653844181478, 0.881522236658743, 0.1908845429890207, -0.30968168480617075, -0.2121378869424042, -0.5897303149896662, 0.2016883717711324, -0.31556995616441474, -0.7141756525098502], [0.6243885560922617, -0.9481709400057736, 0.20522244657730582, -0.13590490869985405, -0.4679758825287015, -0.4790499132122812, -0.0001644695563394194, 0.8635491751118733, 0.40565243222688796, -0.07841340236559402], [0.06756524993165836, 0.4597971024539971, -0.8525263923916673, 0.5694689104420259, -0.2909794155891905, 0.8207914587405425, -0.24872785726789615, 0.2544501797089289, -0.13718301364696384, 0.7126670364022998], [-0.6078781741987691, 0.9590922561092718, 0.6685007720246856, -0.06824133389008846, -0.837025943272631, 0.6419034931554404, 0.6159945214925153, -0.23870311584516002, -0.6022628421836425, -0.6973725415215104]], \"type\": \"heatmap\", \"uid\": \"6b684e58-c1b2-408e-9f83-9d51c804673d\"}, {\"visible\": false, \"xaxis\": \"x101\", \"yaxis\": \"y101\", \"type\": \"heatmap\", \"uid\": \"1384c92a-58b2-45e7-870f-ca5d837c6ab0\"}, {\"visible\": false, \"xaxis\": \"x201\", \"yaxis\": \"y201\", \"type\": \"heatmap\", \"uid\": \"902372a9-63b2-4207-9628-17066a96f294\"}], {\"width\": 450, \"height\": 450, \"font\": {\"family\": \"Arial\", \"size\": 18}, \"titlefont\": {\"family\": \"Arial\", \"size\": 20}, \"margin\": {\"b\": 0, \"l\": 0, \"r\": 10}, \"xaxis\": {\"automargin\": true, \"zeroline\": false, \"showgrid\": false, \"ticks\": \"outside\", \"titlefont\": {\"family\": \"Arial\", \"size\": 20}, \"showline\": false, \"showticklabels\": true, \"ticklen\": 5, \"hoverformat\": \".f\", \"anchor\": \"y\", \"title\": \"horizontal\", \"range\": [0, 20], \"dtick\": 5, \"constrain\": \"domain\"}, \"xaxis101\": {\"automargin\": true, \"zeroline\": false, \"showgrid\": false, \"ticks\": \"outside\", \"showline\": false, \"showticklabels\": false, \"ticklen\": 5, \"overlaying\": \"x\", \"scaleanchor\": \"x\", \"side\": \"top\", \"anchor\": \"y\", \"range\": [0, 20], \"dtick\": 5, \"constrain\": \"domain\"}, \"xaxis201\": {\"automargin\": true, \"zeroline\": false, \"showgrid\": false, \"ticks\": \"outside\", \"showline\": true, \"showticklabels\": false, \"ticklen\": 3, \"mirror\": \"ticks\", \"overlaying\": \"x\", \"scaleanchor\": \"x\", \"anchor\": \"y\", \"range\": [0, 20], \"dtick\": 1.0, \"constrain\": \"domain\"}, \"yaxis\": {\"automargin\": true, \"zeroline\": false, \"showgrid\": false, \"ticks\": \"outside\", \"titlefont\": {\"family\": \"Arial\", \"size\": 20}, \"showline\": false, \"showticklabels\": true, \"ticklen\": 5, \"hoverformat\": \".f\", \"tickprefix\": \"\\u2009\", \"ticksuffix\": \"\\u2009\", \"anchor\": \"x\", \"title\": \"vertical\", \"range\": [0, 10], \"dtick\": 2, \"constrain\": \"domain\", \"scaleanchor\": \"x\"}, \"yaxis101\": {\"automargin\": true, \"zeroline\": false, \"showgrid\": false, \"ticks\": \"outside\", \"showline\": false, \"showticklabels\": false, \"ticklen\": 5, \"overlaying\": \"y\", \"scaleanchor\": \"y\", \"side\": \"right\", \"anchor\": \"x\", \"range\": [0, 10], \"dtick\": 2, \"constrain\": \"domain\"}, \"yaxis201\": {\"automargin\": true, \"zeroline\": false, \"showgrid\": false, \"ticks\": \"outside\", \"showline\": true, \"showticklabels\": false, \"ticklen\": 3, \"mirror\": \"ticks\", \"overlaying\": \"y\", \"scaleanchor\": \"y\", \"anchor\": \"x\", \"range\": [0, 10], \"dtick\": 0.5, \"constrain\": \"domain\"}, \"annotations\": [{\"font\": {\"family\": \"Arial\", \"size\": 20}, \"name\": \"title\", \"showarrow\": false, \"text\": \"Random numbers\", \"x\": 0.5, \"xanchor\": \"center\", \"xref\": \"paper\", \"y\": 1.0, \"yanchor\": \"bottom\", \"yref\": \"paper\", \"yshift\": 30}]}, {\"showLink\": false, \"linkText\": \"Export to plot.ly\", \"plotlyServerURL\": \"https://plot.ly\"})});</script>"
      ],
      "text/vnd.plotly.v1+html": [
       "<div id=\"cc1f8588-67d3-4668-bfc0-faa6320afc2e\" style=\"height: 450px; width: 450px;\" class=\"plotly-graph-div\"></div><script type=\"text/javascript\">require([\"plotly\"], function(Plotly) { window.PLOTLYENV=window.PLOTLYENV || {};window.PLOTLYENV.BASE_URL=\"https://plot.ly\";Plotly.newPlot(\"cc1f8588-67d3-4668-bfc0-faa6320afc2e\", [{\"transpose\": true, \"x\": [0, 1, 2, 3, 4, 5, 6, 7, 8, 9, 10, 11, 12, 13, 14, 15, 16, 17, 18, 19, 20], \"y\": [0, 1, 2, 3, 4, 5, 6, 7, 8, 9, 10], \"z\": [[0.6210281011933383, 0.24555529453580682, -0.2839960330751139, 0.4029248864076589, 0.00830391216364701, 0.16160377486673094, 0.36389430805011935, 0.3894043511298415, -0.7468683907039311, 0.02680113242443838], [0.9032323465618557, -0.5228036014466517, -0.6860668510650729, -0.9688567797527432, -0.19510392868478066, -0.09980561139654465, -0.6675186885226994, 0.9566394548367141, 0.9673314285350272, 0.5059631567541403], [-0.18638777525751338, 0.2402691785778981, -0.8447427105750795, 0.28027333859193804, -0.7543660131515444, -0.038903476116112, 0.33013406684133106, 0.7983043335531761, 0.9408578814850332, 0.5656730036425097], [-0.4768768004522803, -0.5772825939575987, 0.9144180871418706, -0.9004416308871106, 0.3432463352846915, -0.4607133104581018, 0.5279808069725929, -0.33838587763631156, 0.13274807091536744, -0.8234755890616521], [-0.5497952227777938, -0.1408359220989892, -0.7262179287198436, 0.7543509767120511, -0.6130247004203959, -0.17022044207339215, -0.5078648790277316, -0.5594621726960545, -0.23538230728962795, 0.7714753209927936], [-0.7640597000391265, -0.6653367450911705, -0.3118354703916817, -0.6282284896961587, -0.401918989104203, -0.7628309034694265, -0.9899487532866882, -0.6778744569576622, -0.44028381782007475, -0.6119709766324859], [-0.33735837943580194, 0.37740566237141104, -0.4950489074261615, 0.6495411121851398, 0.29238040953351807, -0.4544076274374287, 0.12365025139365216, -0.10995364625634907, 0.06756899059860966, -0.7076481636887413], [0.20224631006876903, -0.9190340400264159, -0.21678816413803892, -0.1769037745538573, 0.7994826491656497, 0.39093314787222844, 0.058082158475139645, 0.9154013443023179, 0.2567168710159351, -0.07338599785163935], [0.6981081605731512, -0.6403562107231888, -0.4702862128471059, 0.23740852557118863, 0.4903981853257504, -0.05567346686973229, 0.804955821337664, -0.42750541867391756, 0.7874706244966798, 0.1901170172993445], [0.27085435855491946, -0.731144746147679, -0.8388580922864184, 0.14567802135653918, -0.9701872950689165, 0.07002837501665304, 0.7958121663836797, -0.5526579077728047, -0.029550020987433756, 0.21151643672950615], [0.035638729559341886, 0.35030712746466075, -0.15608887900485446, 0.6774152058115315, -0.7338828811739142, 0.376755055489012, 0.45307723148593215, 0.5029707067967433, -0.065879473541689, 0.141856000311112], [0.42281487314582145, 0.7164876714145298, -0.4024606233456074, 0.5010185292785114, -0.3946228004464001, -0.5193246207147899, 0.31474663347952947, -0.6894342757436327, -0.747580443690931, -0.18920081608965122], [-0.30630334765257006, 0.9767259940388107, -0.2312853974900193, -0.4998181538609121, -0.4888486357750359, 0.13404094387997323, 0.9689887828222445, -0.45930373332516106, 0.20096306264356256, 0.4219911400624963], [-0.1715387057653195, -0.13834364050737213, 0.8903160380210549, 0.8918401664647917, -0.09113620214581819, -0.0765158480892989, 0.9483620452353134, -0.3579719121075091, 0.4977464571817056, -0.6133096883089759], [-0.47024317535228954, -0.6985758632174341, -0.9088872213668262, 0.9675613290811724, 0.749428744795217, 0.3351759527655265, 0.41880839057212826, -0.2960641456766453, -0.38683804292611246, -0.02149391193715222], [-0.38569950258641206, -0.6750097056298443, -0.32753688144931115, -0.07121938517494075, 0.21543185909517826, -0.2530363847550523, -0.14182568405388918, 0.7140067261114922, -0.6181485116899796, 0.3243336620513866], [-0.1477711420653549, -0.12431653844181478, 0.881522236658743, 0.1908845429890207, -0.30968168480617075, -0.2121378869424042, -0.5897303149896662, 0.2016883717711324, -0.31556995616441474, -0.7141756525098502], [0.6243885560922617, -0.9481709400057736, 0.20522244657730582, -0.13590490869985405, -0.4679758825287015, -0.4790499132122812, -0.0001644695563394194, 0.8635491751118733, 0.40565243222688796, -0.07841340236559402], [0.06756524993165836, 0.4597971024539971, -0.8525263923916673, 0.5694689104420259, -0.2909794155891905, 0.8207914587405425, -0.24872785726789615, 0.2544501797089289, -0.13718301364696384, 0.7126670364022998], [-0.6078781741987691, 0.9590922561092718, 0.6685007720246856, -0.06824133389008846, -0.837025943272631, 0.6419034931554404, 0.6159945214925153, -0.23870311584516002, -0.6022628421836425, -0.6973725415215104]], \"type\": \"heatmap\", \"uid\": \"6b684e58-c1b2-408e-9f83-9d51c804673d\"}, {\"visible\": false, \"xaxis\": \"x101\", \"yaxis\": \"y101\", \"type\": \"heatmap\", \"uid\": \"1384c92a-58b2-45e7-870f-ca5d837c6ab0\"}, {\"visible\": false, \"xaxis\": \"x201\", \"yaxis\": \"y201\", \"type\": \"heatmap\", \"uid\": \"902372a9-63b2-4207-9628-17066a96f294\"}], {\"width\": 450, \"height\": 450, \"font\": {\"family\": \"Arial\", \"size\": 18}, \"titlefont\": {\"family\": \"Arial\", \"size\": 20}, \"margin\": {\"b\": 0, \"l\": 0, \"r\": 10}, \"xaxis\": {\"automargin\": true, \"zeroline\": false, \"showgrid\": false, \"ticks\": \"outside\", \"titlefont\": {\"family\": \"Arial\", \"size\": 20}, \"showline\": false, \"showticklabels\": true, \"ticklen\": 5, \"hoverformat\": \".f\", \"anchor\": \"y\", \"title\": \"horizontal\", \"range\": [0, 20], \"dtick\": 5, \"constrain\": \"domain\"}, \"xaxis101\": {\"automargin\": true, \"zeroline\": false, \"showgrid\": false, \"ticks\": \"outside\", \"showline\": false, \"showticklabels\": false, \"ticklen\": 5, \"overlaying\": \"x\", \"scaleanchor\": \"x\", \"side\": \"top\", \"anchor\": \"y\", \"range\": [0, 20], \"dtick\": 5, \"constrain\": \"domain\"}, \"xaxis201\": {\"automargin\": true, \"zeroline\": false, \"showgrid\": false, \"ticks\": \"outside\", \"showline\": true, \"showticklabels\": false, \"ticklen\": 3, \"mirror\": \"ticks\", \"overlaying\": \"x\", \"scaleanchor\": \"x\", \"anchor\": \"y\", \"range\": [0, 20], \"dtick\": 1.0, \"constrain\": \"domain\"}, \"yaxis\": {\"automargin\": true, \"zeroline\": false, \"showgrid\": false, \"ticks\": \"outside\", \"titlefont\": {\"family\": \"Arial\", \"size\": 20}, \"showline\": false, \"showticklabels\": true, \"ticklen\": 5, \"hoverformat\": \".f\", \"tickprefix\": \"\\u2009\", \"ticksuffix\": \"\\u2009\", \"anchor\": \"x\", \"title\": \"vertical\", \"range\": [0, 10], \"dtick\": 2, \"constrain\": \"domain\", \"scaleanchor\": \"x\"}, \"yaxis101\": {\"automargin\": true, \"zeroline\": false, \"showgrid\": false, \"ticks\": \"outside\", \"showline\": false, \"showticklabels\": false, \"ticklen\": 5, \"overlaying\": \"y\", \"scaleanchor\": \"y\", \"side\": \"right\", \"anchor\": \"x\", \"range\": [0, 10], \"dtick\": 2, \"constrain\": \"domain\"}, \"yaxis201\": {\"automargin\": true, \"zeroline\": false, \"showgrid\": false, \"ticks\": \"outside\", \"showline\": true, \"showticklabels\": false, \"ticklen\": 3, \"mirror\": \"ticks\", \"overlaying\": \"y\", \"scaleanchor\": \"y\", \"anchor\": \"x\", \"range\": [0, 10], \"dtick\": 0.5, \"constrain\": \"domain\"}, \"annotations\": [{\"font\": {\"family\": \"Arial\", \"size\": 20}, \"name\": \"title\", \"showarrow\": false, \"text\": \"Random numbers\", \"x\": 0.5, \"xanchor\": \"center\", \"xref\": \"paper\", \"y\": 1.0, \"yanchor\": \"bottom\", \"yref\": \"paper\", \"yshift\": 30}]}, {\"showLink\": false, \"linkText\": \"Export to plot.ly\", \"plotlyServerURL\": \"https://plot.ly\"})});</script>"
      ]
     },
     "metadata": {},
     "output_type": "display_data"
    },
    {
     "data": {
      "text/html": [
       "<button onclick=\"download_plotly_image('cc1f8588-67d3-4668-bfc0-faa6320afc2e', 'svg', 450, 450, 'plot-20190212-053230')\">\n",
       "  Download Image as <span style=\"text-transform:uppercase;\">svg</span>\n",
       "</button>\n",
       "<script>\n",
       "  if (window.Jupyter)\n",
       "  {\n",
       "    hide_draggable_elements(\"cc1f8588-67d3-4668-bfc0-faa6320afc2e\");\n",
       "    remove_autoscale_button(\"cc1f8588-67d3-4668-bfc0-faa6320afc2e\");\n",
       "  }\n",
       "  else\n",
       "  {\n",
       "    window.addEventListener(\"load\", () =>\n",
       "    {\n",
       "      hide_draggable_elements(\"cc1f8588-67d3-4668-bfc0-faa6320afc2e\");\n",
       "      remove_autoscale_button(\"cc1f8588-67d3-4668-bfc0-faa6320afc2e\");\n",
       "    });\n",
       "  }\n",
       "</script>\n"
      ],
      "text/plain": [
       "<IPython.core.display.HTML object>"
      ]
     },
     "metadata": {},
     "output_type": "display_data"
    }
   ],
   "source": [
    "plt.show(heatmap2)"
   ]
  },
  {
   "cell_type": "markdown",
   "metadata": {},
   "source": [
    "## Customize Heatmap"
   ]
  },
  {
   "cell_type": "markdown",
   "metadata": {},
   "source": [
    "For details about the following settings, executing `help(tk.go.Heatmap)` will help you."
   ]
  },
  {
   "cell_type": "code",
   "execution_count": 9,
   "metadata": {
    "ExecuteTime": {
     "end_time": "2019-02-12T05:32:31.720418Z",
     "start_time": "2019-02-12T05:32:31.710074Z"
    }
   },
   "outputs": [],
   "source": [
    "heatmap[0].update({\n",
    "  \"zmin\": -1,\n",
    "  \"zmax\": 1,\n",
    "  \"colorbar\": {\n",
    "    \"tickformat\": \".1f\",\n",
    "    \"len\": 0.6,\n",
    "    \"thickness\": 20,\n",
    "    \"title\": \"number<br>&nbsp;\",  # space between colorbar and its title\n",
    "    \"xpad\": 40\n",
    "  }\n",
    "});"
   ]
  },
  {
   "cell_type": "markdown",
   "metadata": {},
   "source": [
    "The below `space` parameter specifies space (gap) between the title strings and plot domain.\n",
    "If the actual plot area shrinks for some reason, tuning `space` might be useful.\n",
    "Note that default is `space=30` in pixel."
   ]
  },
  {
   "cell_type": "code",
   "execution_count": 10,
   "metadata": {
    "ExecuteTime": {
     "end_time": "2019-02-12T05:32:31.745446Z",
     "start_time": "2019-02-12T05:32:31.725431Z"
    }
   },
   "outputs": [],
   "source": [
    "plt.set_title(\"Random numbers\", space=-30)"
   ]
  },
  {
   "cell_type": "code",
   "execution_count": 11,
   "metadata": {
    "ExecuteTime": {
     "end_time": "2019-02-12T05:32:31.777157Z",
     "start_time": "2019-02-12T05:32:31.757025Z"
    }
   },
   "outputs": [],
   "source": [
    "plt.layout.width = 700"
   ]
  },
  {
   "cell_type": "code",
   "execution_count": 12,
   "metadata": {
    "ExecuteTime": {
     "end_time": "2019-02-12T05:32:32.847705Z",
     "start_time": "2019-02-12T05:32:31.784749Z"
    }
   },
   "outputs": [
    {
     "data": {
      "application/vnd.plotly.v1+json": {
       "config": {
        "linkText": "Export to plot.ly",
        "plotlyServerURL": "https://plot.ly",
        "showLink": false
       },
       "data": [
        {
         "colorbar": {
          "len": 0.6,
          "thickness": 20,
          "tickformat": ".1f",
          "title": {
           "text": "number<br>&nbsp;"
          },
          "xpad": 40
         },
         "dx": 1,
         "dy": 1,
         "transpose": true,
         "type": "heatmap",
         "uid": "0b8b35e8-c822-47bf-8ec9-91600013fd85",
         "x": [
          0,
          1,
          2,
          3,
          4,
          5,
          6,
          7,
          8,
          9,
          10,
          11,
          12,
          13,
          14,
          15,
          16,
          17,
          18,
          19,
          20
         ],
         "y": [
          0,
          1,
          2,
          3,
          4,
          5,
          6,
          7,
          8,
          9,
          10
         ],
         "z": [
          [
           0.6210281011933383,
           0.24555529453580682,
           -0.2839960330751139,
           0.4029248864076589,
           0.00830391216364701,
           0.16160377486673094,
           0.36389430805011935,
           0.3894043511298415,
           -0.7468683907039311,
           0.02680113242443838
          ],
          [
           0.9032323465618557,
           -0.5228036014466517,
           -0.6860668510650729,
           -0.9688567797527432,
           -0.19510392868478066,
           -0.09980561139654465,
           -0.6675186885226994,
           0.9566394548367141,
           0.9673314285350272,
           0.5059631567541403
          ],
          [
           -0.18638777525751338,
           0.2402691785778981,
           -0.8447427105750795,
           0.28027333859193804,
           -0.7543660131515444,
           -0.038903476116112,
           0.33013406684133106,
           0.7983043335531761,
           0.9408578814850332,
           0.5656730036425097
          ],
          [
           -0.4768768004522803,
           -0.5772825939575987,
           0.9144180871418706,
           -0.9004416308871106,
           0.3432463352846915,
           -0.4607133104581018,
           0.5279808069725929,
           -0.33838587763631156,
           0.13274807091536744,
           -0.8234755890616521
          ],
          [
           -0.5497952227777938,
           -0.1408359220989892,
           -0.7262179287198436,
           0.7543509767120511,
           -0.6130247004203959,
           -0.17022044207339215,
           -0.5078648790277316,
           -0.5594621726960545,
           -0.23538230728962795,
           0.7714753209927936
          ],
          [
           -0.7640597000391265,
           -0.6653367450911705,
           -0.3118354703916817,
           -0.6282284896961587,
           -0.401918989104203,
           -0.7628309034694265,
           -0.9899487532866882,
           -0.6778744569576622,
           -0.44028381782007475,
           -0.6119709766324859
          ],
          [
           -0.33735837943580194,
           0.37740566237141104,
           -0.4950489074261615,
           0.6495411121851398,
           0.29238040953351807,
           -0.4544076274374287,
           0.12365025139365216,
           -0.10995364625634907,
           0.06756899059860966,
           -0.7076481636887413
          ],
          [
           0.20224631006876903,
           -0.9190340400264159,
           -0.21678816413803892,
           -0.1769037745538573,
           0.7994826491656497,
           0.39093314787222844,
           0.058082158475139645,
           0.9154013443023179,
           0.2567168710159351,
           -0.07338599785163935
          ],
          [
           0.6981081605731512,
           -0.6403562107231888,
           -0.4702862128471059,
           0.23740852557118863,
           0.4903981853257504,
           -0.05567346686973229,
           0.804955821337664,
           -0.42750541867391756,
           0.7874706244966798,
           0.1901170172993445
          ],
          [
           0.27085435855491946,
           -0.731144746147679,
           -0.8388580922864184,
           0.14567802135653918,
           -0.9701872950689165,
           0.07002837501665304,
           0.7958121663836797,
           -0.5526579077728047,
           -0.029550020987433756,
           0.21151643672950615
          ],
          [
           0.035638729559341886,
           0.35030712746466075,
           -0.15608887900485446,
           0.6774152058115315,
           -0.7338828811739142,
           0.376755055489012,
           0.45307723148593215,
           0.5029707067967433,
           -0.065879473541689,
           0.141856000311112
          ],
          [
           0.42281487314582145,
           0.7164876714145298,
           -0.4024606233456074,
           0.5010185292785114,
           -0.3946228004464001,
           -0.5193246207147899,
           0.31474663347952947,
           -0.6894342757436327,
           -0.747580443690931,
           -0.18920081608965122
          ],
          [
           -0.30630334765257006,
           0.9767259940388107,
           -0.2312853974900193,
           -0.4998181538609121,
           -0.4888486357750359,
           0.13404094387997323,
           0.9689887828222445,
           -0.45930373332516106,
           0.20096306264356256,
           0.4219911400624963
          ],
          [
           -0.1715387057653195,
           -0.13834364050737213,
           0.8903160380210549,
           0.8918401664647917,
           -0.09113620214581819,
           -0.0765158480892989,
           0.9483620452353134,
           -0.3579719121075091,
           0.4977464571817056,
           -0.6133096883089759
          ],
          [
           -0.47024317535228954,
           -0.6985758632174341,
           -0.9088872213668262,
           0.9675613290811724,
           0.749428744795217,
           0.3351759527655265,
           0.41880839057212826,
           -0.2960641456766453,
           -0.38683804292611246,
           -0.02149391193715222
          ],
          [
           -0.38569950258641206,
           -0.6750097056298443,
           -0.32753688144931115,
           -0.07121938517494075,
           0.21543185909517826,
           -0.2530363847550523,
           -0.14182568405388918,
           0.7140067261114922,
           -0.6181485116899796,
           0.3243336620513866
          ],
          [
           -0.1477711420653549,
           -0.12431653844181478,
           0.881522236658743,
           0.1908845429890207,
           -0.30968168480617075,
           -0.2121378869424042,
           -0.5897303149896662,
           0.2016883717711324,
           -0.31556995616441474,
           -0.7141756525098502
          ],
          [
           0.6243885560922617,
           -0.9481709400057736,
           0.20522244657730582,
           -0.13590490869985405,
           -0.4679758825287015,
           -0.4790499132122812,
           -0.0001644695563394194,
           0.8635491751118733,
           0.40565243222688796,
           -0.07841340236559402
          ],
          [
           0.06756524993165836,
           0.4597971024539971,
           -0.8525263923916673,
           0.5694689104420259,
           -0.2909794155891905,
           0.8207914587405425,
           -0.24872785726789615,
           0.2544501797089289,
           -0.13718301364696384,
           0.7126670364022998
          ],
          [
           -0.6078781741987691,
           0.9590922561092718,
           0.6685007720246856,
           -0.06824133389008846,
           -0.837025943272631,
           0.6419034931554404,
           0.6159945214925153,
           -0.23870311584516002,
           -0.6022628421836425,
           -0.6973725415215104
          ]
         ],
         "zmax": 1,
         "zmin": -1
        },
        {
         "type": "heatmap",
         "uid": "b9ad051f-17f9-4006-ba67-af0d505613bb",
         "visible": false,
         "xaxis": "x101",
         "yaxis": "y101"
        },
        {
         "type": "heatmap",
         "uid": "b21b870a-f259-4a0f-abd1-60f21582e449",
         "visible": false,
         "xaxis": "x201",
         "yaxis": "y201"
        }
       ],
       "layout": {
        "annotations": [
         {
          "font": {
           "family": "Arial",
           "size": 20
          },
          "name": "title",
          "showarrow": false,
          "text": "Random numbers",
          "x": 0.5,
          "xanchor": "center",
          "xref": "paper",
          "y": 1,
          "yanchor": "bottom",
          "yref": "paper",
          "yshift": -30
         }
        ],
        "font": {
         "family": "Arial",
         "size": 18
        },
        "height": 450,
        "margin": {
         "b": 0,
         "l": 0,
         "r": 10
        },
        "titlefont": {
         "family": "Arial",
         "size": 20
        },
        "width": 700,
        "xaxis": {
         "anchor": "y",
         "automargin": true,
         "constrain": "domain",
         "dtick": 5,
         "hoverformat": ".f",
         "range": [
          0,
          20
         ],
         "showgrid": false,
         "showline": false,
         "showticklabels": true,
         "ticklen": 5,
         "ticks": "outside",
         "title": "horizontal",
         "titlefont": {
          "family": "Arial",
          "size": 20
         },
         "zeroline": false
        },
        "xaxis101": {
         "anchor": "y",
         "automargin": true,
         "constrain": "domain",
         "dtick": 5,
         "overlaying": "x",
         "range": [
          0,
          20
         ],
         "scaleanchor": "x",
         "showgrid": false,
         "showline": false,
         "showticklabels": false,
         "side": "top",
         "ticklen": 5,
         "ticks": "outside",
         "zeroline": false
        },
        "xaxis201": {
         "anchor": "y",
         "automargin": true,
         "constrain": "domain",
         "dtick": 1,
         "mirror": "ticks",
         "overlaying": "x",
         "range": [
          0,
          20
         ],
         "scaleanchor": "x",
         "showgrid": false,
         "showline": true,
         "showticklabels": false,
         "ticklen": 3,
         "ticks": "outside",
         "zeroline": false
        },
        "yaxis": {
         "anchor": "x",
         "automargin": true,
         "constrain": "domain",
         "dtick": 2,
         "hoverformat": ".f",
         "range": [
          0,
          10
         ],
         "scaleanchor": "x",
         "showgrid": false,
         "showline": false,
         "showticklabels": true,
         "ticklen": 5,
         "tickprefix": " ",
         "ticks": "outside",
         "ticksuffix": " ",
         "title": "vertical",
         "titlefont": {
          "family": "Arial",
          "size": 20
         },
         "zeroline": false
        },
        "yaxis101": {
         "anchor": "x",
         "automargin": true,
         "constrain": "domain",
         "dtick": 2,
         "overlaying": "y",
         "range": [
          0,
          10
         ],
         "scaleanchor": "y",
         "showgrid": false,
         "showline": false,
         "showticklabels": false,
         "side": "right",
         "ticklen": 5,
         "ticks": "outside",
         "zeroline": false
        },
        "yaxis201": {
         "anchor": "x",
         "automargin": true,
         "constrain": "domain",
         "dtick": 0.5,
         "mirror": "ticks",
         "overlaying": "y",
         "range": [
          0,
          10
         ],
         "scaleanchor": "y",
         "showgrid": false,
         "showline": true,
         "showticklabels": false,
         "ticklen": 3,
         "ticks": "outside",
         "zeroline": false
        }
       }
      },
      "text/html": [
       "<div id=\"47d0a25c-8148-494d-aca0-a2125d3ac6a8\" style=\"height: 450px; width: 700px;\" class=\"plotly-graph-div\"></div><script type=\"text/javascript\">require([\"plotly\"], function(Plotly) { window.PLOTLYENV=window.PLOTLYENV || {};window.PLOTLYENV.BASE_URL=\"https://plot.ly\";Plotly.newPlot(\"47d0a25c-8148-494d-aca0-a2125d3ac6a8\", [{\"colorbar\": {\"len\": 0.6, \"thickness\": 20, \"tickformat\": \".1f\", \"title\": {\"text\": \"number<br>&nbsp;\"}, \"xpad\": 40}, \"dx\": 1, \"dy\": 1, \"transpose\": true, \"x\": [0, 1, 2, 3, 4, 5, 6, 7, 8, 9, 10, 11, 12, 13, 14, 15, 16, 17, 18, 19, 20], \"y\": [0, 1, 2, 3, 4, 5, 6, 7, 8, 9, 10], \"z\": [[0.6210281011933383, 0.24555529453580682, -0.2839960330751139, 0.4029248864076589, 0.00830391216364701, 0.16160377486673094, 0.36389430805011935, 0.3894043511298415, -0.7468683907039311, 0.02680113242443838], [0.9032323465618557, -0.5228036014466517, -0.6860668510650729, -0.9688567797527432, -0.19510392868478066, -0.09980561139654465, -0.6675186885226994, 0.9566394548367141, 0.9673314285350272, 0.5059631567541403], [-0.18638777525751338, 0.2402691785778981, -0.8447427105750795, 0.28027333859193804, -0.7543660131515444, -0.038903476116112, 0.33013406684133106, 0.7983043335531761, 0.9408578814850332, 0.5656730036425097], [-0.4768768004522803, -0.5772825939575987, 0.9144180871418706, -0.9004416308871106, 0.3432463352846915, -0.4607133104581018, 0.5279808069725929, -0.33838587763631156, 0.13274807091536744, -0.8234755890616521], [-0.5497952227777938, -0.1408359220989892, -0.7262179287198436, 0.7543509767120511, -0.6130247004203959, -0.17022044207339215, -0.5078648790277316, -0.5594621726960545, -0.23538230728962795, 0.7714753209927936], [-0.7640597000391265, -0.6653367450911705, -0.3118354703916817, -0.6282284896961587, -0.401918989104203, -0.7628309034694265, -0.9899487532866882, -0.6778744569576622, -0.44028381782007475, -0.6119709766324859], [-0.33735837943580194, 0.37740566237141104, -0.4950489074261615, 0.6495411121851398, 0.29238040953351807, -0.4544076274374287, 0.12365025139365216, -0.10995364625634907, 0.06756899059860966, -0.7076481636887413], [0.20224631006876903, -0.9190340400264159, -0.21678816413803892, -0.1769037745538573, 0.7994826491656497, 0.39093314787222844, 0.058082158475139645, 0.9154013443023179, 0.2567168710159351, -0.07338599785163935], [0.6981081605731512, -0.6403562107231888, -0.4702862128471059, 0.23740852557118863, 0.4903981853257504, -0.05567346686973229, 0.804955821337664, -0.42750541867391756, 0.7874706244966798, 0.1901170172993445], [0.27085435855491946, -0.731144746147679, -0.8388580922864184, 0.14567802135653918, -0.9701872950689165, 0.07002837501665304, 0.7958121663836797, -0.5526579077728047, -0.029550020987433756, 0.21151643672950615], [0.035638729559341886, 0.35030712746466075, -0.15608887900485446, 0.6774152058115315, -0.7338828811739142, 0.376755055489012, 0.45307723148593215, 0.5029707067967433, -0.065879473541689, 0.141856000311112], [0.42281487314582145, 0.7164876714145298, -0.4024606233456074, 0.5010185292785114, -0.3946228004464001, -0.5193246207147899, 0.31474663347952947, -0.6894342757436327, -0.747580443690931, -0.18920081608965122], [-0.30630334765257006, 0.9767259940388107, -0.2312853974900193, -0.4998181538609121, -0.4888486357750359, 0.13404094387997323, 0.9689887828222445, -0.45930373332516106, 0.20096306264356256, 0.4219911400624963], [-0.1715387057653195, -0.13834364050737213, 0.8903160380210549, 0.8918401664647917, -0.09113620214581819, -0.0765158480892989, 0.9483620452353134, -0.3579719121075091, 0.4977464571817056, -0.6133096883089759], [-0.47024317535228954, -0.6985758632174341, -0.9088872213668262, 0.9675613290811724, 0.749428744795217, 0.3351759527655265, 0.41880839057212826, -0.2960641456766453, -0.38683804292611246, -0.02149391193715222], [-0.38569950258641206, -0.6750097056298443, -0.32753688144931115, -0.07121938517494075, 0.21543185909517826, -0.2530363847550523, -0.14182568405388918, 0.7140067261114922, -0.6181485116899796, 0.3243336620513866], [-0.1477711420653549, -0.12431653844181478, 0.881522236658743, 0.1908845429890207, -0.30968168480617075, -0.2121378869424042, -0.5897303149896662, 0.2016883717711324, -0.31556995616441474, -0.7141756525098502], [0.6243885560922617, -0.9481709400057736, 0.20522244657730582, -0.13590490869985405, -0.4679758825287015, -0.4790499132122812, -0.0001644695563394194, 0.8635491751118733, 0.40565243222688796, -0.07841340236559402], [0.06756524993165836, 0.4597971024539971, -0.8525263923916673, 0.5694689104420259, -0.2909794155891905, 0.8207914587405425, -0.24872785726789615, 0.2544501797089289, -0.13718301364696384, 0.7126670364022998], [-0.6078781741987691, 0.9590922561092718, 0.6685007720246856, -0.06824133389008846, -0.837025943272631, 0.6419034931554404, 0.6159945214925153, -0.23870311584516002, -0.6022628421836425, -0.6973725415215104]], \"zmax\": 1, \"zmin\": -1, \"type\": \"heatmap\", \"uid\": \"0b8b35e8-c822-47bf-8ec9-91600013fd85\"}, {\"visible\": false, \"xaxis\": \"x101\", \"yaxis\": \"y101\", \"type\": \"heatmap\", \"uid\": \"b9ad051f-17f9-4006-ba67-af0d505613bb\"}, {\"visible\": false, \"xaxis\": \"x201\", \"yaxis\": \"y201\", \"type\": \"heatmap\", \"uid\": \"b21b870a-f259-4a0f-abd1-60f21582e449\"}], {\"width\": 700, \"height\": 450, \"font\": {\"family\": \"Arial\", \"size\": 18}, \"titlefont\": {\"family\": \"Arial\", \"size\": 20}, \"margin\": {\"b\": 0, \"l\": 0, \"r\": 10}, \"xaxis\": {\"automargin\": true, \"zeroline\": false, \"showgrid\": false, \"ticks\": \"outside\", \"titlefont\": {\"family\": \"Arial\", \"size\": 20}, \"showline\": false, \"showticklabels\": true, \"ticklen\": 5, \"hoverformat\": \".f\", \"anchor\": \"y\", \"title\": \"horizontal\", \"range\": [0, 20], \"dtick\": 5, \"constrain\": \"domain\"}, \"xaxis101\": {\"automargin\": true, \"zeroline\": false, \"showgrid\": false, \"ticks\": \"outside\", \"showline\": false, \"showticklabels\": false, \"ticklen\": 5, \"overlaying\": \"x\", \"scaleanchor\": \"x\", \"side\": \"top\", \"anchor\": \"y\", \"range\": [0, 20], \"dtick\": 5, \"constrain\": \"domain\"}, \"xaxis201\": {\"automargin\": true, \"zeroline\": false, \"showgrid\": false, \"ticks\": \"outside\", \"showline\": true, \"showticklabels\": false, \"ticklen\": 3, \"mirror\": \"ticks\", \"overlaying\": \"x\", \"scaleanchor\": \"x\", \"anchor\": \"y\", \"range\": [0, 20], \"dtick\": 1.0, \"constrain\": \"domain\"}, \"yaxis\": {\"automargin\": true, \"zeroline\": false, \"showgrid\": false, \"ticks\": \"outside\", \"titlefont\": {\"family\": \"Arial\", \"size\": 20}, \"showline\": false, \"showticklabels\": true, \"ticklen\": 5, \"hoverformat\": \".f\", \"tickprefix\": \"\\u2009\", \"ticksuffix\": \"\\u2009\", \"anchor\": \"x\", \"title\": \"vertical\", \"range\": [0, 10], \"dtick\": 2, \"constrain\": \"domain\", \"scaleanchor\": \"x\"}, \"yaxis101\": {\"automargin\": true, \"zeroline\": false, \"showgrid\": false, \"ticks\": \"outside\", \"showline\": false, \"showticklabels\": false, \"ticklen\": 5, \"overlaying\": \"y\", \"scaleanchor\": \"y\", \"side\": \"right\", \"anchor\": \"x\", \"range\": [0, 10], \"dtick\": 2, \"constrain\": \"domain\"}, \"yaxis201\": {\"automargin\": true, \"zeroline\": false, \"showgrid\": false, \"ticks\": \"outside\", \"showline\": true, \"showticklabels\": false, \"ticklen\": 3, \"mirror\": \"ticks\", \"overlaying\": \"y\", \"scaleanchor\": \"y\", \"anchor\": \"x\", \"range\": [0, 10], \"dtick\": 0.5, \"constrain\": \"domain\"}, \"annotations\": [{\"font\": {\"family\": \"Arial\", \"size\": 20}, \"name\": \"title\", \"showarrow\": false, \"text\": \"Random numbers\", \"x\": 0.5, \"xanchor\": \"center\", \"xref\": \"paper\", \"y\": 1.0, \"yanchor\": \"bottom\", \"yref\": \"paper\", \"yshift\": -30}]}, {\"showLink\": false, \"linkText\": \"Export to plot.ly\", \"plotlyServerURL\": \"https://plot.ly\"})});</script>"
      ],
      "text/vnd.plotly.v1+html": [
       "<div id=\"47d0a25c-8148-494d-aca0-a2125d3ac6a8\" style=\"height: 450px; width: 700px;\" class=\"plotly-graph-div\"></div><script type=\"text/javascript\">require([\"plotly\"], function(Plotly) { window.PLOTLYENV=window.PLOTLYENV || {};window.PLOTLYENV.BASE_URL=\"https://plot.ly\";Plotly.newPlot(\"47d0a25c-8148-494d-aca0-a2125d3ac6a8\", [{\"colorbar\": {\"len\": 0.6, \"thickness\": 20, \"tickformat\": \".1f\", \"title\": {\"text\": \"number<br>&nbsp;\"}, \"xpad\": 40}, \"dx\": 1, \"dy\": 1, \"transpose\": true, \"x\": [0, 1, 2, 3, 4, 5, 6, 7, 8, 9, 10, 11, 12, 13, 14, 15, 16, 17, 18, 19, 20], \"y\": [0, 1, 2, 3, 4, 5, 6, 7, 8, 9, 10], \"z\": [[0.6210281011933383, 0.24555529453580682, -0.2839960330751139, 0.4029248864076589, 0.00830391216364701, 0.16160377486673094, 0.36389430805011935, 0.3894043511298415, -0.7468683907039311, 0.02680113242443838], [0.9032323465618557, -0.5228036014466517, -0.6860668510650729, -0.9688567797527432, -0.19510392868478066, -0.09980561139654465, -0.6675186885226994, 0.9566394548367141, 0.9673314285350272, 0.5059631567541403], [-0.18638777525751338, 0.2402691785778981, -0.8447427105750795, 0.28027333859193804, -0.7543660131515444, -0.038903476116112, 0.33013406684133106, 0.7983043335531761, 0.9408578814850332, 0.5656730036425097], [-0.4768768004522803, -0.5772825939575987, 0.9144180871418706, -0.9004416308871106, 0.3432463352846915, -0.4607133104581018, 0.5279808069725929, -0.33838587763631156, 0.13274807091536744, -0.8234755890616521], [-0.5497952227777938, -0.1408359220989892, -0.7262179287198436, 0.7543509767120511, -0.6130247004203959, -0.17022044207339215, -0.5078648790277316, -0.5594621726960545, -0.23538230728962795, 0.7714753209927936], [-0.7640597000391265, -0.6653367450911705, -0.3118354703916817, -0.6282284896961587, -0.401918989104203, -0.7628309034694265, -0.9899487532866882, -0.6778744569576622, -0.44028381782007475, -0.6119709766324859], [-0.33735837943580194, 0.37740566237141104, -0.4950489074261615, 0.6495411121851398, 0.29238040953351807, -0.4544076274374287, 0.12365025139365216, -0.10995364625634907, 0.06756899059860966, -0.7076481636887413], [0.20224631006876903, -0.9190340400264159, -0.21678816413803892, -0.1769037745538573, 0.7994826491656497, 0.39093314787222844, 0.058082158475139645, 0.9154013443023179, 0.2567168710159351, -0.07338599785163935], [0.6981081605731512, -0.6403562107231888, -0.4702862128471059, 0.23740852557118863, 0.4903981853257504, -0.05567346686973229, 0.804955821337664, -0.42750541867391756, 0.7874706244966798, 0.1901170172993445], [0.27085435855491946, -0.731144746147679, -0.8388580922864184, 0.14567802135653918, -0.9701872950689165, 0.07002837501665304, 0.7958121663836797, -0.5526579077728047, -0.029550020987433756, 0.21151643672950615], [0.035638729559341886, 0.35030712746466075, -0.15608887900485446, 0.6774152058115315, -0.7338828811739142, 0.376755055489012, 0.45307723148593215, 0.5029707067967433, -0.065879473541689, 0.141856000311112], [0.42281487314582145, 0.7164876714145298, -0.4024606233456074, 0.5010185292785114, -0.3946228004464001, -0.5193246207147899, 0.31474663347952947, -0.6894342757436327, -0.747580443690931, -0.18920081608965122], [-0.30630334765257006, 0.9767259940388107, -0.2312853974900193, -0.4998181538609121, -0.4888486357750359, 0.13404094387997323, 0.9689887828222445, -0.45930373332516106, 0.20096306264356256, 0.4219911400624963], [-0.1715387057653195, -0.13834364050737213, 0.8903160380210549, 0.8918401664647917, -0.09113620214581819, -0.0765158480892989, 0.9483620452353134, -0.3579719121075091, 0.4977464571817056, -0.6133096883089759], [-0.47024317535228954, -0.6985758632174341, -0.9088872213668262, 0.9675613290811724, 0.749428744795217, 0.3351759527655265, 0.41880839057212826, -0.2960641456766453, -0.38683804292611246, -0.02149391193715222], [-0.38569950258641206, -0.6750097056298443, -0.32753688144931115, -0.07121938517494075, 0.21543185909517826, -0.2530363847550523, -0.14182568405388918, 0.7140067261114922, -0.6181485116899796, 0.3243336620513866], [-0.1477711420653549, -0.12431653844181478, 0.881522236658743, 0.1908845429890207, -0.30968168480617075, -0.2121378869424042, -0.5897303149896662, 0.2016883717711324, -0.31556995616441474, -0.7141756525098502], [0.6243885560922617, -0.9481709400057736, 0.20522244657730582, -0.13590490869985405, -0.4679758825287015, -0.4790499132122812, -0.0001644695563394194, 0.8635491751118733, 0.40565243222688796, -0.07841340236559402], [0.06756524993165836, 0.4597971024539971, -0.8525263923916673, 0.5694689104420259, -0.2909794155891905, 0.8207914587405425, -0.24872785726789615, 0.2544501797089289, -0.13718301364696384, 0.7126670364022998], [-0.6078781741987691, 0.9590922561092718, 0.6685007720246856, -0.06824133389008846, -0.837025943272631, 0.6419034931554404, 0.6159945214925153, -0.23870311584516002, -0.6022628421836425, -0.6973725415215104]], \"zmax\": 1, \"zmin\": -1, \"type\": \"heatmap\", \"uid\": \"0b8b35e8-c822-47bf-8ec9-91600013fd85\"}, {\"visible\": false, \"xaxis\": \"x101\", \"yaxis\": \"y101\", \"type\": \"heatmap\", \"uid\": \"b9ad051f-17f9-4006-ba67-af0d505613bb\"}, {\"visible\": false, \"xaxis\": \"x201\", \"yaxis\": \"y201\", \"type\": \"heatmap\", \"uid\": \"b21b870a-f259-4a0f-abd1-60f21582e449\"}], {\"width\": 700, \"height\": 450, \"font\": {\"family\": \"Arial\", \"size\": 18}, \"titlefont\": {\"family\": \"Arial\", \"size\": 20}, \"margin\": {\"b\": 0, \"l\": 0, \"r\": 10}, \"xaxis\": {\"automargin\": true, \"zeroline\": false, \"showgrid\": false, \"ticks\": \"outside\", \"titlefont\": {\"family\": \"Arial\", \"size\": 20}, \"showline\": false, \"showticklabels\": true, \"ticklen\": 5, \"hoverformat\": \".f\", \"anchor\": \"y\", \"title\": \"horizontal\", \"range\": [0, 20], \"dtick\": 5, \"constrain\": \"domain\"}, \"xaxis101\": {\"automargin\": true, \"zeroline\": false, \"showgrid\": false, \"ticks\": \"outside\", \"showline\": false, \"showticklabels\": false, \"ticklen\": 5, \"overlaying\": \"x\", \"scaleanchor\": \"x\", \"side\": \"top\", \"anchor\": \"y\", \"range\": [0, 20], \"dtick\": 5, \"constrain\": \"domain\"}, \"xaxis201\": {\"automargin\": true, \"zeroline\": false, \"showgrid\": false, \"ticks\": \"outside\", \"showline\": true, \"showticklabels\": false, \"ticklen\": 3, \"mirror\": \"ticks\", \"overlaying\": \"x\", \"scaleanchor\": \"x\", \"anchor\": \"y\", \"range\": [0, 20], \"dtick\": 1.0, \"constrain\": \"domain\"}, \"yaxis\": {\"automargin\": true, \"zeroline\": false, \"showgrid\": false, \"ticks\": \"outside\", \"titlefont\": {\"family\": \"Arial\", \"size\": 20}, \"showline\": false, \"showticklabels\": true, \"ticklen\": 5, \"hoverformat\": \".f\", \"tickprefix\": \"\\u2009\", \"ticksuffix\": \"\\u2009\", \"anchor\": \"x\", \"title\": \"vertical\", \"range\": [0, 10], \"dtick\": 2, \"constrain\": \"domain\", \"scaleanchor\": \"x\"}, \"yaxis101\": {\"automargin\": true, \"zeroline\": false, \"showgrid\": false, \"ticks\": \"outside\", \"showline\": false, \"showticklabels\": false, \"ticklen\": 5, \"overlaying\": \"y\", \"scaleanchor\": \"y\", \"side\": \"right\", \"anchor\": \"x\", \"range\": [0, 10], \"dtick\": 2, \"constrain\": \"domain\"}, \"yaxis201\": {\"automargin\": true, \"zeroline\": false, \"showgrid\": false, \"ticks\": \"outside\", \"showline\": true, \"showticklabels\": false, \"ticklen\": 3, \"mirror\": \"ticks\", \"overlaying\": \"y\", \"scaleanchor\": \"y\", \"anchor\": \"x\", \"range\": [0, 10], \"dtick\": 0.5, \"constrain\": \"domain\"}, \"annotations\": [{\"font\": {\"family\": \"Arial\", \"size\": 20}, \"name\": \"title\", \"showarrow\": false, \"text\": \"Random numbers\", \"x\": 0.5, \"xanchor\": \"center\", \"xref\": \"paper\", \"y\": 1.0, \"yanchor\": \"bottom\", \"yref\": \"paper\", \"yshift\": -30}]}, {\"showLink\": false, \"linkText\": \"Export to plot.ly\", \"plotlyServerURL\": \"https://plot.ly\"})});</script>"
      ]
     },
     "metadata": {},
     "output_type": "display_data"
    },
    {
     "data": {
      "text/html": [
       "<button onclick=\"download_plotly_image('47d0a25c-8148-494d-aca0-a2125d3ac6a8', 'svg', 450, 700, 'plot-20190212-053231')\">\n",
       "  Download Image as <span style=\"text-transform:uppercase;\">svg</span>\n",
       "</button>\n",
       "<script>\n",
       "  if (window.Jupyter)\n",
       "  {\n",
       "    hide_draggable_elements(\"47d0a25c-8148-494d-aca0-a2125d3ac6a8\");\n",
       "    remove_autoscale_button(\"47d0a25c-8148-494d-aca0-a2125d3ac6a8\");\n",
       "  }\n",
       "  else\n",
       "  {\n",
       "    window.addEventListener(\"load\", () =>\n",
       "    {\n",
       "      hide_draggable_elements(\"47d0a25c-8148-494d-aca0-a2125d3ac6a8\");\n",
       "      remove_autoscale_button(\"47d0a25c-8148-494d-aca0-a2125d3ac6a8\");\n",
       "    });\n",
       "  }\n",
       "</script>\n"
      ],
      "text/plain": [
       "<IPython.core.display.HTML object>"
      ]
     },
     "metadata": {},
     "output_type": "display_data"
    }
   ],
   "source": [
    "plt.show(heatmap)"
   ]
  },
  {
   "cell_type": "code",
   "execution_count": null,
   "metadata": {},
   "outputs": [],
   "source": []
  }
 ],
 "metadata": {
  "kernelspec": {
   "display_name": "Python 3",
   "language": "python",
   "name": "python3"
  },
  "language_info": {
   "codemirror_mode": {
    "name": "ipython",
    "version": 3
   },
   "file_extension": ".py",
   "mimetype": "text/x-python",
   "name": "python",
   "nbconvert_exporter": "python",
   "pygments_lexer": "ipython3",
   "version": "3.6.8"
  },
  "toc": {
   "base_numbering": 1,
   "nav_menu": {},
   "number_sections": true,
   "sideBar": true,
   "skip_h1_title": true,
   "title_cell": "Table of Contents",
   "title_sidebar": "Contents",
   "toc_cell": false,
   "toc_position": {},
   "toc_section_display": true,
   "toc_window_display": false
  },
  "widgets": {
   "application/vnd.jupyter.widget-state+json": {
    "state": {
     "0d4e665d92c34b5790a3de14f36b8f70": {
      "model_module": "plotlywidget",
      "model_module_version": "^0.6.0",
      "model_name": "FigureModel",
      "state": {
       "_config": {
        "plotlyServerURL": "https://plot.ly"
       },
       "_data": [
        {
         "colorbar": {
          "len": 0.6,
          "thickness": 20,
          "tickformat": ".1f",
          "title": {
           "text": "number<br>&nbsp;"
          },
          "xpad": 40
         },
         "dx": 1,
         "dy": 1,
         "transpose": true,
         "type": "heatmap",
         "uid": "27ac9e7f-2704-4ba8-9883-d98b70d40eee",
         "x": [
          0,
          1,
          2,
          3,
          4,
          5,
          6,
          7,
          8,
          9,
          10,
          11,
          12,
          13,
          14,
          15,
          16,
          17,
          18,
          19,
          20
         ],
         "y": [
          0,
          1,
          2,
          3,
          4,
          5,
          6,
          7,
          8,
          9,
          10
         ],
         "z": [
          [
           0.05656872564355209,
           -0.891963456284226,
           -0.9853032811136617,
           -0.2879881426521971,
           0.08945217891694157,
           0.41323505131651106,
           0.8925761369697665,
           0.5444115679348005,
           -0.021305667926749594,
           0.3168738531942703
          ],
          [
           -0.3704662390426787,
           -0.1454333138504722,
           0.1810342859932348,
           -0.19855510120562925,
           0.5061042179865733,
           -0.4323986555844923,
           -0.052888146792891444,
           0.6734880236276544,
           0.42204441701364614,
           -0.11172239753316426
          ],
          [
           0.06917666601257388,
           -0.08391599692618446,
           -0.8630479309615429,
           0.7089402254825212,
           -0.8858477612360138,
           -0.8651428327036057,
           0.3167445030960989,
           -0.09059760551839235,
           -0.0394559542233055,
           -0.965290992021842
          ],
          [
           -0.38860998169834327,
           -0.896451674775639,
           0.6094443780024403,
           0.5805400379741477,
           -0.16942339289783814,
           -0.9814736938309621,
           -0.3363040086627265,
           0.858554130172068,
           0.051519958309775404,
           0.03900762408938374
          ],
          [
           0.6527398156316617,
           0.1387880236406731,
           -0.3788203788261575,
           0.9195828905932972,
           -0.14130175583729487,
           -0.48234669077083203,
           0.27522772360507997,
           0.8661006764994985,
           0.6370704900697417,
           -0.6634744564741131
          ],
          [
           0.6808534300224751,
           0.1934718667262434,
           0.646368863405044,
           0.4101000219149076,
           -0.9439602161372067,
           0.8664357585917877,
           0.29827786106819576,
           -0.46226352783461766,
           0.6356262813592626,
           -0.481084099315114
          ],
          [
           0.4833596334387944,
           -0.13044452837390352,
           0.5362369979633435,
           -0.047999623095258626,
           0.023361923528800732,
           -0.6015151416987004,
           -0.16878362346274223,
           -0.3582477152318335,
           0.09518915221824575,
           0.8155343550750331
          ],
          [
           -0.4285384340549234,
           -0.5697173846513652,
           -0.3656792097451882,
           0.6639224391612011,
           0.6257469503582374,
           0.3880276706814232,
           -0.8326670717349838,
           -0.8650459865749178,
           -0.7110284826858004,
           -0.29377939940223685
          ],
          [
           -0.11421858224403492,
           -0.6173262178743057,
           0.41327066638452004,
           0.01916793055182997,
           -0.9944277399652897,
           0.442627843590786,
           -0.6118221246822777,
           -0.764991325131398,
           0.8129283776554059,
           -0.5476042223423192
          ],
          [
           0.226240403191871,
           0.5613229350446904,
           -0.24958570523409418,
           -0.9344731518427438,
           -0.4255727155200395,
           0.2537173251876721,
           -0.8453665240320185,
           -0.907914755076781,
           0.8146692948998304,
           -0.945834626224807
          ],
          [
           -0.3927450660768861,
           -0.4986947007147027,
           0.0845231471507275,
           0.48838428126420164,
           -0.5709636597083587,
           0.9454878874876445,
           0.9271633650645414,
           -0.7559464493252517,
           -0.7521173618819659,
           0.5636104454409803
          ],
          [
           0.6340399620631736,
           -0.6294464118779242,
           0.7242348087985708,
           -0.41856367899214075,
           -0.17984902600646668,
           0.720709311423471,
           0.8317644049359612,
           -0.262597257167825,
           0.1137979380626204,
           -0.8652579226018804
          ],
          [
           0.4554164177010114,
           -0.4657109336341452,
           0.1895515566587409,
           0.48563815821274114,
           -0.12687070585693605,
           0.532843512279181,
           -0.44851190282792164,
           0.9587847604395408,
           -0.20509836436335172,
           0.9000897709881532
          ],
          [
           -0.41090716040947006,
           0.23141285646604182,
           -0.8785765874217675,
           0.9084776616049768,
           0.9863974912280025,
           -0.7512252946285274,
           -0.3645239226307011,
           -0.27480510115203716,
           -0.671508706216611,
           -0.539019396886522
          ],
          [
           -0.16173222510558372,
           -0.8645801773398265,
           -0.5591101707514823,
           0.5233354491682338,
           0.7644521072777672,
           -0.2532796003310609,
           0.4005847774504032,
           0.08802910786026819,
           0.6797671250054931,
           0.3136425052420968
          ],
          [
           0.9938385617373837,
           -0.9020438408502234,
           -0.567367568252064,
           -0.7631808702390106,
           0.8236176051346251,
           -0.2981319777366054,
           0.00651959926547363,
           0.307928321278667,
           0.5813262263699595,
           -0.8755232408881337
          ],
          [
           -0.6972743594549295,
           0.890153936061695,
           0.2280899526330442,
           -0.1961523374780858,
           -0.8741288923691135,
           -0.2418227712293426,
           -0.10925095107614435,
           0.007151714322653824,
           -0.9140342211516876,
           0.3723836457375318
          ],
          [
           0.8905143293639537,
           0.16485607454679596,
           -0.09343513372888901,
           -0.8497285840090538,
           0.6323778385655263,
           -0.4117976539297181,
           0.4911641469505972,
           -0.24449752443277273,
           -0.9235338537946252,
           -0.6927977524711957
          ],
          [
           -0.6561273052441119,
           -0.2514025992154618,
           -0.2273965499976629,
           -0.35809011144638325,
           0.03941255781927677,
           -0.18096025669422655,
           -0.1330930034936284,
           -0.2997211536325284,
           -0.07673591274132163,
           -0.9212738122540425
          ],
          [
           0.19976024487897037,
           0.7882302057522876,
           0.011415343065328987,
           -0.6844118421019691,
           -0.5784843795265715,
           -0.5345821480749098,
           -0.35409230390827506,
           0.6252117038398455,
           -0.5262809945437781,
           0.08031996081789594
          ]
         ],
         "zmax": 1,
         "zmin": -1
        }
       ],
       "_js2py_layoutDelta": {},
       "_js2py_pointsCallback": {},
       "_js2py_relayout": {},
       "_js2py_restyle": {},
       "_js2py_traceDeltas": {},
       "_js2py_update": {},
       "_last_layout_edit_id": 17,
       "_last_trace_edit_id": 14,
       "_layout": {
        "annotations": [
         {
          "font": {
           "family": "Arial",
           "size": 20
          },
          "name": "title",
          "showarrow": false,
          "text": "Random numbers",
          "x": 0.5,
          "xanchor": "center",
          "xref": "paper",
          "y": 1,
          "yanchor": "bottom",
          "yref": "paper",
          "yshift": -30
         }
        ],
        "font": {
         "family": "Arial",
         "size": 18
        },
        "height": 450,
        "margin": {
         "b": 0,
         "l": 0,
         "r": 10
        },
        "titlefont": {
         "family": "Arial",
         "size": 20
        },
        "width": 700
       },
       "_py2js_animate": {},
       "_py2js_moveTraces": {},
       "_py2js_removeLayoutProps": {},
       "_py2js_removeTraceProps": {},
       "_py2js_restyle": {},
       "_py2js_update": {},
       "_view_count": 0
      }
     },
     "b21d0af571814af591133fb917ee40cd": {
      "model_module": "plotlywidget",
      "model_module_version": "^0.6.0",
      "model_name": "FigureModel",
      "state": {
       "_config": {
        "plotlyServerURL": "https://plot.ly"
       },
       "_data": [
        {
         "colorbar": {
          "len": 0.6,
          "thickness": 20,
          "tickformat": ".1f",
          "title": {
           "text": "number<br>&nbsp;"
          },
          "xpad": 40
         },
         "dx": 1,
         "dy": 1,
         "transpose": true,
         "type": "heatmap",
         "uid": "0b8b35e8-c822-47bf-8ec9-91600013fd85",
         "x": [
          0,
          1,
          2,
          3,
          4,
          5,
          6,
          7,
          8,
          9,
          10,
          11,
          12,
          13,
          14,
          15,
          16,
          17,
          18,
          19,
          20
         ],
         "y": [
          0,
          1,
          2,
          3,
          4,
          5,
          6,
          7,
          8,
          9,
          10
         ],
         "z": [
          [
           0.6210281011933383,
           0.24555529453580682,
           -0.2839960330751139,
           0.4029248864076589,
           0.00830391216364701,
           0.16160377486673094,
           0.36389430805011935,
           0.3894043511298415,
           -0.7468683907039311,
           0.02680113242443838
          ],
          [
           0.9032323465618557,
           -0.5228036014466517,
           -0.6860668510650729,
           -0.9688567797527432,
           -0.19510392868478066,
           -0.09980561139654465,
           -0.6675186885226994,
           0.9566394548367141,
           0.9673314285350272,
           0.5059631567541403
          ],
          [
           -0.18638777525751338,
           0.2402691785778981,
           -0.8447427105750795,
           0.28027333859193804,
           -0.7543660131515444,
           -0.038903476116112,
           0.33013406684133106,
           0.7983043335531761,
           0.9408578814850332,
           0.5656730036425097
          ],
          [
           -0.4768768004522803,
           -0.5772825939575987,
           0.9144180871418706,
           -0.9004416308871106,
           0.3432463352846915,
           -0.4607133104581018,
           0.5279808069725929,
           -0.33838587763631156,
           0.13274807091536744,
           -0.8234755890616521
          ],
          [
           -0.5497952227777938,
           -0.1408359220989892,
           -0.7262179287198436,
           0.7543509767120511,
           -0.6130247004203959,
           -0.17022044207339215,
           -0.5078648790277316,
           -0.5594621726960545,
           -0.23538230728962795,
           0.7714753209927936
          ],
          [
           -0.7640597000391265,
           -0.6653367450911705,
           -0.3118354703916817,
           -0.6282284896961587,
           -0.401918989104203,
           -0.7628309034694265,
           -0.9899487532866882,
           -0.6778744569576622,
           -0.44028381782007475,
           -0.6119709766324859
          ],
          [
           -0.33735837943580194,
           0.37740566237141104,
           -0.4950489074261615,
           0.6495411121851398,
           0.29238040953351807,
           -0.4544076274374287,
           0.12365025139365216,
           -0.10995364625634907,
           0.06756899059860966,
           -0.7076481636887413
          ],
          [
           0.20224631006876903,
           -0.9190340400264159,
           -0.21678816413803892,
           -0.1769037745538573,
           0.7994826491656497,
           0.39093314787222844,
           0.058082158475139645,
           0.9154013443023179,
           0.2567168710159351,
           -0.07338599785163935
          ],
          [
           0.6981081605731512,
           -0.6403562107231888,
           -0.4702862128471059,
           0.23740852557118863,
           0.4903981853257504,
           -0.05567346686973229,
           0.804955821337664,
           -0.42750541867391756,
           0.7874706244966798,
           0.1901170172993445
          ],
          [
           0.27085435855491946,
           -0.731144746147679,
           -0.8388580922864184,
           0.14567802135653918,
           -0.9701872950689165,
           0.07002837501665304,
           0.7958121663836797,
           -0.5526579077728047,
           -0.029550020987433756,
           0.21151643672950615
          ],
          [
           0.035638729559341886,
           0.35030712746466075,
           -0.15608887900485446,
           0.6774152058115315,
           -0.7338828811739142,
           0.376755055489012,
           0.45307723148593215,
           0.5029707067967433,
           -0.065879473541689,
           0.141856000311112
          ],
          [
           0.42281487314582145,
           0.7164876714145298,
           -0.4024606233456074,
           0.5010185292785114,
           -0.3946228004464001,
           -0.5193246207147899,
           0.31474663347952947,
           -0.6894342757436327,
           -0.747580443690931,
           -0.18920081608965122
          ],
          [
           -0.30630334765257006,
           0.9767259940388107,
           -0.2312853974900193,
           -0.4998181538609121,
           -0.4888486357750359,
           0.13404094387997323,
           0.9689887828222445,
           -0.45930373332516106,
           0.20096306264356256,
           0.4219911400624963
          ],
          [
           -0.1715387057653195,
           -0.13834364050737213,
           0.8903160380210549,
           0.8918401664647917,
           -0.09113620214581819,
           -0.0765158480892989,
           0.9483620452353134,
           -0.3579719121075091,
           0.4977464571817056,
           -0.6133096883089759
          ],
          [
           -0.47024317535228954,
           -0.6985758632174341,
           -0.9088872213668262,
           0.9675613290811724,
           0.749428744795217,
           0.3351759527655265,
           0.41880839057212826,
           -0.2960641456766453,
           -0.38683804292611246,
           -0.02149391193715222
          ],
          [
           -0.38569950258641206,
           -0.6750097056298443,
           -0.32753688144931115,
           -0.07121938517494075,
           0.21543185909517826,
           -0.2530363847550523,
           -0.14182568405388918,
           0.7140067261114922,
           -0.6181485116899796,
           0.3243336620513866
          ],
          [
           -0.1477711420653549,
           -0.12431653844181478,
           0.881522236658743,
           0.1908845429890207,
           -0.30968168480617075,
           -0.2121378869424042,
           -0.5897303149896662,
           0.2016883717711324,
           -0.31556995616441474,
           -0.7141756525098502
          ],
          [
           0.6243885560922617,
           -0.9481709400057736,
           0.20522244657730582,
           -0.13590490869985405,
           -0.4679758825287015,
           -0.4790499132122812,
           -0.0001644695563394194,
           0.8635491751118733,
           0.40565243222688796,
           -0.07841340236559402
          ],
          [
           0.06756524993165836,
           0.4597971024539971,
           -0.8525263923916673,
           0.5694689104420259,
           -0.2909794155891905,
           0.8207914587405425,
           -0.24872785726789615,
           0.2544501797089289,
           -0.13718301364696384,
           0.7126670364022998
          ],
          [
           -0.6078781741987691,
           0.9590922561092718,
           0.6685007720246856,
           -0.06824133389008846,
           -0.837025943272631,
           0.6419034931554404,
           0.6159945214925153,
           -0.23870311584516002,
           -0.6022628421836425,
           -0.6973725415215104
          ]
         ],
         "zmax": 1,
         "zmin": -1
        }
       ],
       "_js2py_layoutDelta": {},
       "_js2py_pointsCallback": {},
       "_js2py_relayout": {},
       "_js2py_restyle": {},
       "_js2py_traceDeltas": {},
       "_js2py_update": {},
       "_last_layout_edit_id": 17,
       "_last_trace_edit_id": 14,
       "_layout": {
        "annotations": [
         {
          "font": {
           "family": "Arial",
           "size": 20
          },
          "name": "title",
          "showarrow": false,
          "text": "Random numbers",
          "x": 0.5,
          "xanchor": "center",
          "xref": "paper",
          "y": 1,
          "yanchor": "bottom",
          "yref": "paper",
          "yshift": -30
         }
        ],
        "font": {
         "family": "Arial",
         "size": 18
        },
        "height": 450,
        "margin": {
         "b": 0,
         "l": 0,
         "r": 10
        },
        "titlefont": {
         "family": "Arial",
         "size": 20
        },
        "width": 700
       },
       "_py2js_animate": {},
       "_py2js_moveTraces": {},
       "_py2js_removeLayoutProps": {},
       "_py2js_removeTraceProps": {},
       "_py2js_restyle": {},
       "_py2js_update": {},
       "_view_count": 0
      }
     }
    },
    "version_major": 2,
    "version_minor": 0
   }
  }
 },
 "nbformat": 4,
 "nbformat_minor": 2
}
