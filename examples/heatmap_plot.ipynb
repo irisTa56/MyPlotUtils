{
 "cells": [
  {
   "cell_type": "code",
   "execution_count": 1,
   "metadata": {
    "ExecuteTime": {
     "end_time": "2019-02-20T20:04:49.867269Z",
     "start_time": "2019-02-20T20:04:48.645249Z"
    }
   },
   "outputs": [],
   "source": [
    "import tk_plot_utils as tk"
   ]
  },
  {
   "cell_type": "code",
   "execution_count": 2,
   "metadata": {
    "ExecuteTime": {
     "end_time": "2019-02-20T20:04:49.905951Z",
     "start_time": "2019-02-20T20:04:49.871125Z"
    }
   },
   "outputs": [
    {
     "data": {
      "text/html": [
       "<script type=\"text/javascript\">window.PlotlyConfig = {MathJaxConfig: 'local'};</script><script type=\"text/javascript\">if (window.MathJax) {MathJax.Hub.Config({SVG: {font: \"STIX-Web\"}});}</script><script>requirejs.config({paths: { 'plotly': ['https://cdn.plot.ly/plotly-latest.min']},});if(!window._Plotly) {require(['plotly'],function(plotly) {window._Plotly=plotly;});}</script>"
      ],
      "text/vnd.plotly.v1+html": [
       "<script type=\"text/javascript\">window.PlotlyConfig = {MathJaxConfig: 'local'};</script><script type=\"text/javascript\">if (window.MathJax) {MathJax.Hub.Config({SVG: {font: \"STIX-Web\"}});}</script><script>requirejs.config({paths: { 'plotly': ['https://cdn.plot.ly/plotly-latest.min']},});if(!window._Plotly) {require(['plotly'],function(plotly) {window._Plotly=plotly;});}</script>"
      ]
     },
     "metadata": {},
     "output_type": "display_data"
    },
    {
     "data": {
      "text/html": [
       "<script>\n",
       "  function download_plotly_image(plot_id, format, height, width, filename)\n",
       "  {\n",
       "    let p = document.getElementById(plot_id);\n",
       "    window._Plotly.downloadImage(\n",
       "      p,\n",
       "      {\n",
       "        format: format,\n",
       "        height: height,\n",
       "        width: width,\n",
       "        filename: filename\n",
       "      });\n",
       "  };\n",
       "</script>\n",
       "<script>\n",
       "  function hide_draggable_elements(plot_id)\n",
       "  {\n",
       "    let p = document.getElementById(plot_id);\n",
       "    let svg = p.querySelector(\"svg.main-svg\");\n",
       "    let svgNS = svg.namespaceURI;\n",
       "    let hidelayer = document.createElementNS(svgNS, \"g\");\n",
       "    hidelayer.setAttribute(\"class\", \"hidelayer\");\n",
       "    [...p.querySelectorAll(\"g.draglayer > g\")].forEach((item) =>\n",
       "      {\n",
       "        if (6 < item.getAttribute(\"class\").length)\n",
       "        {\n",
       "          [...item.querySelectorAll(\"rect.drag\")].forEach((item) =>\n",
       "            {\n",
       "              let rect = document.createElementNS(svgNS, \"rect\");\n",
       "              for (let key of [\"style\", \"x\", \"y\", \"width\", \"height\"])\n",
       "              {\n",
       "                rect.setAttribute(key, item.getAttribute(key));\n",
       "              }\n",
       "              hidelayer.appendChild(rect);\n",
       "            });\n",
       "        }\n",
       "      });\n",
       "    svg.appendChild(hidelayer);\n",
       "  };\n",
       "</script>\n",
       "<script>\n",
       "  function remove_autoscale_button(plot_id)\n",
       "  {\n",
       "    [...document.getElementById(plot_id).querySelectorAll(\"a.modebar-btn\")]\n",
       "      .forEach((item) =>\n",
       "        {\n",
       "          if (item.getAttribute(\"data-title\") == \"Autoscale\")\n",
       "          {\n",
       "            item.parentNode.removeChild(item);\n",
       "          }\n",
       "        });\n",
       "  };\n",
       "</script>\n",
       "<script>\n",
       "  function shift_subplots_xtitle(plot_id, xtitle_index)\n",
       "  {\n",
       "    let p = document.getElementById(plot_id);\n",
       "    let xtitle = [...p.querySelectorAll(\"g.infolayer > g\")]\n",
       "      .filter((g) => g.className.baseVal == \"annotation\")[xtitle_index]\n",
       "      .querySelector(\"g.cursor-pointer\");\n",
       "    let t = xtitle.getAttribute(\"transform\");\n",
       "    let ytrans_old = parseFloat(t.slice(t.indexOf(\",\")+1, t.indexOf(\")\")));\n",
       "    let h_rect = parseFloat(xtitle.querySelector(\"rect\").getAttribute(\"height\"));\n",
       "    let ytrans_new = p.layout.height - h_rect;\n",
       "    xtitle.setAttribute(\"transform\",\n",
       "      t.slice(0,t.indexOf(\",\")+1) + ytrans_new.toString() + \")\");\n",
       "    p.layout.annotations[xtitle_index].yshift = ytrans_old - ytrans_new;\n",
       "  };\n",
       "</script>\n",
       "<script>\n",
       "  function shift_subplots_ytitle(plot_id, ytitle_index)\n",
       "  {\n",
       "    let p = document.getElementById(plot_id);\n",
       "    let annotation = [...p.querySelectorAll(\"g.infolayer > g\")]\n",
       "      .filter((g) => g.className.baseVal == \"annotation\")[ytitle_index];\n",
       "    let ytitle_parent = annotation.querySelector(\"g.annotation-text-g\");\n",
       "    let ytitle = annotation.querySelector(\"g.cursor-pointer\");\n",
       "    let r = ytitle_parent.getAttribute(\"transform\");\n",
       "    let t = ytitle.getAttribute(\"transform\");\n",
       "    let xtrans_old = parseFloat(t.slice(t.indexOf(\"(\")+1, t.indexOf(\",\")));\n",
       "    let rect = ytitle.querySelector(\"rect\");\n",
       "    let xcenter = 0.5*parseFloat(rect.getAttribute(\"width\"))\n",
       "                  + parseFloat(rect.getAttribute(\"x\"));\n",
       "    let ycenter = 0.5*parseFloat(rect.getAttribute(\"height\"))\n",
       "                  - parseFloat(rect.getAttribute(\"y\"));\n",
       "    let xtrans_new = ycenter - xcenter;\n",
       "    ytitle.setAttribute(\"transform\",\n",
       "      t.slice(0,t.indexOf(\"(\")+1) + xtrans_new.toString() + t.slice(t.indexOf(\",\")));\n",
       "      ytitle_parent.setAttribute(\"transform\",\n",
       "      r.slice(0,r.indexOf(\",\")+1) + (xtrans_new+xcenter).toString() + r.slice(r.lastIndexOf(\",\")));\n",
       "    p.layout.annotations[ytitle_index].xshift = xtrans_new - xtrans_old;\n",
       "  };\n",
       "</script>\n"
      ],
      "text/plain": [
       "<IPython.core.display.HTML object>"
      ]
     },
     "metadata": {},
     "output_type": "display_data"
    }
   ],
   "source": [
    "tk.init_plotly(connected=True)"
   ]
  },
  {
   "cell_type": "code",
   "execution_count": 3,
   "metadata": {
    "ExecuteTime": {
     "end_time": "2019-02-20T20:04:49.924955Z",
     "start_time": "2019-02-20T20:04:49.911809Z"
    }
   },
   "outputs": [],
   "source": [
    "import numpy as np\n",
    "sample = np.random.uniform(-1, 1, (20, 10))"
   ]
  },
  {
   "cell_type": "markdown",
   "metadata": {},
   "source": [
    "## Make Heatmap"
   ]
  },
  {
   "cell_type": "code",
   "execution_count": 4,
   "metadata": {
    "ExecuteTime": {
     "end_time": "2019-02-20T20:04:50.369967Z",
     "start_time": "2019-02-20T20:04:49.937584Z"
    }
   },
   "outputs": [],
   "source": [
    "heatmap = tk.make_heatmap({\n",
    "  \"z\": sample,\n",
    "  \"origin\": (0, 0),\n",
    "  \"dx\": 1,\n",
    "  \"dy\": 1,\n",
    "})\n",
    "plt = tk.plotly()"
   ]
  },
  {
   "cell_type": "code",
   "execution_count": 5,
   "metadata": {
    "ExecuteTime": {
     "end_time": "2019-02-20T20:04:50.391338Z",
     "start_time": "2019-02-20T20:04:50.374842Z"
    }
   },
   "outputs": [],
   "source": [
    "plt.set_title(\"Random numbers\")\n",
    "plt.set_x_title(\"horizontal\")\n",
    "plt.set_y_title(\"vertical\")"
   ]
  },
  {
   "cell_type": "code",
   "execution_count": 6,
   "metadata": {
    "ExecuteTime": {
     "end_time": "2019-02-20T20:04:51.443470Z",
     "start_time": "2019-02-20T20:04:50.394565Z"
    }
   },
   "outputs": [
    {
     "data": {
      "application/vnd.plotly.v1+json": {
       "config": {
        "linkText": "Export to plot.ly",
        "plotlyServerURL": "https://plot.ly",
        "showLink": false
       },
       "data": [
        {
         "dx": 1,
         "dy": 1,
         "transpose": true,
         "type": "heatmap",
         "uid": "aa81a8a6-e1b3-44a8-b377-bfe9a77e4c54",
         "x": [
          0,
          1,
          2,
          3,
          4,
          5,
          6,
          7,
          8,
          9,
          10,
          11,
          12,
          13,
          14,
          15,
          16,
          17,
          18,
          19,
          20
         ],
         "y": [
          0,
          1,
          2,
          3,
          4,
          5,
          6,
          7,
          8,
          9,
          10
         ],
         "z": [
          [
           0.9471405604620349,
           -0.8569362979428918,
           0.49702001380005534,
           0.5830932175403127,
           -0.4723462433354608,
           -0.7303752121875651,
           -0.5567992308795855,
           0.747996818275906,
           0.5670678053643814,
           0.42341712758109584
          ],
          [
           -0.11326431202072129,
           0.7883850679883864,
           0.41361247061495865,
           0.7558662338018791,
           -0.501247370460489,
           0.909834932607406,
           -0.7286341140201609,
           -0.07397023822135007,
           0.25922672552126924,
           0.23805012449098273
          ],
          [
           0.6964892302053951,
           -0.8582015874211588,
           -0.41782974974188014,
           0.6373871908053392,
           0.7264612658026581,
           -0.0942972183718207,
           0.5096155163948948,
           -0.9071516271269384,
           -0.3464903883769146,
           -0.8048675916774968
          ],
          [
           0.7135902665237643,
           -0.833923463599199,
           -0.7408849925852368,
           -0.7766971529626578,
           -0.6882784243296118,
           -0.806406073766325,
           0.19114253903319534,
           0.08820586736581704,
           -0.7011491228364404,
           -0.8191089268093119
          ],
          [
           -0.255746083912356,
           -0.6107064747838591,
           -0.5383371943598176,
           -0.8219568870610627,
           -0.08037376128404583,
           -0.3547365926880899,
           -0.6049885186403536,
           -0.06493249941480439,
           -0.9227648379267848,
           -0.7811475874866411
          ],
          [
           -0.5763582041695048,
           -0.42285200193280237,
           0.4818218549503712,
           -0.27132244908197545,
           0.5355659202924505,
           -0.04929800201725043,
           -0.23624013010377332,
           0.784601858028531,
           0.4147733941468721,
           -0.10491675557580904
          ],
          [
           0.2919161018703067,
           -0.6492020968390784,
           -0.13369529619592346,
           -0.24139208966973036,
           -0.6261926703259226,
           -0.6081423125359118,
           0.05956312596418911,
           0.9916403452296993,
           0.5072426295627146,
           0.16556922623933978
          ],
          [
           -0.7802026589506905,
           -0.34587186442428597,
           -0.7482524155669843,
           0.36776046714525146,
           0.4112912711596086,
           0.2356115181748184,
           -0.632491432464626,
           0.9302870233066662,
           -0.05882936053000809,
           0.01368502353304657
          ],
          [
           0.95659611493748,
           -0.7283806233734422,
           -0.18701820850250495,
           0.9338120886645411,
           0.028460373745489154,
           -0.051018383151997915,
           0.6739883637535566,
           -0.17300880438082178,
           -0.9527194244289929,
           0.4591643471330167
          ],
          [
           0.6251280134150452,
           -0.012094328023543932,
           0.5046816434991914,
           -0.25128136560421144,
           0.3928958484028693,
           0.2168137523832976,
           0.7310612099822904,
           -0.14895365077335931,
           0.638555218397606,
           -0.2900124022311483
          ],
          [
           0.021305214862242794,
           0.06836914704836738,
           -0.8807705015079179,
           0.8452217309002192,
           -0.4999703281925423,
           -0.9632517464317918,
           0.6155443175083946,
           -0.08758081325770051,
           0.13112510042261993,
           0.26522607288146527
          ],
          [
           0.3711878415891203,
           -0.2802639074274289,
           -0.524785387024171,
           -0.43787606266993495,
           -0.9560730682482643,
           -0.6315073729177219,
           0.10744407376970155,
           0.10715618361542112,
           -0.1879590110285534,
           -0.15255902181223768
          ],
          [
           -0.6882721074863081,
           0.33684346707356805,
           0.22393445098719056,
           -0.4627206972104114,
           -0.7897033522789048,
           -0.9081726157365995,
           0.7391851818717396,
           0.4877055447877683,
           0.10332103500818346,
           -0.24909465057079294
          ],
          [
           -0.4104809250985688,
           0.8175678195685196,
           -0.9514363508299919,
           0.6097225847996459,
           0.608654072515151,
           -0.18269000192446683,
           -0.9877232443441637,
           -0.4897522481139236,
           -0.8584726111713652,
           0.48222999544787504
          ],
          [
           0.8155841196351972,
           -0.8117094479080036,
           0.39230079293441844,
           -0.8357769689737455,
           0.5394089925675682,
           0.9994464669521392,
           0.5210671335280297,
           -0.5163094850110157,
           -0.9502396264720019,
           0.5656600556869822
          ],
          [
           -0.3141959439812372,
           0.04550093481214623,
           -0.576695353073809,
           -0.6725065786360485,
           0.6482051879938235,
           -0.9552016156190484,
           0.1514064418745198,
           0.737653338012102,
           -0.7865781710197821,
           -0.4858672146355829
          ],
          [
           0.9559191006498802,
           0.3079948669294199,
           -0.39091824520504814,
           0.6156406840621191,
           -0.8182146252304892,
           0.7088103841503943,
           0.18456560910178332,
           0.43223317622390134,
           -0.2817132646227105,
           -0.03250392229015575
          ],
          [
           0.2613416242737714,
           0.5881878370755353,
           -0.3638975758430636,
           0.04488327895752087,
           0.7370746295909085,
           -0.007792734829252357,
           0.43535940101151405,
           0.026368446213398178,
           0.9541408861053655,
           -0.180573623130301
          ],
          [
           -0.7023677484868969,
           -0.8649517938948119,
           -0.7130814061095117,
           0.35043862006783155,
           0.544934891408557,
           0.45642465753365413,
           0.726923468355622,
           0.7262472393366863,
           -0.9201740986654796,
           -0.5595297285689442
          ],
          [
           0.5272277844122992,
           0.5376062997640862,
           0.6108188102074752,
           0.1856095336356689,
           -0.34485509463021335,
           -0.9320513819884193,
           -0.27468527025646905,
           0.4138717711233042,
           -0.6607450956593373,
           -0.7274141693603517
          ]
         ]
        },
        {
         "type": "heatmap",
         "uid": "2b82207c-d32f-42b2-9996-6c66ddfbeeeb",
         "visible": false,
         "xaxis": "x101",
         "yaxis": "y101"
        },
        {
         "type": "heatmap",
         "uid": "1323a12d-bd10-4080-ae11-f29b2e725891",
         "visible": false,
         "xaxis": "x201",
         "yaxis": "y201"
        }
       ],
       "layout": {
        "font": {
         "family": "Arial",
         "size": 18
        },
        "height": 450,
        "margin": {
         "b": 20,
         "l": 20,
         "r": 20,
         "t": 80
        },
        "title": {
         "font": {
          "size": 20
         },
         "text": "Random numbers",
         "xanchor": "center",
         "xref": "paper",
         "y": 0.9111111111111111,
         "yanchor": "middle",
         "yref": "container"
        },
        "width": 450,
        "xaxis": {
         "anchor": "y",
         "automargin": true,
         "constrain": "domain",
         "dtick": 5,
         "hoverformat": ".f",
         "range": [
          0,
          20
         ],
         "showgrid": false,
         "showline": false,
         "showticklabels": true,
         "tickfont": {
          "size": 18
         },
         "ticklen": 5,
         "ticks": "outside",
         "title": {
          "font": {
           "size": 20
          },
          "text": "horizontal"
         },
         "zeroline": false
        },
        "xaxis101": {
         "anchor": "y",
         "automargin": true,
         "constrain": "domain",
         "dtick": 5,
         "overlaying": "x",
         "range": [
          0,
          20
         ],
         "scaleanchor": "x",
         "showgrid": false,
         "showline": false,
         "showticklabels": false,
         "side": "top",
         "ticklen": 5,
         "ticks": "outside",
         "zeroline": false
        },
        "xaxis201": {
         "anchor": "y",
         "automargin": true,
         "constrain": "domain",
         "dtick": 1,
         "mirror": "ticks",
         "overlaying": "x",
         "range": [
          0,
          20
         ],
         "scaleanchor": "x",
         "showgrid": false,
         "showline": true,
         "showticklabels": false,
         "ticklen": 3,
         "ticks": "outside",
         "zeroline": false
        },
        "yaxis": {
         "anchor": "x",
         "automargin": true,
         "constrain": "domain",
         "dtick": 2,
         "hoverformat": ".f",
         "range": [
          0,
          10
         ],
         "scaleanchor": "x",
         "showgrid": false,
         "showline": false,
         "showticklabels": true,
         "tickfont": {
          "size": 18
         },
         "ticklen": 5,
         "tickprefix": " ",
         "ticks": "outside",
         "ticksuffix": " ",
         "title": {
          "font": {
           "size": 20
          },
          "text": "vertical"
         },
         "zeroline": false
        },
        "yaxis101": {
         "anchor": "x",
         "automargin": true,
         "constrain": "domain",
         "dtick": 2,
         "overlaying": "y",
         "range": [
          0,
          10
         ],
         "scaleanchor": "y",
         "showgrid": false,
         "showline": false,
         "showticklabels": false,
         "side": "right",
         "ticklen": 5,
         "ticks": "outside",
         "zeroline": false
        },
        "yaxis201": {
         "anchor": "x",
         "automargin": true,
         "constrain": "domain",
         "dtick": 0.5,
         "mirror": "ticks",
         "overlaying": "y",
         "range": [
          0,
          10
         ],
         "scaleanchor": "y",
         "showgrid": false,
         "showline": true,
         "showticklabels": false,
         "ticklen": 3,
         "ticks": "outside",
         "zeroline": false
        }
       }
      },
      "text/html": [
       "<div id=\"96d13f78-4a11-46ac-aae5-fef5df8953da\" style=\"height: 450px; width: 450px;\" class=\"plotly-graph-div\"></div><script type=\"text/javascript\">require([\"plotly\"], function(Plotly) { window.PLOTLYENV=window.PLOTLYENV || {};window.PLOTLYENV.BASE_URL=\"https://plot.ly\";Plotly.newPlot(\"96d13f78-4a11-46ac-aae5-fef5df8953da\", [{\"dx\": 1, \"dy\": 1, \"transpose\": true, \"x\": [0, 1, 2, 3, 4, 5, 6, 7, 8, 9, 10, 11, 12, 13, 14, 15, 16, 17, 18, 19, 20], \"y\": [0, 1, 2, 3, 4, 5, 6, 7, 8, 9, 10], \"z\": [[0.9471405604620349, -0.8569362979428918, 0.49702001380005534, 0.5830932175403127, -0.4723462433354608, -0.7303752121875651, -0.5567992308795855, 0.747996818275906, 0.5670678053643814, 0.42341712758109584], [-0.11326431202072129, 0.7883850679883864, 0.41361247061495865, 0.7558662338018791, -0.501247370460489, 0.909834932607406, -0.7286341140201609, -0.07397023822135007, 0.25922672552126924, 0.23805012449098273], [0.6964892302053951, -0.8582015874211588, -0.41782974974188014, 0.6373871908053392, 0.7264612658026581, -0.0942972183718207, 0.5096155163948948, -0.9071516271269384, -0.3464903883769146, -0.8048675916774968], [0.7135902665237643, -0.833923463599199, -0.7408849925852368, -0.7766971529626578, -0.6882784243296118, -0.806406073766325, 0.19114253903319534, 0.08820586736581704, -0.7011491228364404, -0.8191089268093119], [-0.255746083912356, -0.6107064747838591, -0.5383371943598176, -0.8219568870610627, -0.08037376128404583, -0.3547365926880899, -0.6049885186403536, -0.06493249941480439, -0.9227648379267848, -0.7811475874866411], [-0.5763582041695048, -0.42285200193280237, 0.4818218549503712, -0.27132244908197545, 0.5355659202924505, -0.04929800201725043, -0.23624013010377332, 0.784601858028531, 0.4147733941468721, -0.10491675557580904], [0.2919161018703067, -0.6492020968390784, -0.13369529619592346, -0.24139208966973036, -0.6261926703259226, -0.6081423125359118, 0.05956312596418911, 0.9916403452296993, 0.5072426295627146, 0.16556922623933978], [-0.7802026589506905, -0.34587186442428597, -0.7482524155669843, 0.36776046714525146, 0.4112912711596086, 0.2356115181748184, -0.632491432464626, 0.9302870233066662, -0.05882936053000809, 0.01368502353304657], [0.95659611493748, -0.7283806233734422, -0.18701820850250495, 0.9338120886645411, 0.028460373745489154, -0.051018383151997915, 0.6739883637535566, -0.17300880438082178, -0.9527194244289929, 0.4591643471330167], [0.6251280134150452, -0.012094328023543932, 0.5046816434991914, -0.25128136560421144, 0.3928958484028693, 0.2168137523832976, 0.7310612099822904, -0.14895365077335931, 0.638555218397606, -0.2900124022311483], [0.021305214862242794, 0.06836914704836738, -0.8807705015079179, 0.8452217309002192, -0.4999703281925423, -0.9632517464317918, 0.6155443175083946, -0.08758081325770051, 0.13112510042261993, 0.26522607288146527], [0.3711878415891203, -0.2802639074274289, -0.524785387024171, -0.43787606266993495, -0.9560730682482643, -0.6315073729177219, 0.10744407376970155, 0.10715618361542112, -0.1879590110285534, -0.15255902181223768], [-0.6882721074863081, 0.33684346707356805, 0.22393445098719056, -0.4627206972104114, -0.7897033522789048, -0.9081726157365995, 0.7391851818717396, 0.4877055447877683, 0.10332103500818346, -0.24909465057079294], [-0.4104809250985688, 0.8175678195685196, -0.9514363508299919, 0.6097225847996459, 0.608654072515151, -0.18269000192446683, -0.9877232443441637, -0.4897522481139236, -0.8584726111713652, 0.48222999544787504], [0.8155841196351972, -0.8117094479080036, 0.39230079293441844, -0.8357769689737455, 0.5394089925675682, 0.9994464669521392, 0.5210671335280297, -0.5163094850110157, -0.9502396264720019, 0.5656600556869822], [-0.3141959439812372, 0.04550093481214623, -0.576695353073809, -0.6725065786360485, 0.6482051879938235, -0.9552016156190484, 0.1514064418745198, 0.737653338012102, -0.7865781710197821, -0.4858672146355829], [0.9559191006498802, 0.3079948669294199, -0.39091824520504814, 0.6156406840621191, -0.8182146252304892, 0.7088103841503943, 0.18456560910178332, 0.43223317622390134, -0.2817132646227105, -0.03250392229015575], [0.2613416242737714, 0.5881878370755353, -0.3638975758430636, 0.04488327895752087, 0.7370746295909085, -0.007792734829252357, 0.43535940101151405, 0.026368446213398178, 0.9541408861053655, -0.180573623130301], [-0.7023677484868969, -0.8649517938948119, -0.7130814061095117, 0.35043862006783155, 0.544934891408557, 0.45642465753365413, 0.726923468355622, 0.7262472393366863, -0.9201740986654796, -0.5595297285689442], [0.5272277844122992, 0.5376062997640862, 0.6108188102074752, 0.1856095336356689, -0.34485509463021335, -0.9320513819884193, -0.27468527025646905, 0.4138717711233042, -0.6607450956593373, -0.7274141693603517]], \"type\": \"heatmap\", \"uid\": \"aa81a8a6-e1b3-44a8-b377-bfe9a77e4c54\"}, {\"visible\": false, \"xaxis\": \"x101\", \"yaxis\": \"y101\", \"type\": \"heatmap\", \"uid\": \"2b82207c-d32f-42b2-9996-6c66ddfbeeeb\"}, {\"visible\": false, \"xaxis\": \"x201\", \"yaxis\": \"y201\", \"type\": \"heatmap\", \"uid\": \"1323a12d-bd10-4080-ae11-f29b2e725891\"}], {\"width\": 450, \"height\": 450, \"font\": {\"family\": \"Arial\", \"size\": 18}, \"title\": {\"font\": {\"size\": 20}, \"xanchor\": \"center\", \"xref\": \"paper\", \"yanchor\": \"middle\", \"yref\": \"container\", \"text\": \"Random numbers\", \"y\": 0.9111111111111111}, \"margin\": {\"b\": 20, \"l\": 20, \"r\": 20, \"t\": 80}, \"xaxis\": {\"automargin\": true, \"zeroline\": false, \"showgrid\": false, \"ticks\": \"outside\", \"title\": {\"font\": {\"size\": 20}, \"text\": \"horizontal\"}, \"showline\": false, \"showticklabels\": true, \"ticklen\": 5, \"tickfont\": {\"size\": 18}, \"hoverformat\": \".f\", \"anchor\": \"y\", \"range\": [0, 20], \"dtick\": 5, \"constrain\": \"domain\"}, \"xaxis101\": {\"automargin\": true, \"zeroline\": false, \"showgrid\": false, \"ticks\": \"outside\", \"showline\": false, \"showticklabels\": false, \"ticklen\": 5, \"overlaying\": \"x\", \"scaleanchor\": \"x\", \"side\": \"top\", \"anchor\": \"y\", \"range\": [0, 20], \"dtick\": 5, \"constrain\": \"domain\"}, \"xaxis201\": {\"automargin\": true, \"zeroline\": false, \"showgrid\": false, \"ticks\": \"outside\", \"showline\": true, \"showticklabels\": false, \"ticklen\": 3, \"mirror\": \"ticks\", \"overlaying\": \"x\", \"scaleanchor\": \"x\", \"anchor\": \"y\", \"range\": [0, 20], \"dtick\": 1.0, \"constrain\": \"domain\"}, \"yaxis\": {\"automargin\": true, \"zeroline\": false, \"showgrid\": false, \"ticks\": \"outside\", \"title\": {\"font\": {\"size\": 20}, \"text\": \"vertical\"}, \"showline\": false, \"showticklabels\": true, \"ticklen\": 5, \"tickfont\": {\"size\": 18}, \"hoverformat\": \".f\", \"tickprefix\": \"\\u2004\", \"ticksuffix\": \"\\u2009\", \"anchor\": \"x\", \"range\": [0, 10], \"dtick\": 2, \"constrain\": \"domain\", \"scaleanchor\": \"x\"}, \"yaxis101\": {\"automargin\": true, \"zeroline\": false, \"showgrid\": false, \"ticks\": \"outside\", \"showline\": false, \"showticklabels\": false, \"ticklen\": 5, \"overlaying\": \"y\", \"scaleanchor\": \"y\", \"side\": \"right\", \"anchor\": \"x\", \"range\": [0, 10], \"dtick\": 2, \"constrain\": \"domain\"}, \"yaxis201\": {\"automargin\": true, \"zeroline\": false, \"showgrid\": false, \"ticks\": \"outside\", \"showline\": true, \"showticklabels\": false, \"ticklen\": 3, \"mirror\": \"ticks\", \"overlaying\": \"y\", \"scaleanchor\": \"y\", \"anchor\": \"x\", \"range\": [0, 10], \"dtick\": 0.5, \"constrain\": \"domain\"}}, {\"showLink\": false, \"linkText\": \"Export to plot.ly\", \"plotlyServerURL\": \"https://plot.ly\"})});</script>"
      ],
      "text/vnd.plotly.v1+html": [
       "<div id=\"96d13f78-4a11-46ac-aae5-fef5df8953da\" style=\"height: 450px; width: 450px;\" class=\"plotly-graph-div\"></div><script type=\"text/javascript\">require([\"plotly\"], function(Plotly) { window.PLOTLYENV=window.PLOTLYENV || {};window.PLOTLYENV.BASE_URL=\"https://plot.ly\";Plotly.newPlot(\"96d13f78-4a11-46ac-aae5-fef5df8953da\", [{\"dx\": 1, \"dy\": 1, \"transpose\": true, \"x\": [0, 1, 2, 3, 4, 5, 6, 7, 8, 9, 10, 11, 12, 13, 14, 15, 16, 17, 18, 19, 20], \"y\": [0, 1, 2, 3, 4, 5, 6, 7, 8, 9, 10], \"z\": [[0.9471405604620349, -0.8569362979428918, 0.49702001380005534, 0.5830932175403127, -0.4723462433354608, -0.7303752121875651, -0.5567992308795855, 0.747996818275906, 0.5670678053643814, 0.42341712758109584], [-0.11326431202072129, 0.7883850679883864, 0.41361247061495865, 0.7558662338018791, -0.501247370460489, 0.909834932607406, -0.7286341140201609, -0.07397023822135007, 0.25922672552126924, 0.23805012449098273], [0.6964892302053951, -0.8582015874211588, -0.41782974974188014, 0.6373871908053392, 0.7264612658026581, -0.0942972183718207, 0.5096155163948948, -0.9071516271269384, -0.3464903883769146, -0.8048675916774968], [0.7135902665237643, -0.833923463599199, -0.7408849925852368, -0.7766971529626578, -0.6882784243296118, -0.806406073766325, 0.19114253903319534, 0.08820586736581704, -0.7011491228364404, -0.8191089268093119], [-0.255746083912356, -0.6107064747838591, -0.5383371943598176, -0.8219568870610627, -0.08037376128404583, -0.3547365926880899, -0.6049885186403536, -0.06493249941480439, -0.9227648379267848, -0.7811475874866411], [-0.5763582041695048, -0.42285200193280237, 0.4818218549503712, -0.27132244908197545, 0.5355659202924505, -0.04929800201725043, -0.23624013010377332, 0.784601858028531, 0.4147733941468721, -0.10491675557580904], [0.2919161018703067, -0.6492020968390784, -0.13369529619592346, -0.24139208966973036, -0.6261926703259226, -0.6081423125359118, 0.05956312596418911, 0.9916403452296993, 0.5072426295627146, 0.16556922623933978], [-0.7802026589506905, -0.34587186442428597, -0.7482524155669843, 0.36776046714525146, 0.4112912711596086, 0.2356115181748184, -0.632491432464626, 0.9302870233066662, -0.05882936053000809, 0.01368502353304657], [0.95659611493748, -0.7283806233734422, -0.18701820850250495, 0.9338120886645411, 0.028460373745489154, -0.051018383151997915, 0.6739883637535566, -0.17300880438082178, -0.9527194244289929, 0.4591643471330167], [0.6251280134150452, -0.012094328023543932, 0.5046816434991914, -0.25128136560421144, 0.3928958484028693, 0.2168137523832976, 0.7310612099822904, -0.14895365077335931, 0.638555218397606, -0.2900124022311483], [0.021305214862242794, 0.06836914704836738, -0.8807705015079179, 0.8452217309002192, -0.4999703281925423, -0.9632517464317918, 0.6155443175083946, -0.08758081325770051, 0.13112510042261993, 0.26522607288146527], [0.3711878415891203, -0.2802639074274289, -0.524785387024171, -0.43787606266993495, -0.9560730682482643, -0.6315073729177219, 0.10744407376970155, 0.10715618361542112, -0.1879590110285534, -0.15255902181223768], [-0.6882721074863081, 0.33684346707356805, 0.22393445098719056, -0.4627206972104114, -0.7897033522789048, -0.9081726157365995, 0.7391851818717396, 0.4877055447877683, 0.10332103500818346, -0.24909465057079294], [-0.4104809250985688, 0.8175678195685196, -0.9514363508299919, 0.6097225847996459, 0.608654072515151, -0.18269000192446683, -0.9877232443441637, -0.4897522481139236, -0.8584726111713652, 0.48222999544787504], [0.8155841196351972, -0.8117094479080036, 0.39230079293441844, -0.8357769689737455, 0.5394089925675682, 0.9994464669521392, 0.5210671335280297, -0.5163094850110157, -0.9502396264720019, 0.5656600556869822], [-0.3141959439812372, 0.04550093481214623, -0.576695353073809, -0.6725065786360485, 0.6482051879938235, -0.9552016156190484, 0.1514064418745198, 0.737653338012102, -0.7865781710197821, -0.4858672146355829], [0.9559191006498802, 0.3079948669294199, -0.39091824520504814, 0.6156406840621191, -0.8182146252304892, 0.7088103841503943, 0.18456560910178332, 0.43223317622390134, -0.2817132646227105, -0.03250392229015575], [0.2613416242737714, 0.5881878370755353, -0.3638975758430636, 0.04488327895752087, 0.7370746295909085, -0.007792734829252357, 0.43535940101151405, 0.026368446213398178, 0.9541408861053655, -0.180573623130301], [-0.7023677484868969, -0.8649517938948119, -0.7130814061095117, 0.35043862006783155, 0.544934891408557, 0.45642465753365413, 0.726923468355622, 0.7262472393366863, -0.9201740986654796, -0.5595297285689442], [0.5272277844122992, 0.5376062997640862, 0.6108188102074752, 0.1856095336356689, -0.34485509463021335, -0.9320513819884193, -0.27468527025646905, 0.4138717711233042, -0.6607450956593373, -0.7274141693603517]], \"type\": \"heatmap\", \"uid\": \"aa81a8a6-e1b3-44a8-b377-bfe9a77e4c54\"}, {\"visible\": false, \"xaxis\": \"x101\", \"yaxis\": \"y101\", \"type\": \"heatmap\", \"uid\": \"2b82207c-d32f-42b2-9996-6c66ddfbeeeb\"}, {\"visible\": false, \"xaxis\": \"x201\", \"yaxis\": \"y201\", \"type\": \"heatmap\", \"uid\": \"1323a12d-bd10-4080-ae11-f29b2e725891\"}], {\"width\": 450, \"height\": 450, \"font\": {\"family\": \"Arial\", \"size\": 18}, \"title\": {\"font\": {\"size\": 20}, \"xanchor\": \"center\", \"xref\": \"paper\", \"yanchor\": \"middle\", \"yref\": \"container\", \"text\": \"Random numbers\", \"y\": 0.9111111111111111}, \"margin\": {\"b\": 20, \"l\": 20, \"r\": 20, \"t\": 80}, \"xaxis\": {\"automargin\": true, \"zeroline\": false, \"showgrid\": false, \"ticks\": \"outside\", \"title\": {\"font\": {\"size\": 20}, \"text\": \"horizontal\"}, \"showline\": false, \"showticklabels\": true, \"ticklen\": 5, \"tickfont\": {\"size\": 18}, \"hoverformat\": \".f\", \"anchor\": \"y\", \"range\": [0, 20], \"dtick\": 5, \"constrain\": \"domain\"}, \"xaxis101\": {\"automargin\": true, \"zeroline\": false, \"showgrid\": false, \"ticks\": \"outside\", \"showline\": false, \"showticklabels\": false, \"ticklen\": 5, \"overlaying\": \"x\", \"scaleanchor\": \"x\", \"side\": \"top\", \"anchor\": \"y\", \"range\": [0, 20], \"dtick\": 5, \"constrain\": \"domain\"}, \"xaxis201\": {\"automargin\": true, \"zeroline\": false, \"showgrid\": false, \"ticks\": \"outside\", \"showline\": true, \"showticklabels\": false, \"ticklen\": 3, \"mirror\": \"ticks\", \"overlaying\": \"x\", \"scaleanchor\": \"x\", \"anchor\": \"y\", \"range\": [0, 20], \"dtick\": 1.0, \"constrain\": \"domain\"}, \"yaxis\": {\"automargin\": true, \"zeroline\": false, \"showgrid\": false, \"ticks\": \"outside\", \"title\": {\"font\": {\"size\": 20}, \"text\": \"vertical\"}, \"showline\": false, \"showticklabels\": true, \"ticklen\": 5, \"tickfont\": {\"size\": 18}, \"hoverformat\": \".f\", \"tickprefix\": \"\\u2004\", \"ticksuffix\": \"\\u2009\", \"anchor\": \"x\", \"range\": [0, 10], \"dtick\": 2, \"constrain\": \"domain\", \"scaleanchor\": \"x\"}, \"yaxis101\": {\"automargin\": true, \"zeroline\": false, \"showgrid\": false, \"ticks\": \"outside\", \"showline\": false, \"showticklabels\": false, \"ticklen\": 5, \"overlaying\": \"y\", \"scaleanchor\": \"y\", \"side\": \"right\", \"anchor\": \"x\", \"range\": [0, 10], \"dtick\": 2, \"constrain\": \"domain\"}, \"yaxis201\": {\"automargin\": true, \"zeroline\": false, \"showgrid\": false, \"ticks\": \"outside\", \"showline\": true, \"showticklabels\": false, \"ticklen\": 3, \"mirror\": \"ticks\", \"overlaying\": \"y\", \"scaleanchor\": \"y\", \"anchor\": \"x\", \"range\": [0, 10], \"dtick\": 0.5, \"constrain\": \"domain\"}}, {\"showLink\": false, \"linkText\": \"Export to plot.ly\", \"plotlyServerURL\": \"https://plot.ly\"})});</script>"
      ]
     },
     "metadata": {},
     "output_type": "display_data"
    },
    {
     "data": {
      "text/html": [
       "<button onclick=\"download_plotly_image('96d13f78-4a11-46ac-aae5-fef5df8953da', 'svg', 450, 450, 'plot-20190220-200450')\">\n",
       "  Download Image as <span style=\"text-transform:uppercase;\">svg</span>\n",
       "</button>\n",
       "<script>\n",
       "  if (window.Jupyter)\n",
       "  {\n",
       "    hide_draggable_elements(\"96d13f78-4a11-46ac-aae5-fef5df8953da\");\n",
       "    remove_autoscale_button(\"96d13f78-4a11-46ac-aae5-fef5df8953da\");\n",
       "  }\n",
       "  else\n",
       "  {\n",
       "    window.addEventListener(\"load\", () =>\n",
       "    {\n",
       "      hide_draggable_elements(\"96d13f78-4a11-46ac-aae5-fef5df8953da\");\n",
       "      remove_autoscale_button(\"96d13f78-4a11-46ac-aae5-fef5df8953da\");\n",
       "    });\n",
       "  }\n",
       "</script>\n"
      ],
      "text/plain": [
       "<IPython.core.display.HTML object>"
      ]
     },
     "metadata": {},
     "output_type": "display_data"
    }
   ],
   "source": [
    "plt.show(heatmap)"
   ]
  },
  {
   "cell_type": "markdown",
   "metadata": {},
   "source": [
    "The above `heatmap` is equivalent with the following."
   ]
  },
  {
   "cell_type": "code",
   "execution_count": 7,
   "metadata": {
    "ExecuteTime": {
     "end_time": "2019-02-20T20:04:51.458165Z",
     "start_time": "2019-02-20T20:04:51.446430Z"
    }
   },
   "outputs": [],
   "source": [
    "heatmap2 = tk.make_heatmap({\n",
    "  \"z\": sample,\n",
    "  \"x\": list(range(0, 21)),\n",
    "  \"y\": list(range(0, 11)),\n",
    "})"
   ]
  },
  {
   "cell_type": "code",
   "execution_count": 8,
   "metadata": {
    "ExecuteTime": {
     "end_time": "2019-02-20T20:04:52.575176Z",
     "start_time": "2019-02-20T20:04:51.465837Z"
    }
   },
   "outputs": [
    {
     "data": {
      "application/vnd.plotly.v1+json": {
       "config": {
        "linkText": "Export to plot.ly",
        "plotlyServerURL": "https://plot.ly",
        "showLink": false
       },
       "data": [
        {
         "transpose": true,
         "type": "heatmap",
         "uid": "cbd03626-42ad-48ea-b243-dae033426e4d",
         "x": [
          0,
          1,
          2,
          3,
          4,
          5,
          6,
          7,
          8,
          9,
          10,
          11,
          12,
          13,
          14,
          15,
          16,
          17,
          18,
          19,
          20
         ],
         "y": [
          0,
          1,
          2,
          3,
          4,
          5,
          6,
          7,
          8,
          9,
          10
         ],
         "z": [
          [
           0.9471405604620349,
           -0.8569362979428918,
           0.49702001380005534,
           0.5830932175403127,
           -0.4723462433354608,
           -0.7303752121875651,
           -0.5567992308795855,
           0.747996818275906,
           0.5670678053643814,
           0.42341712758109584
          ],
          [
           -0.11326431202072129,
           0.7883850679883864,
           0.41361247061495865,
           0.7558662338018791,
           -0.501247370460489,
           0.909834932607406,
           -0.7286341140201609,
           -0.07397023822135007,
           0.25922672552126924,
           0.23805012449098273
          ],
          [
           0.6964892302053951,
           -0.8582015874211588,
           -0.41782974974188014,
           0.6373871908053392,
           0.7264612658026581,
           -0.0942972183718207,
           0.5096155163948948,
           -0.9071516271269384,
           -0.3464903883769146,
           -0.8048675916774968
          ],
          [
           0.7135902665237643,
           -0.833923463599199,
           -0.7408849925852368,
           -0.7766971529626578,
           -0.6882784243296118,
           -0.806406073766325,
           0.19114253903319534,
           0.08820586736581704,
           -0.7011491228364404,
           -0.8191089268093119
          ],
          [
           -0.255746083912356,
           -0.6107064747838591,
           -0.5383371943598176,
           -0.8219568870610627,
           -0.08037376128404583,
           -0.3547365926880899,
           -0.6049885186403536,
           -0.06493249941480439,
           -0.9227648379267848,
           -0.7811475874866411
          ],
          [
           -0.5763582041695048,
           -0.42285200193280237,
           0.4818218549503712,
           -0.27132244908197545,
           0.5355659202924505,
           -0.04929800201725043,
           -0.23624013010377332,
           0.784601858028531,
           0.4147733941468721,
           -0.10491675557580904
          ],
          [
           0.2919161018703067,
           -0.6492020968390784,
           -0.13369529619592346,
           -0.24139208966973036,
           -0.6261926703259226,
           -0.6081423125359118,
           0.05956312596418911,
           0.9916403452296993,
           0.5072426295627146,
           0.16556922623933978
          ],
          [
           -0.7802026589506905,
           -0.34587186442428597,
           -0.7482524155669843,
           0.36776046714525146,
           0.4112912711596086,
           0.2356115181748184,
           -0.632491432464626,
           0.9302870233066662,
           -0.05882936053000809,
           0.01368502353304657
          ],
          [
           0.95659611493748,
           -0.7283806233734422,
           -0.18701820850250495,
           0.9338120886645411,
           0.028460373745489154,
           -0.051018383151997915,
           0.6739883637535566,
           -0.17300880438082178,
           -0.9527194244289929,
           0.4591643471330167
          ],
          [
           0.6251280134150452,
           -0.012094328023543932,
           0.5046816434991914,
           -0.25128136560421144,
           0.3928958484028693,
           0.2168137523832976,
           0.7310612099822904,
           -0.14895365077335931,
           0.638555218397606,
           -0.2900124022311483
          ],
          [
           0.021305214862242794,
           0.06836914704836738,
           -0.8807705015079179,
           0.8452217309002192,
           -0.4999703281925423,
           -0.9632517464317918,
           0.6155443175083946,
           -0.08758081325770051,
           0.13112510042261993,
           0.26522607288146527
          ],
          [
           0.3711878415891203,
           -0.2802639074274289,
           -0.524785387024171,
           -0.43787606266993495,
           -0.9560730682482643,
           -0.6315073729177219,
           0.10744407376970155,
           0.10715618361542112,
           -0.1879590110285534,
           -0.15255902181223768
          ],
          [
           -0.6882721074863081,
           0.33684346707356805,
           0.22393445098719056,
           -0.4627206972104114,
           -0.7897033522789048,
           -0.9081726157365995,
           0.7391851818717396,
           0.4877055447877683,
           0.10332103500818346,
           -0.24909465057079294
          ],
          [
           -0.4104809250985688,
           0.8175678195685196,
           -0.9514363508299919,
           0.6097225847996459,
           0.608654072515151,
           -0.18269000192446683,
           -0.9877232443441637,
           -0.4897522481139236,
           -0.8584726111713652,
           0.48222999544787504
          ],
          [
           0.8155841196351972,
           -0.8117094479080036,
           0.39230079293441844,
           -0.8357769689737455,
           0.5394089925675682,
           0.9994464669521392,
           0.5210671335280297,
           -0.5163094850110157,
           -0.9502396264720019,
           0.5656600556869822
          ],
          [
           -0.3141959439812372,
           0.04550093481214623,
           -0.576695353073809,
           -0.6725065786360485,
           0.6482051879938235,
           -0.9552016156190484,
           0.1514064418745198,
           0.737653338012102,
           -0.7865781710197821,
           -0.4858672146355829
          ],
          [
           0.9559191006498802,
           0.3079948669294199,
           -0.39091824520504814,
           0.6156406840621191,
           -0.8182146252304892,
           0.7088103841503943,
           0.18456560910178332,
           0.43223317622390134,
           -0.2817132646227105,
           -0.03250392229015575
          ],
          [
           0.2613416242737714,
           0.5881878370755353,
           -0.3638975758430636,
           0.04488327895752087,
           0.7370746295909085,
           -0.007792734829252357,
           0.43535940101151405,
           0.026368446213398178,
           0.9541408861053655,
           -0.180573623130301
          ],
          [
           -0.7023677484868969,
           -0.8649517938948119,
           -0.7130814061095117,
           0.35043862006783155,
           0.544934891408557,
           0.45642465753365413,
           0.726923468355622,
           0.7262472393366863,
           -0.9201740986654796,
           -0.5595297285689442
          ],
          [
           0.5272277844122992,
           0.5376062997640862,
           0.6108188102074752,
           0.1856095336356689,
           -0.34485509463021335,
           -0.9320513819884193,
           -0.27468527025646905,
           0.4138717711233042,
           -0.6607450956593373,
           -0.7274141693603517
          ]
         ]
        },
        {
         "type": "heatmap",
         "uid": "2040ff5d-86c2-4187-8e68-d487dc4a2b83",
         "visible": false,
         "xaxis": "x101",
         "yaxis": "y101"
        },
        {
         "type": "heatmap",
         "uid": "3ecd5545-5a01-43c7-8ac9-a77653d54614",
         "visible": false,
         "xaxis": "x201",
         "yaxis": "y201"
        }
       ],
       "layout": {
        "font": {
         "family": "Arial",
         "size": 18
        },
        "height": 450,
        "margin": {
         "b": 20,
         "l": 20,
         "r": 20,
         "t": 80
        },
        "title": {
         "font": {
          "size": 20
         },
         "text": "Random numbers",
         "xanchor": "center",
         "xref": "paper",
         "y": 0.9111111111111111,
         "yanchor": "middle",
         "yref": "container"
        },
        "width": 450,
        "xaxis": {
         "anchor": "y",
         "automargin": true,
         "constrain": "domain",
         "dtick": 5,
         "hoverformat": ".f",
         "range": [
          0,
          20
         ],
         "showgrid": false,
         "showline": false,
         "showticklabels": true,
         "tickfont": {
          "size": 18
         },
         "ticklen": 5,
         "ticks": "outside",
         "title": {
          "font": {
           "size": 20
          },
          "text": "horizontal"
         },
         "zeroline": false
        },
        "xaxis101": {
         "anchor": "y",
         "automargin": true,
         "constrain": "domain",
         "dtick": 5,
         "overlaying": "x",
         "range": [
          0,
          20
         ],
         "scaleanchor": "x",
         "showgrid": false,
         "showline": false,
         "showticklabels": false,
         "side": "top",
         "ticklen": 5,
         "ticks": "outside",
         "zeroline": false
        },
        "xaxis201": {
         "anchor": "y",
         "automargin": true,
         "constrain": "domain",
         "dtick": 1,
         "mirror": "ticks",
         "overlaying": "x",
         "range": [
          0,
          20
         ],
         "scaleanchor": "x",
         "showgrid": false,
         "showline": true,
         "showticklabels": false,
         "ticklen": 3,
         "ticks": "outside",
         "zeroline": false
        },
        "yaxis": {
         "anchor": "x",
         "automargin": true,
         "constrain": "domain",
         "dtick": 2,
         "hoverformat": ".f",
         "range": [
          0,
          10
         ],
         "scaleanchor": "x",
         "showgrid": false,
         "showline": false,
         "showticklabels": true,
         "tickfont": {
          "size": 18
         },
         "ticklen": 5,
         "tickprefix": " ",
         "ticks": "outside",
         "ticksuffix": " ",
         "title": {
          "font": {
           "size": 20
          },
          "text": "vertical"
         },
         "zeroline": false
        },
        "yaxis101": {
         "anchor": "x",
         "automargin": true,
         "constrain": "domain",
         "dtick": 2,
         "overlaying": "y",
         "range": [
          0,
          10
         ],
         "scaleanchor": "y",
         "showgrid": false,
         "showline": false,
         "showticklabels": false,
         "side": "right",
         "ticklen": 5,
         "ticks": "outside",
         "zeroline": false
        },
        "yaxis201": {
         "anchor": "x",
         "automargin": true,
         "constrain": "domain",
         "dtick": 0.5,
         "mirror": "ticks",
         "overlaying": "y",
         "range": [
          0,
          10
         ],
         "scaleanchor": "y",
         "showgrid": false,
         "showline": true,
         "showticklabels": false,
         "ticklen": 3,
         "ticks": "outside",
         "zeroline": false
        }
       }
      },
      "text/html": [
       "<div id=\"1bf7c758-fa4d-460d-ba8f-ff788e29ea51\" style=\"height: 450px; width: 450px;\" class=\"plotly-graph-div\"></div><script type=\"text/javascript\">require([\"plotly\"], function(Plotly) { window.PLOTLYENV=window.PLOTLYENV || {};window.PLOTLYENV.BASE_URL=\"https://plot.ly\";Plotly.newPlot(\"1bf7c758-fa4d-460d-ba8f-ff788e29ea51\", [{\"transpose\": true, \"x\": [0, 1, 2, 3, 4, 5, 6, 7, 8, 9, 10, 11, 12, 13, 14, 15, 16, 17, 18, 19, 20], \"y\": [0, 1, 2, 3, 4, 5, 6, 7, 8, 9, 10], \"z\": [[0.9471405604620349, -0.8569362979428918, 0.49702001380005534, 0.5830932175403127, -0.4723462433354608, -0.7303752121875651, -0.5567992308795855, 0.747996818275906, 0.5670678053643814, 0.42341712758109584], [-0.11326431202072129, 0.7883850679883864, 0.41361247061495865, 0.7558662338018791, -0.501247370460489, 0.909834932607406, -0.7286341140201609, -0.07397023822135007, 0.25922672552126924, 0.23805012449098273], [0.6964892302053951, -0.8582015874211588, -0.41782974974188014, 0.6373871908053392, 0.7264612658026581, -0.0942972183718207, 0.5096155163948948, -0.9071516271269384, -0.3464903883769146, -0.8048675916774968], [0.7135902665237643, -0.833923463599199, -0.7408849925852368, -0.7766971529626578, -0.6882784243296118, -0.806406073766325, 0.19114253903319534, 0.08820586736581704, -0.7011491228364404, -0.8191089268093119], [-0.255746083912356, -0.6107064747838591, -0.5383371943598176, -0.8219568870610627, -0.08037376128404583, -0.3547365926880899, -0.6049885186403536, -0.06493249941480439, -0.9227648379267848, -0.7811475874866411], [-0.5763582041695048, -0.42285200193280237, 0.4818218549503712, -0.27132244908197545, 0.5355659202924505, -0.04929800201725043, -0.23624013010377332, 0.784601858028531, 0.4147733941468721, -0.10491675557580904], [0.2919161018703067, -0.6492020968390784, -0.13369529619592346, -0.24139208966973036, -0.6261926703259226, -0.6081423125359118, 0.05956312596418911, 0.9916403452296993, 0.5072426295627146, 0.16556922623933978], [-0.7802026589506905, -0.34587186442428597, -0.7482524155669843, 0.36776046714525146, 0.4112912711596086, 0.2356115181748184, -0.632491432464626, 0.9302870233066662, -0.05882936053000809, 0.01368502353304657], [0.95659611493748, -0.7283806233734422, -0.18701820850250495, 0.9338120886645411, 0.028460373745489154, -0.051018383151997915, 0.6739883637535566, -0.17300880438082178, -0.9527194244289929, 0.4591643471330167], [0.6251280134150452, -0.012094328023543932, 0.5046816434991914, -0.25128136560421144, 0.3928958484028693, 0.2168137523832976, 0.7310612099822904, -0.14895365077335931, 0.638555218397606, -0.2900124022311483], [0.021305214862242794, 0.06836914704836738, -0.8807705015079179, 0.8452217309002192, -0.4999703281925423, -0.9632517464317918, 0.6155443175083946, -0.08758081325770051, 0.13112510042261993, 0.26522607288146527], [0.3711878415891203, -0.2802639074274289, -0.524785387024171, -0.43787606266993495, -0.9560730682482643, -0.6315073729177219, 0.10744407376970155, 0.10715618361542112, -0.1879590110285534, -0.15255902181223768], [-0.6882721074863081, 0.33684346707356805, 0.22393445098719056, -0.4627206972104114, -0.7897033522789048, -0.9081726157365995, 0.7391851818717396, 0.4877055447877683, 0.10332103500818346, -0.24909465057079294], [-0.4104809250985688, 0.8175678195685196, -0.9514363508299919, 0.6097225847996459, 0.608654072515151, -0.18269000192446683, -0.9877232443441637, -0.4897522481139236, -0.8584726111713652, 0.48222999544787504], [0.8155841196351972, -0.8117094479080036, 0.39230079293441844, -0.8357769689737455, 0.5394089925675682, 0.9994464669521392, 0.5210671335280297, -0.5163094850110157, -0.9502396264720019, 0.5656600556869822], [-0.3141959439812372, 0.04550093481214623, -0.576695353073809, -0.6725065786360485, 0.6482051879938235, -0.9552016156190484, 0.1514064418745198, 0.737653338012102, -0.7865781710197821, -0.4858672146355829], [0.9559191006498802, 0.3079948669294199, -0.39091824520504814, 0.6156406840621191, -0.8182146252304892, 0.7088103841503943, 0.18456560910178332, 0.43223317622390134, -0.2817132646227105, -0.03250392229015575], [0.2613416242737714, 0.5881878370755353, -0.3638975758430636, 0.04488327895752087, 0.7370746295909085, -0.007792734829252357, 0.43535940101151405, 0.026368446213398178, 0.9541408861053655, -0.180573623130301], [-0.7023677484868969, -0.8649517938948119, -0.7130814061095117, 0.35043862006783155, 0.544934891408557, 0.45642465753365413, 0.726923468355622, 0.7262472393366863, -0.9201740986654796, -0.5595297285689442], [0.5272277844122992, 0.5376062997640862, 0.6108188102074752, 0.1856095336356689, -0.34485509463021335, -0.9320513819884193, -0.27468527025646905, 0.4138717711233042, -0.6607450956593373, -0.7274141693603517]], \"type\": \"heatmap\", \"uid\": \"cbd03626-42ad-48ea-b243-dae033426e4d\"}, {\"visible\": false, \"xaxis\": \"x101\", \"yaxis\": \"y101\", \"type\": \"heatmap\", \"uid\": \"2040ff5d-86c2-4187-8e68-d487dc4a2b83\"}, {\"visible\": false, \"xaxis\": \"x201\", \"yaxis\": \"y201\", \"type\": \"heatmap\", \"uid\": \"3ecd5545-5a01-43c7-8ac9-a77653d54614\"}], {\"width\": 450, \"height\": 450, \"font\": {\"family\": \"Arial\", \"size\": 18}, \"title\": {\"font\": {\"size\": 20}, \"xanchor\": \"center\", \"xref\": \"paper\", \"yanchor\": \"middle\", \"yref\": \"container\", \"text\": \"Random numbers\", \"y\": 0.9111111111111111}, \"margin\": {\"b\": 20, \"l\": 20, \"r\": 20, \"t\": 80}, \"xaxis\": {\"automargin\": true, \"zeroline\": false, \"showgrid\": false, \"ticks\": \"outside\", \"title\": {\"font\": {\"size\": 20}, \"text\": \"horizontal\"}, \"showline\": false, \"showticklabels\": true, \"ticklen\": 5, \"tickfont\": {\"size\": 18}, \"hoverformat\": \".f\", \"anchor\": \"y\", \"range\": [0, 20], \"dtick\": 5, \"constrain\": \"domain\"}, \"xaxis101\": {\"automargin\": true, \"zeroline\": false, \"showgrid\": false, \"ticks\": \"outside\", \"showline\": false, \"showticklabels\": false, \"ticklen\": 5, \"overlaying\": \"x\", \"scaleanchor\": \"x\", \"side\": \"top\", \"anchor\": \"y\", \"range\": [0, 20], \"dtick\": 5, \"constrain\": \"domain\"}, \"xaxis201\": {\"automargin\": true, \"zeroline\": false, \"showgrid\": false, \"ticks\": \"outside\", \"showline\": true, \"showticklabels\": false, \"ticklen\": 3, \"mirror\": \"ticks\", \"overlaying\": \"x\", \"scaleanchor\": \"x\", \"anchor\": \"y\", \"range\": [0, 20], \"dtick\": 1.0, \"constrain\": \"domain\"}, \"yaxis\": {\"automargin\": true, \"zeroline\": false, \"showgrid\": false, \"ticks\": \"outside\", \"title\": {\"font\": {\"size\": 20}, \"text\": \"vertical\"}, \"showline\": false, \"showticklabels\": true, \"ticklen\": 5, \"tickfont\": {\"size\": 18}, \"hoverformat\": \".f\", \"tickprefix\": \"\\u2004\", \"ticksuffix\": \"\\u2009\", \"anchor\": \"x\", \"range\": [0, 10], \"dtick\": 2, \"constrain\": \"domain\", \"scaleanchor\": \"x\"}, \"yaxis101\": {\"automargin\": true, \"zeroline\": false, \"showgrid\": false, \"ticks\": \"outside\", \"showline\": false, \"showticklabels\": false, \"ticklen\": 5, \"overlaying\": \"y\", \"scaleanchor\": \"y\", \"side\": \"right\", \"anchor\": \"x\", \"range\": [0, 10], \"dtick\": 2, \"constrain\": \"domain\"}, \"yaxis201\": {\"automargin\": true, \"zeroline\": false, \"showgrid\": false, \"ticks\": \"outside\", \"showline\": true, \"showticklabels\": false, \"ticklen\": 3, \"mirror\": \"ticks\", \"overlaying\": \"y\", \"scaleanchor\": \"y\", \"anchor\": \"x\", \"range\": [0, 10], \"dtick\": 0.5, \"constrain\": \"domain\"}}, {\"showLink\": false, \"linkText\": \"Export to plot.ly\", \"plotlyServerURL\": \"https://plot.ly\"})});</script>"
      ],
      "text/vnd.plotly.v1+html": [
       "<div id=\"1bf7c758-fa4d-460d-ba8f-ff788e29ea51\" style=\"height: 450px; width: 450px;\" class=\"plotly-graph-div\"></div><script type=\"text/javascript\">require([\"plotly\"], function(Plotly) { window.PLOTLYENV=window.PLOTLYENV || {};window.PLOTLYENV.BASE_URL=\"https://plot.ly\";Plotly.newPlot(\"1bf7c758-fa4d-460d-ba8f-ff788e29ea51\", [{\"transpose\": true, \"x\": [0, 1, 2, 3, 4, 5, 6, 7, 8, 9, 10, 11, 12, 13, 14, 15, 16, 17, 18, 19, 20], \"y\": [0, 1, 2, 3, 4, 5, 6, 7, 8, 9, 10], \"z\": [[0.9471405604620349, -0.8569362979428918, 0.49702001380005534, 0.5830932175403127, -0.4723462433354608, -0.7303752121875651, -0.5567992308795855, 0.747996818275906, 0.5670678053643814, 0.42341712758109584], [-0.11326431202072129, 0.7883850679883864, 0.41361247061495865, 0.7558662338018791, -0.501247370460489, 0.909834932607406, -0.7286341140201609, -0.07397023822135007, 0.25922672552126924, 0.23805012449098273], [0.6964892302053951, -0.8582015874211588, -0.41782974974188014, 0.6373871908053392, 0.7264612658026581, -0.0942972183718207, 0.5096155163948948, -0.9071516271269384, -0.3464903883769146, -0.8048675916774968], [0.7135902665237643, -0.833923463599199, -0.7408849925852368, -0.7766971529626578, -0.6882784243296118, -0.806406073766325, 0.19114253903319534, 0.08820586736581704, -0.7011491228364404, -0.8191089268093119], [-0.255746083912356, -0.6107064747838591, -0.5383371943598176, -0.8219568870610627, -0.08037376128404583, -0.3547365926880899, -0.6049885186403536, -0.06493249941480439, -0.9227648379267848, -0.7811475874866411], [-0.5763582041695048, -0.42285200193280237, 0.4818218549503712, -0.27132244908197545, 0.5355659202924505, -0.04929800201725043, -0.23624013010377332, 0.784601858028531, 0.4147733941468721, -0.10491675557580904], [0.2919161018703067, -0.6492020968390784, -0.13369529619592346, -0.24139208966973036, -0.6261926703259226, -0.6081423125359118, 0.05956312596418911, 0.9916403452296993, 0.5072426295627146, 0.16556922623933978], [-0.7802026589506905, -0.34587186442428597, -0.7482524155669843, 0.36776046714525146, 0.4112912711596086, 0.2356115181748184, -0.632491432464626, 0.9302870233066662, -0.05882936053000809, 0.01368502353304657], [0.95659611493748, -0.7283806233734422, -0.18701820850250495, 0.9338120886645411, 0.028460373745489154, -0.051018383151997915, 0.6739883637535566, -0.17300880438082178, -0.9527194244289929, 0.4591643471330167], [0.6251280134150452, -0.012094328023543932, 0.5046816434991914, -0.25128136560421144, 0.3928958484028693, 0.2168137523832976, 0.7310612099822904, -0.14895365077335931, 0.638555218397606, -0.2900124022311483], [0.021305214862242794, 0.06836914704836738, -0.8807705015079179, 0.8452217309002192, -0.4999703281925423, -0.9632517464317918, 0.6155443175083946, -0.08758081325770051, 0.13112510042261993, 0.26522607288146527], [0.3711878415891203, -0.2802639074274289, -0.524785387024171, -0.43787606266993495, -0.9560730682482643, -0.6315073729177219, 0.10744407376970155, 0.10715618361542112, -0.1879590110285534, -0.15255902181223768], [-0.6882721074863081, 0.33684346707356805, 0.22393445098719056, -0.4627206972104114, -0.7897033522789048, -0.9081726157365995, 0.7391851818717396, 0.4877055447877683, 0.10332103500818346, -0.24909465057079294], [-0.4104809250985688, 0.8175678195685196, -0.9514363508299919, 0.6097225847996459, 0.608654072515151, -0.18269000192446683, -0.9877232443441637, -0.4897522481139236, -0.8584726111713652, 0.48222999544787504], [0.8155841196351972, -0.8117094479080036, 0.39230079293441844, -0.8357769689737455, 0.5394089925675682, 0.9994464669521392, 0.5210671335280297, -0.5163094850110157, -0.9502396264720019, 0.5656600556869822], [-0.3141959439812372, 0.04550093481214623, -0.576695353073809, -0.6725065786360485, 0.6482051879938235, -0.9552016156190484, 0.1514064418745198, 0.737653338012102, -0.7865781710197821, -0.4858672146355829], [0.9559191006498802, 0.3079948669294199, -0.39091824520504814, 0.6156406840621191, -0.8182146252304892, 0.7088103841503943, 0.18456560910178332, 0.43223317622390134, -0.2817132646227105, -0.03250392229015575], [0.2613416242737714, 0.5881878370755353, -0.3638975758430636, 0.04488327895752087, 0.7370746295909085, -0.007792734829252357, 0.43535940101151405, 0.026368446213398178, 0.9541408861053655, -0.180573623130301], [-0.7023677484868969, -0.8649517938948119, -0.7130814061095117, 0.35043862006783155, 0.544934891408557, 0.45642465753365413, 0.726923468355622, 0.7262472393366863, -0.9201740986654796, -0.5595297285689442], [0.5272277844122992, 0.5376062997640862, 0.6108188102074752, 0.1856095336356689, -0.34485509463021335, -0.9320513819884193, -0.27468527025646905, 0.4138717711233042, -0.6607450956593373, -0.7274141693603517]], \"type\": \"heatmap\", \"uid\": \"cbd03626-42ad-48ea-b243-dae033426e4d\"}, {\"visible\": false, \"xaxis\": \"x101\", \"yaxis\": \"y101\", \"type\": \"heatmap\", \"uid\": \"2040ff5d-86c2-4187-8e68-d487dc4a2b83\"}, {\"visible\": false, \"xaxis\": \"x201\", \"yaxis\": \"y201\", \"type\": \"heatmap\", \"uid\": \"3ecd5545-5a01-43c7-8ac9-a77653d54614\"}], {\"width\": 450, \"height\": 450, \"font\": {\"family\": \"Arial\", \"size\": 18}, \"title\": {\"font\": {\"size\": 20}, \"xanchor\": \"center\", \"xref\": \"paper\", \"yanchor\": \"middle\", \"yref\": \"container\", \"text\": \"Random numbers\", \"y\": 0.9111111111111111}, \"margin\": {\"b\": 20, \"l\": 20, \"r\": 20, \"t\": 80}, \"xaxis\": {\"automargin\": true, \"zeroline\": false, \"showgrid\": false, \"ticks\": \"outside\", \"title\": {\"font\": {\"size\": 20}, \"text\": \"horizontal\"}, \"showline\": false, \"showticklabels\": true, \"ticklen\": 5, \"tickfont\": {\"size\": 18}, \"hoverformat\": \".f\", \"anchor\": \"y\", \"range\": [0, 20], \"dtick\": 5, \"constrain\": \"domain\"}, \"xaxis101\": {\"automargin\": true, \"zeroline\": false, \"showgrid\": false, \"ticks\": \"outside\", \"showline\": false, \"showticklabels\": false, \"ticklen\": 5, \"overlaying\": \"x\", \"scaleanchor\": \"x\", \"side\": \"top\", \"anchor\": \"y\", \"range\": [0, 20], \"dtick\": 5, \"constrain\": \"domain\"}, \"xaxis201\": {\"automargin\": true, \"zeroline\": false, \"showgrid\": false, \"ticks\": \"outside\", \"showline\": true, \"showticklabels\": false, \"ticklen\": 3, \"mirror\": \"ticks\", \"overlaying\": \"x\", \"scaleanchor\": \"x\", \"anchor\": \"y\", \"range\": [0, 20], \"dtick\": 1.0, \"constrain\": \"domain\"}, \"yaxis\": {\"automargin\": true, \"zeroline\": false, \"showgrid\": false, \"ticks\": \"outside\", \"title\": {\"font\": {\"size\": 20}, \"text\": \"vertical\"}, \"showline\": false, \"showticklabels\": true, \"ticklen\": 5, \"tickfont\": {\"size\": 18}, \"hoverformat\": \".f\", \"tickprefix\": \"\\u2004\", \"ticksuffix\": \"\\u2009\", \"anchor\": \"x\", \"range\": [0, 10], \"dtick\": 2, \"constrain\": \"domain\", \"scaleanchor\": \"x\"}, \"yaxis101\": {\"automargin\": true, \"zeroline\": false, \"showgrid\": false, \"ticks\": \"outside\", \"showline\": false, \"showticklabels\": false, \"ticklen\": 5, \"overlaying\": \"y\", \"scaleanchor\": \"y\", \"side\": \"right\", \"anchor\": \"x\", \"range\": [0, 10], \"dtick\": 2, \"constrain\": \"domain\"}, \"yaxis201\": {\"automargin\": true, \"zeroline\": false, \"showgrid\": false, \"ticks\": \"outside\", \"showline\": true, \"showticklabels\": false, \"ticklen\": 3, \"mirror\": \"ticks\", \"overlaying\": \"y\", \"scaleanchor\": \"y\", \"anchor\": \"x\", \"range\": [0, 10], \"dtick\": 0.5, \"constrain\": \"domain\"}}, {\"showLink\": false, \"linkText\": \"Export to plot.ly\", \"plotlyServerURL\": \"https://plot.ly\"})});</script>"
      ]
     },
     "metadata": {},
     "output_type": "display_data"
    },
    {
     "data": {
      "text/html": [
       "<button onclick=\"download_plotly_image('1bf7c758-fa4d-460d-ba8f-ff788e29ea51', 'svg', 450, 450, 'plot-20190220-200451')\">\n",
       "  Download Image as <span style=\"text-transform:uppercase;\">svg</span>\n",
       "</button>\n",
       "<script>\n",
       "  if (window.Jupyter)\n",
       "  {\n",
       "    hide_draggable_elements(\"1bf7c758-fa4d-460d-ba8f-ff788e29ea51\");\n",
       "    remove_autoscale_button(\"1bf7c758-fa4d-460d-ba8f-ff788e29ea51\");\n",
       "  }\n",
       "  else\n",
       "  {\n",
       "    window.addEventListener(\"load\", () =>\n",
       "    {\n",
       "      hide_draggable_elements(\"1bf7c758-fa4d-460d-ba8f-ff788e29ea51\");\n",
       "      remove_autoscale_button(\"1bf7c758-fa4d-460d-ba8f-ff788e29ea51\");\n",
       "    });\n",
       "  }\n",
       "</script>\n"
      ],
      "text/plain": [
       "<IPython.core.display.HTML object>"
      ]
     },
     "metadata": {},
     "output_type": "display_data"
    }
   ],
   "source": [
    "plt.show(heatmap2)"
   ]
  },
  {
   "cell_type": "markdown",
   "metadata": {},
   "source": [
    "## Customize Heatmap"
   ]
  },
  {
   "cell_type": "markdown",
   "metadata": {},
   "source": [
    "For details about the following settings, executing `help(tk.go.Heatmap)` will help you."
   ]
  },
  {
   "cell_type": "code",
   "execution_count": 9,
   "metadata": {
    "ExecuteTime": {
     "end_time": "2019-02-20T20:04:52.591737Z",
     "start_time": "2019-02-20T20:04:52.579011Z"
    }
   },
   "outputs": [],
   "source": [
    "heatmap[0].update({\n",
    "  \"zmin\": -1,\n",
    "  \"zmax\": 1,\n",
    "  \"colorbar\": {\n",
    "    \"tickformat\": \".1f\",\n",
    "    \"len\": 0.6,\n",
    "    \"thickness\": 20,\n",
    "    \"title\": \"number<br>&nbsp;\",  # space between colorbar and its title\n",
    "    \"xpad\": 40\n",
    "  }\n",
    "});"
   ]
  },
  {
   "cell_type": "markdown",
   "metadata": {},
   "source": [
    "The below `shift` parameter controls shift of title's *y* position from its default position (default position is middle of the top margin).\n",
    "If the actual plot area shrinks for some reason, tuning `shift` might be useful."
   ]
  },
  {
   "cell_type": "code",
   "execution_count": 10,
   "metadata": {
    "ExecuteTime": {
     "end_time": "2019-02-20T20:04:52.636549Z",
     "start_time": "2019-02-20T20:04:52.597980Z"
    }
   },
   "outputs": [],
   "source": [
    "plt.set_title(\"Random numbers\", shift=-60)"
   ]
  },
  {
   "cell_type": "code",
   "execution_count": 11,
   "metadata": {
    "ExecuteTime": {
     "end_time": "2019-02-20T20:04:52.655151Z",
     "start_time": "2019-02-20T20:04:52.641329Z"
    }
   },
   "outputs": [],
   "source": [
    "plt.layout.width = 700"
   ]
  },
  {
   "cell_type": "code",
   "execution_count": 12,
   "metadata": {
    "ExecuteTime": {
     "end_time": "2019-02-20T20:04:53.739403Z",
     "start_time": "2019-02-20T20:04:52.671719Z"
    }
   },
   "outputs": [
    {
     "data": {
      "application/vnd.plotly.v1+json": {
       "config": {
        "linkText": "Export to plot.ly",
        "plotlyServerURL": "https://plot.ly",
        "showLink": false
       },
       "data": [
        {
         "colorbar": {
          "len": 0.6,
          "thickness": 20,
          "tickformat": ".1f",
          "title": {
           "text": "number<br>&nbsp;"
          },
          "xpad": 40
         },
         "dx": 1,
         "dy": 1,
         "transpose": true,
         "type": "heatmap",
         "uid": "37e6c095-53e7-4d76-9824-847544c98244",
         "x": [
          0,
          1,
          2,
          3,
          4,
          5,
          6,
          7,
          8,
          9,
          10,
          11,
          12,
          13,
          14,
          15,
          16,
          17,
          18,
          19,
          20
         ],
         "y": [
          0,
          1,
          2,
          3,
          4,
          5,
          6,
          7,
          8,
          9,
          10
         ],
         "z": [
          [
           0.9471405604620349,
           -0.8569362979428918,
           0.49702001380005534,
           0.5830932175403127,
           -0.4723462433354608,
           -0.7303752121875651,
           -0.5567992308795855,
           0.747996818275906,
           0.5670678053643814,
           0.42341712758109584
          ],
          [
           -0.11326431202072129,
           0.7883850679883864,
           0.41361247061495865,
           0.7558662338018791,
           -0.501247370460489,
           0.909834932607406,
           -0.7286341140201609,
           -0.07397023822135007,
           0.25922672552126924,
           0.23805012449098273
          ],
          [
           0.6964892302053951,
           -0.8582015874211588,
           -0.41782974974188014,
           0.6373871908053392,
           0.7264612658026581,
           -0.0942972183718207,
           0.5096155163948948,
           -0.9071516271269384,
           -0.3464903883769146,
           -0.8048675916774968
          ],
          [
           0.7135902665237643,
           -0.833923463599199,
           -0.7408849925852368,
           -0.7766971529626578,
           -0.6882784243296118,
           -0.806406073766325,
           0.19114253903319534,
           0.08820586736581704,
           -0.7011491228364404,
           -0.8191089268093119
          ],
          [
           -0.255746083912356,
           -0.6107064747838591,
           -0.5383371943598176,
           -0.8219568870610627,
           -0.08037376128404583,
           -0.3547365926880899,
           -0.6049885186403536,
           -0.06493249941480439,
           -0.9227648379267848,
           -0.7811475874866411
          ],
          [
           -0.5763582041695048,
           -0.42285200193280237,
           0.4818218549503712,
           -0.27132244908197545,
           0.5355659202924505,
           -0.04929800201725043,
           -0.23624013010377332,
           0.784601858028531,
           0.4147733941468721,
           -0.10491675557580904
          ],
          [
           0.2919161018703067,
           -0.6492020968390784,
           -0.13369529619592346,
           -0.24139208966973036,
           -0.6261926703259226,
           -0.6081423125359118,
           0.05956312596418911,
           0.9916403452296993,
           0.5072426295627146,
           0.16556922623933978
          ],
          [
           -0.7802026589506905,
           -0.34587186442428597,
           -0.7482524155669843,
           0.36776046714525146,
           0.4112912711596086,
           0.2356115181748184,
           -0.632491432464626,
           0.9302870233066662,
           -0.05882936053000809,
           0.01368502353304657
          ],
          [
           0.95659611493748,
           -0.7283806233734422,
           -0.18701820850250495,
           0.9338120886645411,
           0.028460373745489154,
           -0.051018383151997915,
           0.6739883637535566,
           -0.17300880438082178,
           -0.9527194244289929,
           0.4591643471330167
          ],
          [
           0.6251280134150452,
           -0.012094328023543932,
           0.5046816434991914,
           -0.25128136560421144,
           0.3928958484028693,
           0.2168137523832976,
           0.7310612099822904,
           -0.14895365077335931,
           0.638555218397606,
           -0.2900124022311483
          ],
          [
           0.021305214862242794,
           0.06836914704836738,
           -0.8807705015079179,
           0.8452217309002192,
           -0.4999703281925423,
           -0.9632517464317918,
           0.6155443175083946,
           -0.08758081325770051,
           0.13112510042261993,
           0.26522607288146527
          ],
          [
           0.3711878415891203,
           -0.2802639074274289,
           -0.524785387024171,
           -0.43787606266993495,
           -0.9560730682482643,
           -0.6315073729177219,
           0.10744407376970155,
           0.10715618361542112,
           -0.1879590110285534,
           -0.15255902181223768
          ],
          [
           -0.6882721074863081,
           0.33684346707356805,
           0.22393445098719056,
           -0.4627206972104114,
           -0.7897033522789048,
           -0.9081726157365995,
           0.7391851818717396,
           0.4877055447877683,
           0.10332103500818346,
           -0.24909465057079294
          ],
          [
           -0.4104809250985688,
           0.8175678195685196,
           -0.9514363508299919,
           0.6097225847996459,
           0.608654072515151,
           -0.18269000192446683,
           -0.9877232443441637,
           -0.4897522481139236,
           -0.8584726111713652,
           0.48222999544787504
          ],
          [
           0.8155841196351972,
           -0.8117094479080036,
           0.39230079293441844,
           -0.8357769689737455,
           0.5394089925675682,
           0.9994464669521392,
           0.5210671335280297,
           -0.5163094850110157,
           -0.9502396264720019,
           0.5656600556869822
          ],
          [
           -0.3141959439812372,
           0.04550093481214623,
           -0.576695353073809,
           -0.6725065786360485,
           0.6482051879938235,
           -0.9552016156190484,
           0.1514064418745198,
           0.737653338012102,
           -0.7865781710197821,
           -0.4858672146355829
          ],
          [
           0.9559191006498802,
           0.3079948669294199,
           -0.39091824520504814,
           0.6156406840621191,
           -0.8182146252304892,
           0.7088103841503943,
           0.18456560910178332,
           0.43223317622390134,
           -0.2817132646227105,
           -0.03250392229015575
          ],
          [
           0.2613416242737714,
           0.5881878370755353,
           -0.3638975758430636,
           0.04488327895752087,
           0.7370746295909085,
           -0.007792734829252357,
           0.43535940101151405,
           0.026368446213398178,
           0.9541408861053655,
           -0.180573623130301
          ],
          [
           -0.7023677484868969,
           -0.8649517938948119,
           -0.7130814061095117,
           0.35043862006783155,
           0.544934891408557,
           0.45642465753365413,
           0.726923468355622,
           0.7262472393366863,
           -0.9201740986654796,
           -0.5595297285689442
          ],
          [
           0.5272277844122992,
           0.5376062997640862,
           0.6108188102074752,
           0.1856095336356689,
           -0.34485509463021335,
           -0.9320513819884193,
           -0.27468527025646905,
           0.4138717711233042,
           -0.6607450956593373,
           -0.7274141693603517
          ]
         ],
         "zmax": 1,
         "zmin": -1
        },
        {
         "type": "heatmap",
         "uid": "2260a3ca-25f6-4e9b-8f6b-32ace96eb6cc",
         "visible": false,
         "xaxis": "x101",
         "yaxis": "y101"
        },
        {
         "type": "heatmap",
         "uid": "82b8bae5-f199-482f-9ce5-ed272ab04e01",
         "visible": false,
         "xaxis": "x201",
         "yaxis": "y201"
        }
       ],
       "layout": {
        "font": {
         "family": "Arial",
         "size": 18
        },
        "height": 450,
        "margin": {
         "b": 20,
         "l": 20,
         "r": 20,
         "t": 80
        },
        "title": {
         "font": {
          "size": 20
         },
         "text": "Random numbers",
         "xanchor": "center",
         "xref": "paper",
         "y": 0.7777777777777778,
         "yanchor": "middle",
         "yref": "container"
        },
        "width": 700,
        "xaxis": {
         "anchor": "y",
         "automargin": true,
         "constrain": "domain",
         "dtick": 5,
         "hoverformat": ".f",
         "range": [
          0,
          20
         ],
         "showgrid": false,
         "showline": false,
         "showticklabels": true,
         "tickfont": {
          "size": 18
         },
         "ticklen": 5,
         "ticks": "outside",
         "title": {
          "font": {
           "size": 20
          },
          "text": "horizontal"
         },
         "zeroline": false
        },
        "xaxis101": {
         "anchor": "y",
         "automargin": true,
         "constrain": "domain",
         "dtick": 5,
         "overlaying": "x",
         "range": [
          0,
          20
         ],
         "scaleanchor": "x",
         "showgrid": false,
         "showline": false,
         "showticklabels": false,
         "side": "top",
         "ticklen": 5,
         "ticks": "outside",
         "zeroline": false
        },
        "xaxis201": {
         "anchor": "y",
         "automargin": true,
         "constrain": "domain",
         "dtick": 1,
         "mirror": "ticks",
         "overlaying": "x",
         "range": [
          0,
          20
         ],
         "scaleanchor": "x",
         "showgrid": false,
         "showline": true,
         "showticklabels": false,
         "ticklen": 3,
         "ticks": "outside",
         "zeroline": false
        },
        "yaxis": {
         "anchor": "x",
         "automargin": true,
         "constrain": "domain",
         "dtick": 2,
         "hoverformat": ".f",
         "range": [
          0,
          10
         ],
         "scaleanchor": "x",
         "showgrid": false,
         "showline": false,
         "showticklabels": true,
         "tickfont": {
          "size": 18
         },
         "ticklen": 5,
         "tickprefix": " ",
         "ticks": "outside",
         "ticksuffix": " ",
         "title": {
          "font": {
           "size": 20
          },
          "text": "vertical"
         },
         "zeroline": false
        },
        "yaxis101": {
         "anchor": "x",
         "automargin": true,
         "constrain": "domain",
         "dtick": 2,
         "overlaying": "y",
         "range": [
          0,
          10
         ],
         "scaleanchor": "y",
         "showgrid": false,
         "showline": false,
         "showticklabels": false,
         "side": "right",
         "ticklen": 5,
         "ticks": "outside",
         "zeroline": false
        },
        "yaxis201": {
         "anchor": "x",
         "automargin": true,
         "constrain": "domain",
         "dtick": 0.5,
         "mirror": "ticks",
         "overlaying": "y",
         "range": [
          0,
          10
         ],
         "scaleanchor": "y",
         "showgrid": false,
         "showline": true,
         "showticklabels": false,
         "ticklen": 3,
         "ticks": "outside",
         "zeroline": false
        }
       }
      },
      "text/html": [
       "<div id=\"76da6c44-d044-4c54-bd41-4562c9544ceb\" style=\"height: 450px; width: 700px;\" class=\"plotly-graph-div\"></div><script type=\"text/javascript\">require([\"plotly\"], function(Plotly) { window.PLOTLYENV=window.PLOTLYENV || {};window.PLOTLYENV.BASE_URL=\"https://plot.ly\";Plotly.newPlot(\"76da6c44-d044-4c54-bd41-4562c9544ceb\", [{\"colorbar\": {\"len\": 0.6, \"thickness\": 20, \"tickformat\": \".1f\", \"title\": {\"text\": \"number<br>&nbsp;\"}, \"xpad\": 40}, \"dx\": 1, \"dy\": 1, \"transpose\": true, \"x\": [0, 1, 2, 3, 4, 5, 6, 7, 8, 9, 10, 11, 12, 13, 14, 15, 16, 17, 18, 19, 20], \"y\": [0, 1, 2, 3, 4, 5, 6, 7, 8, 9, 10], \"z\": [[0.9471405604620349, -0.8569362979428918, 0.49702001380005534, 0.5830932175403127, -0.4723462433354608, -0.7303752121875651, -0.5567992308795855, 0.747996818275906, 0.5670678053643814, 0.42341712758109584], [-0.11326431202072129, 0.7883850679883864, 0.41361247061495865, 0.7558662338018791, -0.501247370460489, 0.909834932607406, -0.7286341140201609, -0.07397023822135007, 0.25922672552126924, 0.23805012449098273], [0.6964892302053951, -0.8582015874211588, -0.41782974974188014, 0.6373871908053392, 0.7264612658026581, -0.0942972183718207, 0.5096155163948948, -0.9071516271269384, -0.3464903883769146, -0.8048675916774968], [0.7135902665237643, -0.833923463599199, -0.7408849925852368, -0.7766971529626578, -0.6882784243296118, -0.806406073766325, 0.19114253903319534, 0.08820586736581704, -0.7011491228364404, -0.8191089268093119], [-0.255746083912356, -0.6107064747838591, -0.5383371943598176, -0.8219568870610627, -0.08037376128404583, -0.3547365926880899, -0.6049885186403536, -0.06493249941480439, -0.9227648379267848, -0.7811475874866411], [-0.5763582041695048, -0.42285200193280237, 0.4818218549503712, -0.27132244908197545, 0.5355659202924505, -0.04929800201725043, -0.23624013010377332, 0.784601858028531, 0.4147733941468721, -0.10491675557580904], [0.2919161018703067, -0.6492020968390784, -0.13369529619592346, -0.24139208966973036, -0.6261926703259226, -0.6081423125359118, 0.05956312596418911, 0.9916403452296993, 0.5072426295627146, 0.16556922623933978], [-0.7802026589506905, -0.34587186442428597, -0.7482524155669843, 0.36776046714525146, 0.4112912711596086, 0.2356115181748184, -0.632491432464626, 0.9302870233066662, -0.05882936053000809, 0.01368502353304657], [0.95659611493748, -0.7283806233734422, -0.18701820850250495, 0.9338120886645411, 0.028460373745489154, -0.051018383151997915, 0.6739883637535566, -0.17300880438082178, -0.9527194244289929, 0.4591643471330167], [0.6251280134150452, -0.012094328023543932, 0.5046816434991914, -0.25128136560421144, 0.3928958484028693, 0.2168137523832976, 0.7310612099822904, -0.14895365077335931, 0.638555218397606, -0.2900124022311483], [0.021305214862242794, 0.06836914704836738, -0.8807705015079179, 0.8452217309002192, -0.4999703281925423, -0.9632517464317918, 0.6155443175083946, -0.08758081325770051, 0.13112510042261993, 0.26522607288146527], [0.3711878415891203, -0.2802639074274289, -0.524785387024171, -0.43787606266993495, -0.9560730682482643, -0.6315073729177219, 0.10744407376970155, 0.10715618361542112, -0.1879590110285534, -0.15255902181223768], [-0.6882721074863081, 0.33684346707356805, 0.22393445098719056, -0.4627206972104114, -0.7897033522789048, -0.9081726157365995, 0.7391851818717396, 0.4877055447877683, 0.10332103500818346, -0.24909465057079294], [-0.4104809250985688, 0.8175678195685196, -0.9514363508299919, 0.6097225847996459, 0.608654072515151, -0.18269000192446683, -0.9877232443441637, -0.4897522481139236, -0.8584726111713652, 0.48222999544787504], [0.8155841196351972, -0.8117094479080036, 0.39230079293441844, -0.8357769689737455, 0.5394089925675682, 0.9994464669521392, 0.5210671335280297, -0.5163094850110157, -0.9502396264720019, 0.5656600556869822], [-0.3141959439812372, 0.04550093481214623, -0.576695353073809, -0.6725065786360485, 0.6482051879938235, -0.9552016156190484, 0.1514064418745198, 0.737653338012102, -0.7865781710197821, -0.4858672146355829], [0.9559191006498802, 0.3079948669294199, -0.39091824520504814, 0.6156406840621191, -0.8182146252304892, 0.7088103841503943, 0.18456560910178332, 0.43223317622390134, -0.2817132646227105, -0.03250392229015575], [0.2613416242737714, 0.5881878370755353, -0.3638975758430636, 0.04488327895752087, 0.7370746295909085, -0.007792734829252357, 0.43535940101151405, 0.026368446213398178, 0.9541408861053655, -0.180573623130301], [-0.7023677484868969, -0.8649517938948119, -0.7130814061095117, 0.35043862006783155, 0.544934891408557, 0.45642465753365413, 0.726923468355622, 0.7262472393366863, -0.9201740986654796, -0.5595297285689442], [0.5272277844122992, 0.5376062997640862, 0.6108188102074752, 0.1856095336356689, -0.34485509463021335, -0.9320513819884193, -0.27468527025646905, 0.4138717711233042, -0.6607450956593373, -0.7274141693603517]], \"zmax\": 1, \"zmin\": -1, \"type\": \"heatmap\", \"uid\": \"37e6c095-53e7-4d76-9824-847544c98244\"}, {\"visible\": false, \"xaxis\": \"x101\", \"yaxis\": \"y101\", \"type\": \"heatmap\", \"uid\": \"2260a3ca-25f6-4e9b-8f6b-32ace96eb6cc\"}, {\"visible\": false, \"xaxis\": \"x201\", \"yaxis\": \"y201\", \"type\": \"heatmap\", \"uid\": \"82b8bae5-f199-482f-9ce5-ed272ab04e01\"}], {\"width\": 700, \"height\": 450, \"font\": {\"family\": \"Arial\", \"size\": 18}, \"title\": {\"font\": {\"size\": 20}, \"xanchor\": \"center\", \"xref\": \"paper\", \"yanchor\": \"middle\", \"yref\": \"container\", \"text\": \"Random numbers\", \"y\": 0.7777777777777778}, \"margin\": {\"b\": 20, \"l\": 20, \"r\": 20, \"t\": 80}, \"xaxis\": {\"automargin\": true, \"zeroline\": false, \"showgrid\": false, \"ticks\": \"outside\", \"title\": {\"font\": {\"size\": 20}, \"text\": \"horizontal\"}, \"showline\": false, \"showticklabels\": true, \"ticklen\": 5, \"tickfont\": {\"size\": 18}, \"hoverformat\": \".f\", \"anchor\": \"y\", \"range\": [0, 20], \"dtick\": 5, \"constrain\": \"domain\"}, \"xaxis101\": {\"automargin\": true, \"zeroline\": false, \"showgrid\": false, \"ticks\": \"outside\", \"showline\": false, \"showticklabels\": false, \"ticklen\": 5, \"overlaying\": \"x\", \"scaleanchor\": \"x\", \"side\": \"top\", \"anchor\": \"y\", \"range\": [0, 20], \"dtick\": 5, \"constrain\": \"domain\"}, \"xaxis201\": {\"automargin\": true, \"zeroline\": false, \"showgrid\": false, \"ticks\": \"outside\", \"showline\": true, \"showticklabels\": false, \"ticklen\": 3, \"mirror\": \"ticks\", \"overlaying\": \"x\", \"scaleanchor\": \"x\", \"anchor\": \"y\", \"range\": [0, 20], \"dtick\": 1.0, \"constrain\": \"domain\"}, \"yaxis\": {\"automargin\": true, \"zeroline\": false, \"showgrid\": false, \"ticks\": \"outside\", \"title\": {\"font\": {\"size\": 20}, \"text\": \"vertical\"}, \"showline\": false, \"showticklabels\": true, \"ticklen\": 5, \"tickfont\": {\"size\": 18}, \"hoverformat\": \".f\", \"tickprefix\": \"\\u2004\", \"ticksuffix\": \"\\u2009\", \"anchor\": \"x\", \"range\": [0, 10], \"dtick\": 2, \"constrain\": \"domain\", \"scaleanchor\": \"x\"}, \"yaxis101\": {\"automargin\": true, \"zeroline\": false, \"showgrid\": false, \"ticks\": \"outside\", \"showline\": false, \"showticklabels\": false, \"ticklen\": 5, \"overlaying\": \"y\", \"scaleanchor\": \"y\", \"side\": \"right\", \"anchor\": \"x\", \"range\": [0, 10], \"dtick\": 2, \"constrain\": \"domain\"}, \"yaxis201\": {\"automargin\": true, \"zeroline\": false, \"showgrid\": false, \"ticks\": \"outside\", \"showline\": true, \"showticklabels\": false, \"ticklen\": 3, \"mirror\": \"ticks\", \"overlaying\": \"y\", \"scaleanchor\": \"y\", \"anchor\": \"x\", \"range\": [0, 10], \"dtick\": 0.5, \"constrain\": \"domain\"}}, {\"showLink\": false, \"linkText\": \"Export to plot.ly\", \"plotlyServerURL\": \"https://plot.ly\"})});</script>"
      ],
      "text/vnd.plotly.v1+html": [
       "<div id=\"76da6c44-d044-4c54-bd41-4562c9544ceb\" style=\"height: 450px; width: 700px;\" class=\"plotly-graph-div\"></div><script type=\"text/javascript\">require([\"plotly\"], function(Plotly) { window.PLOTLYENV=window.PLOTLYENV || {};window.PLOTLYENV.BASE_URL=\"https://plot.ly\";Plotly.newPlot(\"76da6c44-d044-4c54-bd41-4562c9544ceb\", [{\"colorbar\": {\"len\": 0.6, \"thickness\": 20, \"tickformat\": \".1f\", \"title\": {\"text\": \"number<br>&nbsp;\"}, \"xpad\": 40}, \"dx\": 1, \"dy\": 1, \"transpose\": true, \"x\": [0, 1, 2, 3, 4, 5, 6, 7, 8, 9, 10, 11, 12, 13, 14, 15, 16, 17, 18, 19, 20], \"y\": [0, 1, 2, 3, 4, 5, 6, 7, 8, 9, 10], \"z\": [[0.9471405604620349, -0.8569362979428918, 0.49702001380005534, 0.5830932175403127, -0.4723462433354608, -0.7303752121875651, -0.5567992308795855, 0.747996818275906, 0.5670678053643814, 0.42341712758109584], [-0.11326431202072129, 0.7883850679883864, 0.41361247061495865, 0.7558662338018791, -0.501247370460489, 0.909834932607406, -0.7286341140201609, -0.07397023822135007, 0.25922672552126924, 0.23805012449098273], [0.6964892302053951, -0.8582015874211588, -0.41782974974188014, 0.6373871908053392, 0.7264612658026581, -0.0942972183718207, 0.5096155163948948, -0.9071516271269384, -0.3464903883769146, -0.8048675916774968], [0.7135902665237643, -0.833923463599199, -0.7408849925852368, -0.7766971529626578, -0.6882784243296118, -0.806406073766325, 0.19114253903319534, 0.08820586736581704, -0.7011491228364404, -0.8191089268093119], [-0.255746083912356, -0.6107064747838591, -0.5383371943598176, -0.8219568870610627, -0.08037376128404583, -0.3547365926880899, -0.6049885186403536, -0.06493249941480439, -0.9227648379267848, -0.7811475874866411], [-0.5763582041695048, -0.42285200193280237, 0.4818218549503712, -0.27132244908197545, 0.5355659202924505, -0.04929800201725043, -0.23624013010377332, 0.784601858028531, 0.4147733941468721, -0.10491675557580904], [0.2919161018703067, -0.6492020968390784, -0.13369529619592346, -0.24139208966973036, -0.6261926703259226, -0.6081423125359118, 0.05956312596418911, 0.9916403452296993, 0.5072426295627146, 0.16556922623933978], [-0.7802026589506905, -0.34587186442428597, -0.7482524155669843, 0.36776046714525146, 0.4112912711596086, 0.2356115181748184, -0.632491432464626, 0.9302870233066662, -0.05882936053000809, 0.01368502353304657], [0.95659611493748, -0.7283806233734422, -0.18701820850250495, 0.9338120886645411, 0.028460373745489154, -0.051018383151997915, 0.6739883637535566, -0.17300880438082178, -0.9527194244289929, 0.4591643471330167], [0.6251280134150452, -0.012094328023543932, 0.5046816434991914, -0.25128136560421144, 0.3928958484028693, 0.2168137523832976, 0.7310612099822904, -0.14895365077335931, 0.638555218397606, -0.2900124022311483], [0.021305214862242794, 0.06836914704836738, -0.8807705015079179, 0.8452217309002192, -0.4999703281925423, -0.9632517464317918, 0.6155443175083946, -0.08758081325770051, 0.13112510042261993, 0.26522607288146527], [0.3711878415891203, -0.2802639074274289, -0.524785387024171, -0.43787606266993495, -0.9560730682482643, -0.6315073729177219, 0.10744407376970155, 0.10715618361542112, -0.1879590110285534, -0.15255902181223768], [-0.6882721074863081, 0.33684346707356805, 0.22393445098719056, -0.4627206972104114, -0.7897033522789048, -0.9081726157365995, 0.7391851818717396, 0.4877055447877683, 0.10332103500818346, -0.24909465057079294], [-0.4104809250985688, 0.8175678195685196, -0.9514363508299919, 0.6097225847996459, 0.608654072515151, -0.18269000192446683, -0.9877232443441637, -0.4897522481139236, -0.8584726111713652, 0.48222999544787504], [0.8155841196351972, -0.8117094479080036, 0.39230079293441844, -0.8357769689737455, 0.5394089925675682, 0.9994464669521392, 0.5210671335280297, -0.5163094850110157, -0.9502396264720019, 0.5656600556869822], [-0.3141959439812372, 0.04550093481214623, -0.576695353073809, -0.6725065786360485, 0.6482051879938235, -0.9552016156190484, 0.1514064418745198, 0.737653338012102, -0.7865781710197821, -0.4858672146355829], [0.9559191006498802, 0.3079948669294199, -0.39091824520504814, 0.6156406840621191, -0.8182146252304892, 0.7088103841503943, 0.18456560910178332, 0.43223317622390134, -0.2817132646227105, -0.03250392229015575], [0.2613416242737714, 0.5881878370755353, -0.3638975758430636, 0.04488327895752087, 0.7370746295909085, -0.007792734829252357, 0.43535940101151405, 0.026368446213398178, 0.9541408861053655, -0.180573623130301], [-0.7023677484868969, -0.8649517938948119, -0.7130814061095117, 0.35043862006783155, 0.544934891408557, 0.45642465753365413, 0.726923468355622, 0.7262472393366863, -0.9201740986654796, -0.5595297285689442], [0.5272277844122992, 0.5376062997640862, 0.6108188102074752, 0.1856095336356689, -0.34485509463021335, -0.9320513819884193, -0.27468527025646905, 0.4138717711233042, -0.6607450956593373, -0.7274141693603517]], \"zmax\": 1, \"zmin\": -1, \"type\": \"heatmap\", \"uid\": \"37e6c095-53e7-4d76-9824-847544c98244\"}, {\"visible\": false, \"xaxis\": \"x101\", \"yaxis\": \"y101\", \"type\": \"heatmap\", \"uid\": \"2260a3ca-25f6-4e9b-8f6b-32ace96eb6cc\"}, {\"visible\": false, \"xaxis\": \"x201\", \"yaxis\": \"y201\", \"type\": \"heatmap\", \"uid\": \"82b8bae5-f199-482f-9ce5-ed272ab04e01\"}], {\"width\": 700, \"height\": 450, \"font\": {\"family\": \"Arial\", \"size\": 18}, \"title\": {\"font\": {\"size\": 20}, \"xanchor\": \"center\", \"xref\": \"paper\", \"yanchor\": \"middle\", \"yref\": \"container\", \"text\": \"Random numbers\", \"y\": 0.7777777777777778}, \"margin\": {\"b\": 20, \"l\": 20, \"r\": 20, \"t\": 80}, \"xaxis\": {\"automargin\": true, \"zeroline\": false, \"showgrid\": false, \"ticks\": \"outside\", \"title\": {\"font\": {\"size\": 20}, \"text\": \"horizontal\"}, \"showline\": false, \"showticklabels\": true, \"ticklen\": 5, \"tickfont\": {\"size\": 18}, \"hoverformat\": \".f\", \"anchor\": \"y\", \"range\": [0, 20], \"dtick\": 5, \"constrain\": \"domain\"}, \"xaxis101\": {\"automargin\": true, \"zeroline\": false, \"showgrid\": false, \"ticks\": \"outside\", \"showline\": false, \"showticklabels\": false, \"ticklen\": 5, \"overlaying\": \"x\", \"scaleanchor\": \"x\", \"side\": \"top\", \"anchor\": \"y\", \"range\": [0, 20], \"dtick\": 5, \"constrain\": \"domain\"}, \"xaxis201\": {\"automargin\": true, \"zeroline\": false, \"showgrid\": false, \"ticks\": \"outside\", \"showline\": true, \"showticklabels\": false, \"ticklen\": 3, \"mirror\": \"ticks\", \"overlaying\": \"x\", \"scaleanchor\": \"x\", \"anchor\": \"y\", \"range\": [0, 20], \"dtick\": 1.0, \"constrain\": \"domain\"}, \"yaxis\": {\"automargin\": true, \"zeroline\": false, \"showgrid\": false, \"ticks\": \"outside\", \"title\": {\"font\": {\"size\": 20}, \"text\": \"vertical\"}, \"showline\": false, \"showticklabels\": true, \"ticklen\": 5, \"tickfont\": {\"size\": 18}, \"hoverformat\": \".f\", \"tickprefix\": \"\\u2004\", \"ticksuffix\": \"\\u2009\", \"anchor\": \"x\", \"range\": [0, 10], \"dtick\": 2, \"constrain\": \"domain\", \"scaleanchor\": \"x\"}, \"yaxis101\": {\"automargin\": true, \"zeroline\": false, \"showgrid\": false, \"ticks\": \"outside\", \"showline\": false, \"showticklabels\": false, \"ticklen\": 5, \"overlaying\": \"y\", \"scaleanchor\": \"y\", \"side\": \"right\", \"anchor\": \"x\", \"range\": [0, 10], \"dtick\": 2, \"constrain\": \"domain\"}, \"yaxis201\": {\"automargin\": true, \"zeroline\": false, \"showgrid\": false, \"ticks\": \"outside\", \"showline\": true, \"showticklabels\": false, \"ticklen\": 3, \"mirror\": \"ticks\", \"overlaying\": \"y\", \"scaleanchor\": \"y\", \"anchor\": \"x\", \"range\": [0, 10], \"dtick\": 0.5, \"constrain\": \"domain\"}}, {\"showLink\": false, \"linkText\": \"Export to plot.ly\", \"plotlyServerURL\": \"https://plot.ly\"})});</script>"
      ]
     },
     "metadata": {},
     "output_type": "display_data"
    },
    {
     "data": {
      "text/html": [
       "<button onclick=\"download_plotly_image('76da6c44-d044-4c54-bd41-4562c9544ceb', 'svg', 450, 700, 'plot-20190220-200452')\">\n",
       "  Download Image as <span style=\"text-transform:uppercase;\">svg</span>\n",
       "</button>\n",
       "<script>\n",
       "  if (window.Jupyter)\n",
       "  {\n",
       "    hide_draggable_elements(\"76da6c44-d044-4c54-bd41-4562c9544ceb\");\n",
       "    remove_autoscale_button(\"76da6c44-d044-4c54-bd41-4562c9544ceb\");\n",
       "  }\n",
       "  else\n",
       "  {\n",
       "    window.addEventListener(\"load\", () =>\n",
       "    {\n",
       "      hide_draggable_elements(\"76da6c44-d044-4c54-bd41-4562c9544ceb\");\n",
       "      remove_autoscale_button(\"76da6c44-d044-4c54-bd41-4562c9544ceb\");\n",
       "    });\n",
       "  }\n",
       "</script>\n"
      ],
      "text/plain": [
       "<IPython.core.display.HTML object>"
      ]
     },
     "metadata": {},
     "output_type": "display_data"
    }
   ],
   "source": [
    "plt.show(heatmap)"
   ]
  },
  {
   "cell_type": "code",
   "execution_count": null,
   "metadata": {},
   "outputs": [],
   "source": []
  }
 ],
 "metadata": {
  "kernelspec": {
   "display_name": "Python 3",
   "language": "python",
   "name": "python3"
  },
  "language_info": {
   "codemirror_mode": {
    "name": "ipython",
    "version": 3
   },
   "file_extension": ".py",
   "mimetype": "text/x-python",
   "name": "python",
   "nbconvert_exporter": "python",
   "pygments_lexer": "ipython3",
   "version": "3.6.8"
  },
  "toc": {
   "base_numbering": 1,
   "nav_menu": {},
   "number_sections": true,
   "sideBar": true,
   "skip_h1_title": true,
   "title_cell": "Table of Contents",
   "title_sidebar": "Contents",
   "toc_cell": false,
   "toc_position": {},
   "toc_section_display": true,
   "toc_window_display": false
  },
  "widgets": {
   "application/vnd.jupyter.widget-state+json": {
    "state": {
     "0d4e665d92c34b5790a3de14f36b8f70": {
      "model_module": "plotlywidget",
      "model_module_version": "^0.6.0",
      "model_name": "FigureModel",
      "state": {
       "_config": {
        "plotlyServerURL": "https://plot.ly"
       },
       "_data": [
        {
         "colorbar": {
          "len": 0.6,
          "thickness": 20,
          "tickformat": ".1f",
          "title": {
           "text": "number<br>&nbsp;"
          },
          "xpad": 40
         },
         "dx": 1,
         "dy": 1,
         "transpose": true,
         "type": "heatmap",
         "uid": "27ac9e7f-2704-4ba8-9883-d98b70d40eee",
         "x": [
          0,
          1,
          2,
          3,
          4,
          5,
          6,
          7,
          8,
          9,
          10,
          11,
          12,
          13,
          14,
          15,
          16,
          17,
          18,
          19,
          20
         ],
         "y": [
          0,
          1,
          2,
          3,
          4,
          5,
          6,
          7,
          8,
          9,
          10
         ],
         "z": [
          [
           0.05656872564355209,
           -0.891963456284226,
           -0.9853032811136617,
           -0.2879881426521971,
           0.08945217891694157,
           0.41323505131651106,
           0.8925761369697665,
           0.5444115679348005,
           -0.021305667926749594,
           0.3168738531942703
          ],
          [
           -0.3704662390426787,
           -0.1454333138504722,
           0.1810342859932348,
           -0.19855510120562925,
           0.5061042179865733,
           -0.4323986555844923,
           -0.052888146792891444,
           0.6734880236276544,
           0.42204441701364614,
           -0.11172239753316426
          ],
          [
           0.06917666601257388,
           -0.08391599692618446,
           -0.8630479309615429,
           0.7089402254825212,
           -0.8858477612360138,
           -0.8651428327036057,
           0.3167445030960989,
           -0.09059760551839235,
           -0.0394559542233055,
           -0.965290992021842
          ],
          [
           -0.38860998169834327,
           -0.896451674775639,
           0.6094443780024403,
           0.5805400379741477,
           -0.16942339289783814,
           -0.9814736938309621,
           -0.3363040086627265,
           0.858554130172068,
           0.051519958309775404,
           0.03900762408938374
          ],
          [
           0.6527398156316617,
           0.1387880236406731,
           -0.3788203788261575,
           0.9195828905932972,
           -0.14130175583729487,
           -0.48234669077083203,
           0.27522772360507997,
           0.8661006764994985,
           0.6370704900697417,
           -0.6634744564741131
          ],
          [
           0.6808534300224751,
           0.1934718667262434,
           0.646368863405044,
           0.4101000219149076,
           -0.9439602161372067,
           0.8664357585917877,
           0.29827786106819576,
           -0.46226352783461766,
           0.6356262813592626,
           -0.481084099315114
          ],
          [
           0.4833596334387944,
           -0.13044452837390352,
           0.5362369979633435,
           -0.047999623095258626,
           0.023361923528800732,
           -0.6015151416987004,
           -0.16878362346274223,
           -0.3582477152318335,
           0.09518915221824575,
           0.8155343550750331
          ],
          [
           -0.4285384340549234,
           -0.5697173846513652,
           -0.3656792097451882,
           0.6639224391612011,
           0.6257469503582374,
           0.3880276706814232,
           -0.8326670717349838,
           -0.8650459865749178,
           -0.7110284826858004,
           -0.29377939940223685
          ],
          [
           -0.11421858224403492,
           -0.6173262178743057,
           0.41327066638452004,
           0.01916793055182997,
           -0.9944277399652897,
           0.442627843590786,
           -0.6118221246822777,
           -0.764991325131398,
           0.8129283776554059,
           -0.5476042223423192
          ],
          [
           0.226240403191871,
           0.5613229350446904,
           -0.24958570523409418,
           -0.9344731518427438,
           -0.4255727155200395,
           0.2537173251876721,
           -0.8453665240320185,
           -0.907914755076781,
           0.8146692948998304,
           -0.945834626224807
          ],
          [
           -0.3927450660768861,
           -0.4986947007147027,
           0.0845231471507275,
           0.48838428126420164,
           -0.5709636597083587,
           0.9454878874876445,
           0.9271633650645414,
           -0.7559464493252517,
           -0.7521173618819659,
           0.5636104454409803
          ],
          [
           0.6340399620631736,
           -0.6294464118779242,
           0.7242348087985708,
           -0.41856367899214075,
           -0.17984902600646668,
           0.720709311423471,
           0.8317644049359612,
           -0.262597257167825,
           0.1137979380626204,
           -0.8652579226018804
          ],
          [
           0.4554164177010114,
           -0.4657109336341452,
           0.1895515566587409,
           0.48563815821274114,
           -0.12687070585693605,
           0.532843512279181,
           -0.44851190282792164,
           0.9587847604395408,
           -0.20509836436335172,
           0.9000897709881532
          ],
          [
           -0.41090716040947006,
           0.23141285646604182,
           -0.8785765874217675,
           0.9084776616049768,
           0.9863974912280025,
           -0.7512252946285274,
           -0.3645239226307011,
           -0.27480510115203716,
           -0.671508706216611,
           -0.539019396886522
          ],
          [
           -0.16173222510558372,
           -0.8645801773398265,
           -0.5591101707514823,
           0.5233354491682338,
           0.7644521072777672,
           -0.2532796003310609,
           0.4005847774504032,
           0.08802910786026819,
           0.6797671250054931,
           0.3136425052420968
          ],
          [
           0.9938385617373837,
           -0.9020438408502234,
           -0.567367568252064,
           -0.7631808702390106,
           0.8236176051346251,
           -0.2981319777366054,
           0.00651959926547363,
           0.307928321278667,
           0.5813262263699595,
           -0.8755232408881337
          ],
          [
           -0.6972743594549295,
           0.890153936061695,
           0.2280899526330442,
           -0.1961523374780858,
           -0.8741288923691135,
           -0.2418227712293426,
           -0.10925095107614435,
           0.007151714322653824,
           -0.9140342211516876,
           0.3723836457375318
          ],
          [
           0.8905143293639537,
           0.16485607454679596,
           -0.09343513372888901,
           -0.8497285840090538,
           0.6323778385655263,
           -0.4117976539297181,
           0.4911641469505972,
           -0.24449752443277273,
           -0.9235338537946252,
           -0.6927977524711957
          ],
          [
           -0.6561273052441119,
           -0.2514025992154618,
           -0.2273965499976629,
           -0.35809011144638325,
           0.03941255781927677,
           -0.18096025669422655,
           -0.1330930034936284,
           -0.2997211536325284,
           -0.07673591274132163,
           -0.9212738122540425
          ],
          [
           0.19976024487897037,
           0.7882302057522876,
           0.011415343065328987,
           -0.6844118421019691,
           -0.5784843795265715,
           -0.5345821480749098,
           -0.35409230390827506,
           0.6252117038398455,
           -0.5262809945437781,
           0.08031996081789594
          ]
         ],
         "zmax": 1,
         "zmin": -1
        }
       ],
       "_js2py_layoutDelta": {},
       "_js2py_pointsCallback": {},
       "_js2py_relayout": {},
       "_js2py_restyle": {},
       "_js2py_traceDeltas": {},
       "_js2py_update": {},
       "_last_layout_edit_id": 17,
       "_last_trace_edit_id": 14,
       "_layout": {
        "annotations": [
         {
          "font": {
           "family": "Arial",
           "size": 20
          },
          "name": "title",
          "showarrow": false,
          "text": "Random numbers",
          "x": 0.5,
          "xanchor": "center",
          "xref": "paper",
          "y": 1,
          "yanchor": "bottom",
          "yref": "paper",
          "yshift": -30
         }
        ],
        "font": {
         "family": "Arial",
         "size": 18
        },
        "height": 450,
        "margin": {
         "b": 0,
         "l": 0,
         "r": 10
        },
        "titlefont": {
         "family": "Arial",
         "size": 20
        },
        "width": 700
       },
       "_py2js_animate": {},
       "_py2js_moveTraces": {},
       "_py2js_removeLayoutProps": {},
       "_py2js_removeTraceProps": {},
       "_py2js_restyle": {},
       "_py2js_update": {},
       "_view_count": 0
      }
     },
     "399651b7922a49eab5721aac69145ef1": {
      "model_module": "plotlywidget",
      "model_module_version": "^0.6.0",
      "model_name": "FigureModel",
      "state": {
       "_config": {
        "plotlyServerURL": "https://plot.ly"
       },
       "_data": [
        {
         "colorbar": {
          "len": 0.6,
          "thickness": 20,
          "tickformat": ".1f",
          "title": {
           "text": "number<br>&nbsp;"
          },
          "xpad": 40
         },
         "dx": 1,
         "dy": 1,
         "transpose": true,
         "type": "heatmap",
         "uid": "771bc7f0-2068-4955-9aaf-b16ae9c85458",
         "x": [
          0,
          1,
          2,
          3,
          4,
          5,
          6,
          7,
          8,
          9,
          10,
          11,
          12,
          13,
          14,
          15,
          16,
          17,
          18,
          19,
          20
         ],
         "y": [
          0,
          1,
          2,
          3,
          4,
          5,
          6,
          7,
          8,
          9,
          10
         ],
         "z": [
          [
           -0.0292959812701048,
           -0.6927469236307364,
           -0.7635714603665977,
           -0.6781460318835419,
           -0.21576106133160966,
           -0.5206568531536393,
           -0.13867665367870696,
           0.9592479256677109,
           0.7665359662606597,
           0.17335014319915132
          ],
          [
           -0.09597684284435615,
           0.956048950995767,
           0.10846288764127188,
           0.33155017667991826,
           -0.703782553564877,
           0.05174078734803267,
           0.26613651290284324,
           0.38785600995721214,
           0.12454736827877078,
           -0.29877447528871204
          ],
          [
           -0.12658942131133744,
           -0.5193081176580663,
           -0.6804103331003117,
           0.30364074027792265,
           -0.14796891971593662,
           0.26383417236574713,
           0.4341845055608309,
           0.05513093074882436,
           0.446731806971316,
           -0.8731222962157192
          ],
          [
           -0.8860366137671041,
           -0.0056581318244650625,
           0.1751042287324196,
           -0.537677287929105,
           -0.3919893038203526,
           -0.7962639001401945,
           -0.9518980929895082,
           -0.029454461464336834,
           0.44727828575424344,
           -0.46687001931004346
          ],
          [
           -0.2620154634122924,
           0.042959878507495386,
           0.609849635909643,
           -0.7923360376191277,
           0.4977248775365526,
           0.11872083258488142,
           -0.03877662683994054,
           -0.17726469057195948,
           0.6138368417508158,
           -0.5779447445274684
          ],
          [
           -0.1260529361296603,
           -0.598920530755704,
           -0.10441287116943765,
           0.4254436443100371,
           0.7690862229699993,
           -0.031288496062268356,
           0.12531310734558954,
           0.6971796660244456,
           0.17359701128303606,
           -0.33941714323015026
          ],
          [
           -0.7691702593852479,
           0.4554907874855081,
           0.4097781707157302,
           -0.7028569833314591,
           -0.9320271636378648,
           0.2055304210076474,
           0.5211071071529767,
           -0.9839702527277157,
           -0.7568061100918169,
           -0.3844986367865224
          ],
          [
           -0.0995673487309916,
           -0.2169483813557198,
           -0.2261260115739676,
           -0.6811929120084077,
           0.4639151549310889,
           -0.6792095256681889,
           0.49188225355466386,
           0.469675707102039,
           0.13710939187058857,
           0.24581186678003442
          ],
          [
           -0.6846824204362665,
           -0.46667368673711884,
           0.41651040380116067,
           -0.12506278456264552,
           0.8266182232119543,
           0.5388264124136541,
           0.3366881884079125,
           -0.7697372870858092,
           -0.1943096318010742,
           0.42283662243582554
          ],
          [
           -0.20459421733963445,
           0.8243782950363032,
           0.7888364326370627,
           -0.7746403387517502,
           0.7650641650392691,
           -0.32964929839184287,
           0.911546885793731,
           0.006521986424103066,
           -0.435385145753443,
           0.6544541914706761
          ],
          [
           -0.6036000932518035,
           -0.5254433241859362,
           -0.25619613868106894,
           -0.6539421856663918,
           0.3532192564469341,
           -0.7305548587903883,
           0.27034884620357436,
           -0.7522751173011197,
           -0.389187503715672,
           -0.26028549677892276
          ],
          [
           0.9320481430756307,
           -0.3655815714991095,
           -0.8186971723944463,
           0.7893583814429614,
           -0.774410236767479,
           -0.27191108607857295,
           0.1501186243847641,
           0.2761300685556105,
           0.9033532856764046,
           -0.0983904900532806
          ],
          [
           -0.6739186647418904,
           0.4223600424504015,
           -0.5928191596512646,
           -0.8113631138973274,
           0.17299877572051314,
           0.5537601598649013,
           -0.7907926580951048,
           0.22825123997639452,
           -0.2144148575751974,
           0.8889214049626866
          ],
          [
           0.8386750989915703,
           -0.7393375984521506,
           0.28166071462312536,
           -0.5688480775022455,
           -0.7645599377869898,
           0.10866601148445021,
           -0.6894067330444846,
           -0.8663413117394589,
           0.48174982579517556,
           -0.476811561940224
          ],
          [
           0.888883835434801,
           -0.5545584612408951,
           -0.17388476089875504,
           -0.6459353379235659,
           0.2685037017874694,
           0.24685435958344315,
           -0.6311878238325956,
           0.8620562077198644,
           0.21909101691853805,
           0.15019378367182368
          ],
          [
           -0.3752031250373751,
           0.8604107328284321,
           0.0812471095792413,
           0.6961599150980267,
           0.9055321700071217,
           -0.4584908897556459,
           -0.026622745144509796,
           0.6992997763576703,
           0.571009991473753,
           0.8450934168183977
          ],
          [
           -0.2024899388047967,
           -0.02424578645105213,
           -0.5373339230133845,
           -0.8770755601945284,
           -0.7758306464869824,
           0.5140790367116546,
           0.14914273744945983,
           0.6999211477491947,
           0.5894323618315132,
           0.44711454709293696
          ],
          [
           -0.7504885315296821,
           0.5376637197452825,
           0.5842243636034599,
           0.5620507993039947,
           0.20014528954173638,
           0.27043716826619546,
           0.7906639163491862,
           -0.08834518292578752,
           0.9870069350134645,
           -0.3761554912985601
          ],
          [
           -0.15464085897089164,
           0.43351860693193545,
           0.9803411647543601,
           0.7532129182916878,
           -0.22643458799513105,
           0.633906064844469,
           -0.4505187825545216,
           0.6048438588773501,
           -0.6422171805606367,
           0.9416362490592716
          ],
          [
           -0.6486300445559687,
           -0.9684875877084618,
           -0.039211798128116815,
           0.6249991047110488,
           -0.17452138542553564,
           0.9999739269302426,
           -0.4725246283873141,
           -0.45204912944417663,
           0.20454496625560692,
           -0.33385928771218487
          ]
         ],
         "zmax": 1,
         "zmin": -1
        }
       ],
       "_js2py_layoutDelta": {},
       "_js2py_pointsCallback": {},
       "_js2py_relayout": {},
       "_js2py_restyle": {},
       "_js2py_traceDeltas": {},
       "_js2py_update": {},
       "_last_layout_edit_id": 17,
       "_last_trace_edit_id": 16,
       "_layout": {
        "font": {
         "family": "Arial",
         "size": 18
        },
        "height": 450,
        "margin": {
         "b": 0,
         "l": 0,
         "r": 20,
         "t": 80
        },
        "title": {
         "font": {
          "family": "Arial",
          "size": 20
         },
         "text": "Random numbers",
         "xanchor": "center",
         "xref": "paper",
         "y": 0.7777777777777778,
         "yanchor": "middle",
         "yref": "container"
        },
        "width": 700
       },
       "_py2js_animate": {},
       "_py2js_moveTraces": {},
       "_py2js_removeLayoutProps": {},
       "_py2js_removeTraceProps": {},
       "_py2js_restyle": {},
       "_view_count": 0
      }
     },
     "4c4224fe080846ab9af68f290e562733": {
      "model_module": "plotlywidget",
      "model_module_version": "^0.6.0",
      "model_name": "FigureModel",
      "state": {
       "_config": {
        "plotlyServerURL": "https://plot.ly"
       },
       "_data": [
        {
         "colorbar": {
          "len": 0.6,
          "thickness": 20,
          "tickformat": ".1f",
          "title": {
           "text": "number<br>&nbsp;"
          },
          "xpad": 40
         },
         "dx": 1,
         "dy": 1,
         "transpose": true,
         "type": "heatmap",
         "uid": "543f4539-6dff-4ea9-8f55-0e700b1bc189",
         "x": [
          0,
          1,
          2,
          3,
          4,
          5,
          6,
          7,
          8,
          9,
          10,
          11,
          12,
          13,
          14,
          15,
          16,
          17,
          18,
          19,
          20
         ],
         "y": [
          0,
          1,
          2,
          3,
          4,
          5,
          6,
          7,
          8,
          9,
          10
         ],
         "z": [
          [
           0.2610016687510599,
           -0.6676195237370468,
           -0.15903082873108088,
           0.003710671641052432,
           -0.8725950652451631,
           0.8813341782425199,
           -0.6255691471216782,
           0.11620012990514339,
           0.45571851404079755,
           -0.27199826935768634
          ],
          [
           0.857222406843557,
           0.5806478294348885,
           0.5537267089357039,
           0.20397173325317053,
           0.35109806352880746,
           -0.5053007930818174,
           0.0927031662686959,
           0.19925954799681533,
           0.7697811452325884,
           0.31701943920151443
          ],
          [
           0.5062524181425674,
           -0.41649167646431384,
           0.7663138263817053,
           -0.34066114292723637,
           0.8855833939034228,
           0.7741800718079543,
           0.3396619311541811,
           -0.2638961809433411,
           0.6368477195532536,
           -0.22132879685186424
          ],
          [
           0.06721852595558309,
           0.24606052510783138,
           0.14841258225213805,
           0.2627436739937432,
           0.6154497380954231,
           -0.4187221656026696,
           -0.8729900620434343,
           -0.3237241812565834,
           -0.4708445824525538,
           -0.37143608475737255
          ],
          [
           0.17731844922415152,
           0.4625343547892262,
           0.09502502177368277,
           -0.6567169061443272,
           0.2785446973361787,
           -0.8784346088184329,
           0.624349681908283,
           0.15275101905155264,
           -0.9941519883881977,
           0.5897891503103143
          ],
          [
           -0.8313125133963124,
           0.23584225707800544,
           0.9247771405996443,
           0.07631954291501541,
           0.3577255543079465,
           0.2977771631349173,
           -0.03952591355511048,
           0.4916350632065858,
           0.3558733381635888,
           0.8881364656330173
          ],
          [
           -0.4098959776030393,
           -0.47527898316729167,
           -0.47089978223955287,
           -0.9201615500312303,
           0.049728950472404776,
           -0.5427803169123637,
           0.3188049028378752,
           -0.4971835646439431,
           -0.9793177056523337,
           -0.017490997211746295
          ],
          [
           0.37928346605033036,
           -0.8220925988484267,
           -0.8774292125066139,
           -0.6125404863937238,
           0.9837952746311451,
           -0.18127570657440906,
           0.527736039192618,
           -0.22259033271021078,
           -0.3291786556382299,
           0.9149539182519231
          ],
          [
           -0.4506020860957789,
           -0.6640378410344947,
           0.1927745438211852,
           0.3685913836992629,
           0.33594925262281294,
           0.8000682086968569,
           -0.21332663337552238,
           0.8711243901873187,
           0.274904141524817,
           -0.803615132639119
          ],
          [
           0.4899297687488935,
           -0.30570897339999803,
           -0.8578616655084439,
           -0.026920711151536825,
           -0.8923908752661949,
           0.6990021683119134,
           -0.7823609003059939,
           0.7743396416791342,
           0.11551397307344047,
           0.1336087089009057
          ],
          [
           0.03588546496702438,
           -0.027907572916233248,
           0.07151933452444026,
           0.6101609064821958,
           -0.28321414729965255,
           0.8132690869005097,
           0.9947253327136925,
           0.004918635181570874,
           0.24008429142150822,
           0.7058176319650082
          ],
          [
           -0.49750235831105405,
           -0.3172026332363773,
           -0.9435804190638795,
           -0.5885471140361687,
           -0.3254527583869893,
           -0.42646463554448255,
           0.9957537841760027,
           -0.9720295673085477,
           0.35730970212984814,
           0.9469400434765947
          ],
          [
           -0.5546168994748819,
           0.44512551038787307,
           0.17996785998002052,
           -0.8908499022866785,
           -0.5961499992837802,
           0.06960703244390021,
           0.2268998922141543,
           0.3231851232251719,
           0.9523083912324737,
           0.8576497817824957
          ],
          [
           0.584392150632066,
           0.08275195894692966,
           0.9937761897140214,
           0.7228045137832404,
           0.7493521584907104,
           0.7257891195197934,
           -0.9342751960172471,
           -0.5845481048703085,
           -0.24601279999418924,
           -0.13307829261648796
          ],
          [
           0.22173292932922273,
           0.7347872208888491,
           0.6614892743071932,
           0.44218609514907636,
           0.6274953529096641,
           0.005942614970502413,
           0.49704077117309264,
           -0.5790381968118814,
           -0.3538474983835671,
           -0.8650939323616873
          ],
          [
           -0.6933925768014209,
           0.4357636060917096,
           -0.7578530138049868,
           0.1768703319410243,
           -0.16620965215543326,
           -0.7341085989936103,
           -0.8710138479506104,
           -0.4683376626450759,
           -0.7232444704567231,
           -0.4425210882492827
          ],
          [
           0.4305866418154374,
           0.4050898034352237,
           -0.9007402586523243,
           -0.2877070277059539,
           0.01832034070228672,
           -0.3936446293064191,
           0.3184378246146733,
           -0.8764005978900229,
           -0.8033147811570456,
           -0.8381327067098983
          ],
          [
           -0.5927386230803235,
           0.36184123011686076,
           -0.665871919304114,
           -0.8489862057649022,
           0.9559652472094888,
           0.5856177276407764,
           -0.6463502283713751,
           -0.47115521565279495,
           0.3585325102399839,
           0.5835233870325913
          ],
          [
           -0.6418493862327499,
           0.518759543298126,
           0.40378425970679577,
           -0.7642482005897391,
           -0.056991677938925234,
           -0.6864967085975942,
           0.4708115957055772,
           -0.16449732053915356,
           -0.07495759894368659,
           0.8588431310614637
          ],
          [
           0.06788503252929456,
           0.19368855971321097,
           0.835446143913354,
           -0.47050809527621285,
           0.2275896547415983,
           -0.7472026476766231,
           -0.9686685976445399,
           0.8295495522723624,
           0.6367503694673684,
           -0.19549701444400558
          ]
         ],
         "zmax": 1,
         "zmin": -1
        }
       ],
       "_js2py_layoutDelta": {},
       "_js2py_pointsCallback": {},
       "_js2py_relayout": {},
       "_js2py_restyle": {},
       "_js2py_traceDeltas": {},
       "_js2py_update": {},
       "_last_layout_edit_id": 17,
       "_last_trace_edit_id": 16,
       "_layout": {
        "font": {
         "family": "Arial",
         "size": 18
        },
        "height": 450,
        "margin": {
         "b": 0,
         "l": 0,
         "r": 20,
         "t": 80
        },
        "title": {
         "font": {
          "size": 20
         },
         "text": "Random numbers",
         "xanchor": "center",
         "xref": "paper",
         "y": 0.7777777777777778,
         "yanchor": "middle",
         "yref": "container"
        },
        "width": 700,
        "xaxis": {
         "anchor": "y",
         "automargin": true,
         "constrain": "domain",
         "dtick": 5,
         "hoverformat": ".f",
         "range": [
          0,
          20
         ],
         "showgrid": false,
         "showline": false,
         "showticklabels": true,
         "tickfont": {
          "size": 18
         },
         "ticklen": 5,
         "ticks": "outside",
         "title": {
          "font": {
           "size": 20
          },
          "text": "horizontal"
         },
         "zeroline": false
        },
        "xaxis101": {
         "anchor": "y",
         "automargin": true,
         "constrain": "domain",
         "dtick": 5,
         "overlaying": "x",
         "range": [
          0,
          20
         ],
         "scaleanchor": "x",
         "showgrid": false,
         "showline": false,
         "showticklabels": false,
         "side": "top",
         "ticklen": 5,
         "ticks": "outside",
         "zeroline": false
        },
        "xaxis201": {
         "anchor": "y",
         "automargin": true,
         "constrain": "domain",
         "dtick": 1,
         "mirror": "ticks",
         "overlaying": "x",
         "range": [
          0,
          20
         ],
         "scaleanchor": "x",
         "showgrid": false,
         "showline": true,
         "showticklabels": false,
         "ticklen": 3,
         "ticks": "outside",
         "zeroline": false
        },
        "yaxis": {
         "anchor": "x",
         "automargin": true,
         "constrain": "domain",
         "dtick": 2,
         "hoverformat": ".f",
         "range": [
          0,
          10
         ],
         "scaleanchor": "x",
         "showgrid": false,
         "showline": false,
         "showticklabels": true,
         "tickfont": {
          "size": 18
         },
         "ticklen": 5,
         "tickprefix": " ",
         "ticks": "outside",
         "ticksuffix": " ",
         "title": {
          "font": {
           "size": 20
          },
          "text": "vertical"
         },
         "zeroline": false
        },
        "yaxis101": {
         "anchor": "x",
         "automargin": true,
         "constrain": "domain",
         "dtick": 2,
         "overlaying": "y",
         "range": [
          0,
          10
         ],
         "scaleanchor": "y",
         "showgrid": false,
         "showline": false,
         "showticklabels": false,
         "side": "right",
         "ticklen": 5,
         "ticks": "outside",
         "zeroline": false
        },
        "yaxis201": {
         "anchor": "x",
         "automargin": true,
         "constrain": "domain",
         "dtick": 0.5,
         "mirror": "ticks",
         "overlaying": "y",
         "range": [
          0,
          10
         ],
         "scaleanchor": "y",
         "showgrid": false,
         "showline": true,
         "showticklabels": false,
         "ticklen": 3,
         "ticks": "outside",
         "zeroline": false
        }
       },
       "_py2js_animate": {},
       "_py2js_moveTraces": {},
       "_py2js_removeLayoutProps": {},
       "_py2js_removeTraceProps": {},
       "_py2js_restyle": {},
       "_view_count": 0
      }
     },
     "71645b9da9ec40c38a0b8bd145e209dd": {
      "model_module": "plotlywidget",
      "model_module_version": "^0.6.0",
      "model_name": "FigureModel",
      "state": {
       "_config": {
        "plotlyServerURL": "https://plot.ly"
       },
       "_data": [
        {
         "colorbar": {
          "len": 0.6,
          "thickness": 20,
          "tickformat": ".1f",
          "title": {
           "text": "number<br>&nbsp;"
          },
          "xpad": 40
         },
         "dx": 1,
         "dy": 1,
         "transpose": true,
         "type": "heatmap",
         "uid": "6f4fec8e-d459-459e-8971-32d3cf0524a9",
         "x": [
          0,
          1,
          2,
          3,
          4,
          5,
          6,
          7,
          8,
          9,
          10,
          11,
          12,
          13,
          14,
          15,
          16,
          17,
          18,
          19,
          20
         ],
         "y": [
          0,
          1,
          2,
          3,
          4,
          5,
          6,
          7,
          8,
          9,
          10
         ],
         "z": [
          [
           -0.5567119764332316,
           0.47370844506110865,
           0.602279507243767,
           0.8028322999470177,
           0.9390843539522302,
           0.3852136969331772,
           -0.49926191713586365,
           0.2017874728086817,
           -0.5915703894995137,
           0.7287349246539405
          ],
          [
           0.2143735114207621,
           0.3346405049969656,
           0.5179096806869123,
           -0.591490724911558,
           -0.18066052779045738,
           0.2269926928282875,
           0.5557581951963213,
           0.6960289679395777,
           -0.6537064467807656,
           -0.6281119383187201
          ],
          [
           0.21657852669896416,
           -0.34729490421901454,
           0.7603137531985875,
           0.10759279731727789,
           0.02926101202501319,
           -0.591874442397339,
           -0.8066003254200125,
           0.476469310703588,
           0.7485477203539432,
           -0.12472381857092496
          ],
          [
           0.41263933447213175,
           0.3639929950865928,
           -0.6444435657500431,
           -0.14120667573482248,
           -0.38911002711738374,
           0.7425167887517241,
           -0.8218826994329886,
           0.6500737890770889,
           -0.7254246183818842,
           -0.7752301347953692
          ],
          [
           0.5745101087675708,
           0.32922883233347444,
           0.035634284962555496,
           0.5680712892588993,
           0.7678198024372094,
           -0.36093238520017046,
           -0.6939874688889791,
           -0.9741906171632675,
           0.9476634249726905,
           0.23776454604451147
          ],
          [
           0.3018749299348824,
           -0.5946534847551068,
           0.33093523034396655,
           0.417730399464461,
           -0.440197122878051,
           0.6649388282483395,
           -0.2811383943739181,
           0.8793126634464075,
           0.7387020011422809,
           -0.7212409048548731
          ],
          [
           -0.9513467706358454,
           -0.5566059654774016,
           0.2843027362199253,
           0.4583658389881169,
           0.6712405966638892,
           0.9455542132361974,
           -0.7285929890495568,
           -0.4495129646391385,
           0.5044511777354974,
           -0.655920900940764
          ],
          [
           -0.14196872232441038,
           0.5902914774667041,
           -0.5514717537592799,
           -0.16861144583349574,
           0.6327837729673045,
           -0.8349391547265617,
           0.6780283155627924,
           -0.029105265926485657,
           -0.13765345620229175,
           -0.441643306134168
          ],
          [
           -0.6078122070349354,
           0.2890973822939038,
           0.5082236567088922,
           -0.8765367108316542,
           0.4854847060856269,
           0.5005726893144427,
           0.9889854142142249,
           0.0823918246578399,
           0.46513897581829333,
           -0.9600292525218765
          ],
          [
           0.6897626736117439,
           -0.9483601762337144,
           -0.32388626780584384,
           0.02250407499093443,
           0.9458229162911866,
           0.5775433777915251,
           -0.5630784371542783,
           0.6660938337091571,
           -0.6877411146494941,
           -0.3246105374081907
          ],
          [
           0.9072206466178505,
           -0.034560270643650304,
           0.9420885527685183,
           0.9313002027543655,
           -0.4395530778151775,
           -0.6216317873005655,
           -0.7603521299100733,
           0.9026068271590142,
           0.3619748980384443,
           0.7417925370615601
          ],
          [
           0.9272103083151679,
           -0.7486710507655847,
           -0.2543222973548085,
           -0.19009935481469253,
           -0.4792929986672332,
           -0.02370278433931028,
           -0.7639014156775212,
           -0.30886443532512353,
           -0.5228455625329878,
           -0.7987936789008097
          ],
          [
           -0.45906516280406917,
           0.491907589209597,
           0.5406986337425055,
           -0.3732365053851594,
           -0.1668735246916253,
           -0.8405097711692355,
           0.2963461987988274,
           -0.5066456252957616,
           0.9419507842951658,
           -0.13378405888824796
          ],
          [
           0.8227519093413544,
           0.8754432177551958,
           -0.2412236531198062,
           0.2772666583583385,
           -0.44086426199960393,
           0.677779959346174,
           0.552230014815956,
           -0.08754480678201548,
           0.9144248756931881,
           -0.5132884938344664
          ],
          [
           0.2209178386292907,
           0.8307011498189256,
           -0.8706894476598421,
           0.08087232301190128,
           0.5600767619493141,
           0.37011936567238646,
           -0.7293485094132932,
           -0.9976491694224554,
           0.3647521802493534,
           0.3960254938326426
          ],
          [
           -0.3693669885507038,
           0.9191620047516074,
           0.711364004262296,
           -0.2686025701877308,
           0.014795017847458292,
           0.7686105839576043,
           0.12156302244615769,
           -0.8664958735006902,
           -0.28894636482807656,
           0.7441025732462041
          ],
          [
           -0.23879077062163834,
           -0.8859245392761774,
           0.747585393196496,
           0.9759751997966548,
           -0.7259585378314004,
           0.820675187483576,
           -0.41898239648456603,
           -0.8819094055508419,
           -0.578717666133026,
           -0.20565244667113536
          ],
          [
           0.10234974331232793,
           -0.9259028890226755,
           0.2348619793480171,
           0.026251502051089615,
           -0.41427335826812284,
           0.6172092702821466,
           0.8955544508192197,
           0.15789974808434426,
           -0.8540764173516473,
           -0.16560501548516093
          ],
          [
           0.4903608979318803,
           0.016921441053469266,
           -0.7515431084568154,
           -0.38601970724811396,
           0.16855409363394225,
           -0.07866065961457558,
           -0.31173512703149764,
           -0.09974109513348184,
           0.6211608278163074,
           -0.4121140004768711
          ],
          [
           0.12158145668694842,
           -0.068127889528941,
           0.9619916654315859,
           0.952314732849191,
           0.9272425046949622,
           -0.0059836782689095536,
           0.6262380409225672,
           -0.4906499292733639,
           0.9002377800427275,
           -0.8805120419230161
          ]
         ],
         "zmax": 1,
         "zmin": -1
        }
       ],
       "_js2py_layoutDelta": {},
       "_js2py_pointsCallback": {},
       "_js2py_relayout": {},
       "_js2py_restyle": {},
       "_js2py_traceDeltas": {},
       "_js2py_update": {},
       "_last_layout_edit_id": 18,
       "_last_trace_edit_id": 14,
       "_layout": {
        "annotations": [
         {
          "name": "title",
          "showarrow": false,
          "text": "Random numbers",
          "x": 0.5,
          "xanchor": "center",
          "xref": "paper",
          "y": 1,
          "yanchor": "bottom",
          "yref": "paper",
          "yshift": -30
         }
        ],
        "font": {
         "family": "Arial",
         "size": 18
        },
        "height": 450,
        "margin": {
         "b": 0,
         "l": 0,
         "r": 10
        },
        "titlefont": {
         "family": "Arial",
         "size": 20
        },
        "width": 700,
        "xaxis": {
         "anchor": "y",
         "automargin": true,
         "constrain": "domain",
         "dtick": 5,
         "hoverformat": ".f",
         "range": [
          0,
          20
         ],
         "showgrid": false,
         "showline": false,
         "showticklabels": true,
         "ticklen": 5,
         "ticks": "outside",
         "title": "horizontal",
         "titlefont": {
          "family": "Arial",
          "size": 20
         },
         "zeroline": false
        },
        "xaxis101": {
         "anchor": "y",
         "automargin": true,
         "constrain": "domain",
         "dtick": 5,
         "overlaying": "x",
         "range": [
          0,
          20
         ],
         "scaleanchor": "x",
         "showgrid": false,
         "showline": false,
         "showticklabels": false,
         "side": "top",
         "ticklen": 5,
         "ticks": "outside",
         "zeroline": false
        },
        "xaxis201": {
         "anchor": "y",
         "automargin": true,
         "constrain": "domain",
         "dtick": 1,
         "mirror": "ticks",
         "overlaying": "x",
         "range": [
          0,
          20
         ],
         "scaleanchor": "x",
         "showgrid": false,
         "showline": true,
         "showticklabels": false,
         "ticklen": 3,
         "ticks": "outside",
         "zeroline": false
        },
        "yaxis": {
         "anchor": "x",
         "automargin": true,
         "constrain": "domain",
         "dtick": 2,
         "hoverformat": ".f",
         "range": [
          0,
          10
         ],
         "scaleanchor": "x",
         "showgrid": false,
         "showline": false,
         "showticklabels": true,
         "ticklen": 5,
         "tickprefix": " ",
         "ticks": "outside",
         "ticksuffix": " ",
         "title": "vertical",
         "titlefont": {
          "family": "Arial",
          "size": 20
         },
         "zeroline": false
        },
        "yaxis101": {
         "anchor": "x",
         "automargin": true,
         "constrain": "domain",
         "dtick": 2,
         "overlaying": "y",
         "range": [
          0,
          10
         ],
         "scaleanchor": "y",
         "showgrid": false,
         "showline": false,
         "showticklabels": false,
         "side": "right",
         "ticklen": 5,
         "ticks": "outside",
         "zeroline": false
        },
        "yaxis201": {
         "anchor": "x",
         "automargin": true,
         "constrain": "domain",
         "dtick": 0.5,
         "mirror": "ticks",
         "overlaying": "y",
         "range": [
          0,
          10
         ],
         "scaleanchor": "y",
         "showgrid": false,
         "showline": true,
         "showticklabels": false,
         "ticklen": 3,
         "ticks": "outside",
         "zeroline": false
        }
       },
       "_py2js_animate": {},
       "_py2js_moveTraces": {},
       "_py2js_removeLayoutProps": {},
       "_py2js_removeTraceProps": {},
       "_py2js_restyle": {},
       "_py2js_update": {},
       "_view_count": 0
      }
     },
     "b21d0af571814af591133fb917ee40cd": {
      "model_module": "plotlywidget",
      "model_module_version": "^0.6.0",
      "model_name": "FigureModel",
      "state": {
       "_config": {
        "plotlyServerURL": "https://plot.ly"
       },
       "_data": [
        {
         "colorbar": {
          "len": 0.6,
          "thickness": 20,
          "tickformat": ".1f",
          "title": {
           "text": "number<br>&nbsp;"
          },
          "xpad": 40
         },
         "dx": 1,
         "dy": 1,
         "transpose": true,
         "type": "heatmap",
         "uid": "0b8b35e8-c822-47bf-8ec9-91600013fd85",
         "x": [
          0,
          1,
          2,
          3,
          4,
          5,
          6,
          7,
          8,
          9,
          10,
          11,
          12,
          13,
          14,
          15,
          16,
          17,
          18,
          19,
          20
         ],
         "y": [
          0,
          1,
          2,
          3,
          4,
          5,
          6,
          7,
          8,
          9,
          10
         ],
         "z": [
          [
           0.6210281011933383,
           0.24555529453580682,
           -0.2839960330751139,
           0.4029248864076589,
           0.00830391216364701,
           0.16160377486673094,
           0.36389430805011935,
           0.3894043511298415,
           -0.7468683907039311,
           0.02680113242443838
          ],
          [
           0.9032323465618557,
           -0.5228036014466517,
           -0.6860668510650729,
           -0.9688567797527432,
           -0.19510392868478066,
           -0.09980561139654465,
           -0.6675186885226994,
           0.9566394548367141,
           0.9673314285350272,
           0.5059631567541403
          ],
          [
           -0.18638777525751338,
           0.2402691785778981,
           -0.8447427105750795,
           0.28027333859193804,
           -0.7543660131515444,
           -0.038903476116112,
           0.33013406684133106,
           0.7983043335531761,
           0.9408578814850332,
           0.5656730036425097
          ],
          [
           -0.4768768004522803,
           -0.5772825939575987,
           0.9144180871418706,
           -0.9004416308871106,
           0.3432463352846915,
           -0.4607133104581018,
           0.5279808069725929,
           -0.33838587763631156,
           0.13274807091536744,
           -0.8234755890616521
          ],
          [
           -0.5497952227777938,
           -0.1408359220989892,
           -0.7262179287198436,
           0.7543509767120511,
           -0.6130247004203959,
           -0.17022044207339215,
           -0.5078648790277316,
           -0.5594621726960545,
           -0.23538230728962795,
           0.7714753209927936
          ],
          [
           -0.7640597000391265,
           -0.6653367450911705,
           -0.3118354703916817,
           -0.6282284896961587,
           -0.401918989104203,
           -0.7628309034694265,
           -0.9899487532866882,
           -0.6778744569576622,
           -0.44028381782007475,
           -0.6119709766324859
          ],
          [
           -0.33735837943580194,
           0.37740566237141104,
           -0.4950489074261615,
           0.6495411121851398,
           0.29238040953351807,
           -0.4544076274374287,
           0.12365025139365216,
           -0.10995364625634907,
           0.06756899059860966,
           -0.7076481636887413
          ],
          [
           0.20224631006876903,
           -0.9190340400264159,
           -0.21678816413803892,
           -0.1769037745538573,
           0.7994826491656497,
           0.39093314787222844,
           0.058082158475139645,
           0.9154013443023179,
           0.2567168710159351,
           -0.07338599785163935
          ],
          [
           0.6981081605731512,
           -0.6403562107231888,
           -0.4702862128471059,
           0.23740852557118863,
           0.4903981853257504,
           -0.05567346686973229,
           0.804955821337664,
           -0.42750541867391756,
           0.7874706244966798,
           0.1901170172993445
          ],
          [
           0.27085435855491946,
           -0.731144746147679,
           -0.8388580922864184,
           0.14567802135653918,
           -0.9701872950689165,
           0.07002837501665304,
           0.7958121663836797,
           -0.5526579077728047,
           -0.029550020987433756,
           0.21151643672950615
          ],
          [
           0.035638729559341886,
           0.35030712746466075,
           -0.15608887900485446,
           0.6774152058115315,
           -0.7338828811739142,
           0.376755055489012,
           0.45307723148593215,
           0.5029707067967433,
           -0.065879473541689,
           0.141856000311112
          ],
          [
           0.42281487314582145,
           0.7164876714145298,
           -0.4024606233456074,
           0.5010185292785114,
           -0.3946228004464001,
           -0.5193246207147899,
           0.31474663347952947,
           -0.6894342757436327,
           -0.747580443690931,
           -0.18920081608965122
          ],
          [
           -0.30630334765257006,
           0.9767259940388107,
           -0.2312853974900193,
           -0.4998181538609121,
           -0.4888486357750359,
           0.13404094387997323,
           0.9689887828222445,
           -0.45930373332516106,
           0.20096306264356256,
           0.4219911400624963
          ],
          [
           -0.1715387057653195,
           -0.13834364050737213,
           0.8903160380210549,
           0.8918401664647917,
           -0.09113620214581819,
           -0.0765158480892989,
           0.9483620452353134,
           -0.3579719121075091,
           0.4977464571817056,
           -0.6133096883089759
          ],
          [
           -0.47024317535228954,
           -0.6985758632174341,
           -0.9088872213668262,
           0.9675613290811724,
           0.749428744795217,
           0.3351759527655265,
           0.41880839057212826,
           -0.2960641456766453,
           -0.38683804292611246,
           -0.02149391193715222
          ],
          [
           -0.38569950258641206,
           -0.6750097056298443,
           -0.32753688144931115,
           -0.07121938517494075,
           0.21543185909517826,
           -0.2530363847550523,
           -0.14182568405388918,
           0.7140067261114922,
           -0.6181485116899796,
           0.3243336620513866
          ],
          [
           -0.1477711420653549,
           -0.12431653844181478,
           0.881522236658743,
           0.1908845429890207,
           -0.30968168480617075,
           -0.2121378869424042,
           -0.5897303149896662,
           0.2016883717711324,
           -0.31556995616441474,
           -0.7141756525098502
          ],
          [
           0.6243885560922617,
           -0.9481709400057736,
           0.20522244657730582,
           -0.13590490869985405,
           -0.4679758825287015,
           -0.4790499132122812,
           -0.0001644695563394194,
           0.8635491751118733,
           0.40565243222688796,
           -0.07841340236559402
          ],
          [
           0.06756524993165836,
           0.4597971024539971,
           -0.8525263923916673,
           0.5694689104420259,
           -0.2909794155891905,
           0.8207914587405425,
           -0.24872785726789615,
           0.2544501797089289,
           -0.13718301364696384,
           0.7126670364022998
          ],
          [
           -0.6078781741987691,
           0.9590922561092718,
           0.6685007720246856,
           -0.06824133389008846,
           -0.837025943272631,
           0.6419034931554404,
           0.6159945214925153,
           -0.23870311584516002,
           -0.6022628421836425,
           -0.6973725415215104
          ]
         ],
         "zmax": 1,
         "zmin": -1
        }
       ],
       "_js2py_layoutDelta": {},
       "_js2py_pointsCallback": {},
       "_js2py_relayout": {},
       "_js2py_restyle": {},
       "_js2py_traceDeltas": {},
       "_js2py_update": {},
       "_last_layout_edit_id": 17,
       "_last_trace_edit_id": 14,
       "_layout": {
        "annotations": [
         {
          "font": {
           "family": "Arial",
           "size": 20
          },
          "name": "title",
          "showarrow": false,
          "text": "Random numbers",
          "x": 0.5,
          "xanchor": "center",
          "xref": "paper",
          "y": 1,
          "yanchor": "bottom",
          "yref": "paper",
          "yshift": -30
         }
        ],
        "font": {
         "family": "Arial",
         "size": 18
        },
        "height": 450,
        "margin": {
         "b": 0,
         "l": 0,
         "r": 10
        },
        "titlefont": {
         "family": "Arial",
         "size": 20
        },
        "width": 700
       },
       "_py2js_animate": {},
       "_py2js_moveTraces": {},
       "_py2js_removeLayoutProps": {},
       "_py2js_removeTraceProps": {},
       "_py2js_restyle": {},
       "_py2js_update": {},
       "_view_count": 0
      }
     },
     "c436b9a7ad7a4bc48d821da9dab17ed2": {
      "model_module": "plotlywidget",
      "model_module_version": "^0.6.0",
      "model_name": "FigureModel",
      "state": {
       "_config": {
        "plotlyServerURL": "https://plot.ly"
       },
       "_data": [
        {
         "colorbar": {
          "len": 0.6,
          "thickness": 20,
          "tickformat": ".1f",
          "title": {
           "text": "number<br>&nbsp;"
          },
          "xpad": 40
         },
         "dx": 1,
         "dy": 1,
         "transpose": true,
         "type": "heatmap",
         "uid": "37e6c095-53e7-4d76-9824-847544c98244",
         "x": [
          0,
          1,
          2,
          3,
          4,
          5,
          6,
          7,
          8,
          9,
          10,
          11,
          12,
          13,
          14,
          15,
          16,
          17,
          18,
          19,
          20
         ],
         "y": [
          0,
          1,
          2,
          3,
          4,
          5,
          6,
          7,
          8,
          9,
          10
         ],
         "z": [
          [
           0.9471405604620349,
           -0.8569362979428918,
           0.49702001380005534,
           0.5830932175403127,
           -0.4723462433354608,
           -0.7303752121875651,
           -0.5567992308795855,
           0.747996818275906,
           0.5670678053643814,
           0.42341712758109584
          ],
          [
           -0.11326431202072129,
           0.7883850679883864,
           0.41361247061495865,
           0.7558662338018791,
           -0.501247370460489,
           0.909834932607406,
           -0.7286341140201609,
           -0.07397023822135007,
           0.25922672552126924,
           0.23805012449098273
          ],
          [
           0.6964892302053951,
           -0.8582015874211588,
           -0.41782974974188014,
           0.6373871908053392,
           0.7264612658026581,
           -0.0942972183718207,
           0.5096155163948948,
           -0.9071516271269384,
           -0.3464903883769146,
           -0.8048675916774968
          ],
          [
           0.7135902665237643,
           -0.833923463599199,
           -0.7408849925852368,
           -0.7766971529626578,
           -0.6882784243296118,
           -0.806406073766325,
           0.19114253903319534,
           0.08820586736581704,
           -0.7011491228364404,
           -0.8191089268093119
          ],
          [
           -0.255746083912356,
           -0.6107064747838591,
           -0.5383371943598176,
           -0.8219568870610627,
           -0.08037376128404583,
           -0.3547365926880899,
           -0.6049885186403536,
           -0.06493249941480439,
           -0.9227648379267848,
           -0.7811475874866411
          ],
          [
           -0.5763582041695048,
           -0.42285200193280237,
           0.4818218549503712,
           -0.27132244908197545,
           0.5355659202924505,
           -0.04929800201725043,
           -0.23624013010377332,
           0.784601858028531,
           0.4147733941468721,
           -0.10491675557580904
          ],
          [
           0.2919161018703067,
           -0.6492020968390784,
           -0.13369529619592346,
           -0.24139208966973036,
           -0.6261926703259226,
           -0.6081423125359118,
           0.05956312596418911,
           0.9916403452296993,
           0.5072426295627146,
           0.16556922623933978
          ],
          [
           -0.7802026589506905,
           -0.34587186442428597,
           -0.7482524155669843,
           0.36776046714525146,
           0.4112912711596086,
           0.2356115181748184,
           -0.632491432464626,
           0.9302870233066662,
           -0.05882936053000809,
           0.01368502353304657
          ],
          [
           0.95659611493748,
           -0.7283806233734422,
           -0.18701820850250495,
           0.9338120886645411,
           0.028460373745489154,
           -0.051018383151997915,
           0.6739883637535566,
           -0.17300880438082178,
           -0.9527194244289929,
           0.4591643471330167
          ],
          [
           0.6251280134150452,
           -0.012094328023543932,
           0.5046816434991914,
           -0.25128136560421144,
           0.3928958484028693,
           0.2168137523832976,
           0.7310612099822904,
           -0.14895365077335931,
           0.638555218397606,
           -0.2900124022311483
          ],
          [
           0.021305214862242794,
           0.06836914704836738,
           -0.8807705015079179,
           0.8452217309002192,
           -0.4999703281925423,
           -0.9632517464317918,
           0.6155443175083946,
           -0.08758081325770051,
           0.13112510042261993,
           0.26522607288146527
          ],
          [
           0.3711878415891203,
           -0.2802639074274289,
           -0.524785387024171,
           -0.43787606266993495,
           -0.9560730682482643,
           -0.6315073729177219,
           0.10744407376970155,
           0.10715618361542112,
           -0.1879590110285534,
           -0.15255902181223768
          ],
          [
           -0.6882721074863081,
           0.33684346707356805,
           0.22393445098719056,
           -0.4627206972104114,
           -0.7897033522789048,
           -0.9081726157365995,
           0.7391851818717396,
           0.4877055447877683,
           0.10332103500818346,
           -0.24909465057079294
          ],
          [
           -0.4104809250985688,
           0.8175678195685196,
           -0.9514363508299919,
           0.6097225847996459,
           0.608654072515151,
           -0.18269000192446683,
           -0.9877232443441637,
           -0.4897522481139236,
           -0.8584726111713652,
           0.48222999544787504
          ],
          [
           0.8155841196351972,
           -0.8117094479080036,
           0.39230079293441844,
           -0.8357769689737455,
           0.5394089925675682,
           0.9994464669521392,
           0.5210671335280297,
           -0.5163094850110157,
           -0.9502396264720019,
           0.5656600556869822
          ],
          [
           -0.3141959439812372,
           0.04550093481214623,
           -0.576695353073809,
           -0.6725065786360485,
           0.6482051879938235,
           -0.9552016156190484,
           0.1514064418745198,
           0.737653338012102,
           -0.7865781710197821,
           -0.4858672146355829
          ],
          [
           0.9559191006498802,
           0.3079948669294199,
           -0.39091824520504814,
           0.6156406840621191,
           -0.8182146252304892,
           0.7088103841503943,
           0.18456560910178332,
           0.43223317622390134,
           -0.2817132646227105,
           -0.03250392229015575
          ],
          [
           0.2613416242737714,
           0.5881878370755353,
           -0.3638975758430636,
           0.04488327895752087,
           0.7370746295909085,
           -0.007792734829252357,
           0.43535940101151405,
           0.026368446213398178,
           0.9541408861053655,
           -0.180573623130301
          ],
          [
           -0.7023677484868969,
           -0.8649517938948119,
           -0.7130814061095117,
           0.35043862006783155,
           0.544934891408557,
           0.45642465753365413,
           0.726923468355622,
           0.7262472393366863,
           -0.9201740986654796,
           -0.5595297285689442
          ],
          [
           0.5272277844122992,
           0.5376062997640862,
           0.6108188102074752,
           0.1856095336356689,
           -0.34485509463021335,
           -0.9320513819884193,
           -0.27468527025646905,
           0.4138717711233042,
           -0.6607450956593373,
           -0.7274141693603517
          ]
         ],
         "zmax": 1,
         "zmin": -1
        }
       ],
       "_js2py_layoutDelta": {},
       "_js2py_pointsCallback": {},
       "_js2py_relayout": {},
       "_js2py_restyle": {},
       "_js2py_traceDeltas": {},
       "_js2py_update": {},
       "_last_layout_edit_id": 17,
       "_last_trace_edit_id": 16,
       "_layout": {
        "font": {
         "family": "Arial",
         "size": 18
        },
        "height": 450,
        "margin": {
         "b": 20,
         "l": 20,
         "r": 20,
         "t": 80
        },
        "title": {
         "font": {
          "size": 20
         },
         "text": "Random numbers",
         "xanchor": "center",
         "xref": "paper",
         "y": 0.7777777777777778,
         "yanchor": "middle",
         "yref": "container"
        },
        "width": 700
       },
       "_py2js_animate": {},
       "_py2js_moveTraces": {},
       "_py2js_removeLayoutProps": {},
       "_py2js_removeTraceProps": {},
       "_py2js_restyle": {},
       "_view_count": 0
      }
     },
     "c8f44de7d5534449b8a9867bf4bb7f2c": {
      "model_module": "plotlywidget",
      "model_module_version": "^0.6.0",
      "model_name": "FigureModel",
      "state": {
       "_config": {
        "plotlyServerURL": "https://plot.ly"
       },
       "_data": [
        {
         "colorbar": {
          "len": 0.6,
          "thickness": 20,
          "tickformat": ".1f",
          "title": {
           "text": "number<br>&nbsp;"
          },
          "xpad": 40
         },
         "dx": 1,
         "dy": 1,
         "transpose": true,
         "type": "heatmap",
         "uid": "2b766514-3484-469a-be60-53cb81f4145f",
         "x": [
          0,
          1,
          2,
          3,
          4,
          5,
          6,
          7,
          8,
          9,
          10,
          11,
          12,
          13,
          14,
          15,
          16,
          17,
          18,
          19,
          20
         ],
         "y": [
          0,
          1,
          2,
          3,
          4,
          5,
          6,
          7,
          8,
          9,
          10
         ],
         "z": [
          [
           -0.9267813996927066,
           -0.841049872815222,
           0.10972515549417206,
           0.010969149550968726,
           -0.6137124013752739,
           -0.9516722631590115,
           0.8552433400811208,
           0.15618010479920974,
           0.44878975179803016,
           0.5721165096902345
          ],
          [
           0.5512488170227541,
           -0.6551012959467639,
           0.44696370417965214,
           0.3321412712793821,
           0.005053995885210494,
           -0.8928626965288273,
           -0.7429623204053772,
           0.08582952911852582,
           0.9826675254733606,
           -0.02875611911582343
          ],
          [
           0.331768783613823,
           0.8412833426030957,
           0.2718310890688427,
           0.8759522826637798,
           -0.05696322829921541,
           0.16300130550031744,
           -0.28610759222891313,
           0.4498661421040162,
           -0.3235697449309811,
           0.8131830335556514
          ],
          [
           0.5007263367878447,
           0.1718798802322985,
           0.3819525063962046,
           0.5128517383111724,
           -0.5652382322470344,
           -0.2779824636751673,
           -0.9245414902184572,
           0.6938497038295326,
           -0.8052284853301521,
           0.19958470229086944
          ],
          [
           -0.9429783912816647,
           0.43640209197514546,
           -0.41462233763575784,
           -0.98539648263096,
           0.8648081495759519,
           0.8420364538156737,
           0.702003694323968,
           0.20467434857473688,
           0.39995035145487234,
           -0.002876195930714198
          ],
          [
           0.2779353162550251,
           -0.5261568915783663,
           -0.011520164029884539,
           -0.15782590130462903,
           0.8480728919377223,
           0.39591055827024957,
           -0.4863731417172861,
           -0.9038203124540265,
           -0.016257250267116552,
           0.6995072686173542
          ],
          [
           -0.6575598249992083,
           -0.14028958563315386,
           0.29433000553067945,
           -0.1522572465314278,
           0.2206053555263361,
           -0.4739987055890058,
           -0.5025071513540529,
           -0.6262778927711794,
           -0.00622713854213508,
           0.5919637580457398
          ],
          [
           -0.40373785212870605,
           -0.8054240007612354,
           0.09402871294176585,
           -0.437747492379039,
           0.12134642680041874,
           0.9846720400617408,
           0.428606237061367,
           -0.9773072296821821,
           0.35583362628808013,
           0.6344149353779607
          ],
          [
           -0.9537543467538592,
           -0.704090789780794,
           -0.3478908384257611,
           -0.9501511878893654,
           0.9587272293352653,
           -0.3184515156550842,
           -0.3006062350617884,
           -0.909077433156823,
           -0.7318535419336742,
           0.11443022659451385
          ],
          [
           -0.4316996458456901,
           -0.3247943425326263,
           -0.7264022694512309,
           -0.22277062773984468,
           0.36267741721461344,
           0.33142812469223104,
           -0.3195884487517362,
           0.19001843791803008,
           -0.15486407721948003,
           -0.7087617695714887
          ],
          [
           -0.18691351031726966,
           -0.45915025537188514,
           -0.23281790653720624,
           -0.4065717540363716,
           -0.8519595063459651,
           0.7909235627594318,
           -0.7821503668032628,
           0.2134877631223726,
           0.6476860906012758,
           -0.10188316479169024
          ],
          [
           0.4855772366988733,
           0.12915351495536154,
           0.6051046736345957,
           0.9428573587356832,
           0.40585005088185033,
           -0.632030871213384,
           -0.8421808329749345,
           0.2821473717131062,
           -0.26678228932688186,
           0.918047896140493
          ],
          [
           -0.17353082838622425,
           -0.352237759314207,
           -0.23641690887420697,
           0.5779356339438069,
           -0.6025760344970934,
           0.3389141937075726,
           0.31210160172044543,
           0.3762971416929004,
           0.5118601883140255,
           -0.7079388576268426
          ],
          [
           0.05145044775039631,
           0.4729889729307293,
           -0.5991829325950013,
           -0.22506680354210928,
           -0.869518755182142,
           0.38949044216952355,
           0.32731483627292235,
           -0.11050737341026684,
           0.7080578226111498,
           -0.4613697508718182
          ],
          [
           0.38080810151374034,
           0.1447952219233044,
           -0.9299965745759766,
           0.055550127097506063,
           -0.4077914640423399,
           0.30118831212845665,
           0.9981422721157909,
           0.31180575896753915,
           -0.2818468325772443,
           -0.5461844694728111
          ],
          [
           0.9199349357076707,
           0.6772372877157367,
           0.7982916121650014,
           0.3151202911689963,
           0.11050899861239971,
           -0.8117574785962385,
           -0.09132876179466032,
           -0.6247663875303195,
           -0.8561279888988937,
           -0.48706356703926224
          ],
          [
           -0.6217305526680208,
           -0.4939272920052342,
           -0.38122842718808836,
           -0.7407499789148306,
           -0.8134019374383552,
           -0.048302962173780495,
           0.4727447466871466,
           0.6753903254943321,
           0.5508646776056241,
           -0.5349117073986627
          ],
          [
           0.35314870943858634,
           -0.7070240236600118,
           0.728423772280469,
           0.1356817140119202,
           -0.7718404457343135,
           -0.3668665573179586,
           -0.3110076462482516,
           -0.39187174149492376,
           -0.4983486341858909,
           0.1825815609717547
          ],
          [
           0.47170654843250426,
           0.5281405047876355,
           0.5557158040798296,
           0.27284845721125817,
           -0.8936594411709093,
           0.13446138566484445,
           0.8464460753981602,
           0.691487245819395,
           -0.4827967431750917,
           -0.10143703368680934
          ],
          [
           -0.218387264972139,
           0.6189011586832338,
           0.7186243742984377,
           0.15059403360846635,
           -0.09799471314655461,
           0.4753829404781109,
           -0.6396739360251953,
           -0.1023514041641298,
           -0.9773896883204478,
           0.8619517100767147
          ]
         ],
         "zmax": 1,
         "zmin": -1
        }
       ],
       "_js2py_layoutDelta": {},
       "_js2py_pointsCallback": {},
       "_js2py_relayout": {},
       "_js2py_restyle": {},
       "_js2py_traceDeltas": {},
       "_js2py_update": {},
       "_last_layout_edit_id": 18,
       "_last_trace_edit_id": 14,
       "_layout": {
        "annotations": [
         {
          "name": "title",
          "showarrow": false,
          "text": "Random numbers",
          "x": 0.5,
          "xanchor": "center",
          "xref": "paper",
          "y": 1,
          "yanchor": "bottom",
          "yref": "paper",
          "yshift": -30
         }
        ],
        "font": {
         "family": "Arial",
         "size": 18
        },
        "height": 450,
        "margin": {
         "b": 0,
         "l": 0,
         "r": 10
        },
        "titlefont": {
         "family": "Arial",
         "size": 20
        },
        "width": 700,
        "xaxis": {
         "anchor": "y",
         "automargin": true,
         "constrain": "domain",
         "dtick": 5,
         "hoverformat": ".f",
         "range": [
          0,
          20
         ],
         "showgrid": false,
         "showline": false,
         "showticklabels": true,
         "ticklen": 5,
         "ticks": "outside",
         "title": "horizontal",
         "titlefont": {
          "family": "Arial",
          "size": 20
         },
         "zeroline": false
        },
        "xaxis101": {
         "anchor": "y",
         "automargin": true,
         "constrain": "domain",
         "dtick": 5,
         "overlaying": "x",
         "range": [
          0,
          20
         ],
         "scaleanchor": "x",
         "showgrid": false,
         "showline": false,
         "showticklabels": false,
         "side": "top",
         "ticklen": 5,
         "ticks": "outside",
         "zeroline": false
        },
        "xaxis201": {
         "anchor": "y",
         "automargin": true,
         "constrain": "domain",
         "dtick": 1,
         "mirror": "ticks",
         "overlaying": "x",
         "range": [
          0,
          20
         ],
         "scaleanchor": "x",
         "showgrid": false,
         "showline": true,
         "showticklabels": false,
         "ticklen": 3,
         "ticks": "outside",
         "zeroline": false
        },
        "yaxis": {
         "anchor": "x",
         "automargin": true,
         "constrain": "domain",
         "dtick": 2,
         "hoverformat": ".f",
         "range": [
          0,
          10
         ],
         "scaleanchor": "x",
         "showgrid": false,
         "showline": false,
         "showticklabels": true,
         "ticklen": 5,
         "tickprefix": " ",
         "ticks": "outside",
         "ticksuffix": " ",
         "title": "vertical",
         "titlefont": {
          "family": "Arial",
          "size": 20
         },
         "zeroline": false
        },
        "yaxis101": {
         "anchor": "x",
         "automargin": true,
         "constrain": "domain",
         "dtick": 2,
         "overlaying": "y",
         "range": [
          0,
          10
         ],
         "scaleanchor": "y",
         "showgrid": false,
         "showline": false,
         "showticklabels": false,
         "side": "right",
         "ticklen": 5,
         "ticks": "outside",
         "zeroline": false
        },
        "yaxis201": {
         "anchor": "x",
         "automargin": true,
         "constrain": "domain",
         "dtick": 0.5,
         "mirror": "ticks",
         "overlaying": "y",
         "range": [
          0,
          10
         ],
         "scaleanchor": "y",
         "showgrid": false,
         "showline": true,
         "showticklabels": false,
         "ticklen": 3,
         "ticks": "outside",
         "zeroline": false
        }
       },
       "_py2js_animate": {},
       "_py2js_moveTraces": {},
       "_py2js_removeLayoutProps": {},
       "_py2js_removeTraceProps": {},
       "_py2js_restyle": {},
       "_py2js_update": {},
       "_view_count": 0
      }
     },
     "d9c953f4b2b94b8cb17d43d16b05e690": {
      "model_module": "plotlywidget",
      "model_module_version": "^0.6.0",
      "model_name": "FigureModel",
      "state": {
       "_config": {
        "plotlyServerURL": "https://plot.ly"
       },
       "_data": [
        {
         "colorbar": {
          "len": 0.6,
          "thickness": 20,
          "tickformat": ".1f",
          "title": {
           "text": "number<br>&nbsp;"
          },
          "xpad": 40
         },
         "dx": 1,
         "dy": 1,
         "transpose": true,
         "type": "heatmap",
         "uid": "a80eb7a6-2126-4c99-9d01-44e2b7009dad",
         "x": [
          0,
          1,
          2,
          3,
          4,
          5,
          6,
          7,
          8,
          9,
          10,
          11,
          12,
          13,
          14,
          15,
          16,
          17,
          18,
          19,
          20
         ],
         "y": [
          0,
          1,
          2,
          3,
          4,
          5,
          6,
          7,
          8,
          9,
          10
         ],
         "z": [
          [
           0.2190362137573032,
           0.4602248467764576,
           0.7729242907292311,
           0.050701737862868246,
           0.10116730562045095,
           0.8305843286505863,
           0.7157924273368252,
           -0.7685186477530512,
           -0.8527665361694954,
           -0.8922670158399733
          ],
          [
           0.10589915320853494,
           -0.4979440143147764,
           -0.3914648027196319,
           0.23767595793134966,
           0.7322025018862155,
           -0.029848646572552706,
           0.7324185645017156,
           -0.6975451055055011,
           -0.6534670025652778,
           0.9083150532977182
          ],
          [
           -0.45066904694154153,
           -0.6024225144933875,
           0.673056896113903,
           -0.5237369612572909,
           0.7451066594305777,
           -0.3318186146678974,
           -0.8521768470873705,
           0.42347442471062435,
           0.5341755067669895,
           -0.9761741707727822
          ],
          [
           0.5670536764487666,
           0.17007233698155866,
           0.3494758231664763,
           -0.007732987353416876,
           0.8849781836668462,
           -0.3939574162297932,
           0.15886825870656707,
           0.9063845959915173,
           -0.3192096033871241,
           -0.9748522117649692
          ],
          [
           -0.11193609210331279,
           -0.4845324154481623,
           0.819572985752677,
           -0.19291196333096705,
           0.2369644332655274,
           0.5389119896813315,
           -0.4938566643562672,
           -0.1405986608059684,
           -0.748558141414946,
           -0.16321782669039875
          ],
          [
           -0.7723744613210295,
           0.5914126840704605,
           0.7433606469528162,
           -0.8811226927622853,
           0.30936526408379006,
           -0.12658297396653717,
           0.33625049424864484,
           0.0803789543920237,
           -0.4465012580825374,
           0.8311351076094016
          ],
          [
           -0.023582581543780234,
           0.9017134485479827,
           -0.9827272266823561,
           0.0008775480017741977,
           -0.9111901331549013,
           0.12744607204797287,
           0.5649271173484309,
           0.5336320366376204,
           -0.28008054485829126,
           -0.4688896550400179
          ],
          [
           0.5596978976052402,
           0.8935453860097762,
           0.7493919965359488,
           -0.565535374856847,
           0.2587740846143387,
           0.8808422671274336,
           -0.19292896457055408,
           0.02479388545231931,
           -0.1452411390114936,
           -0.8533192314898574
          ],
          [
           -0.8886391282864812,
           0.008531412920503634,
           -0.12684463593598516,
           -0.6085371086235083,
           0.15934538296259992,
           0.522057020216306,
           0.2495517767971418,
           -0.3452073237749349,
           0.32562052882242165,
           -0.7485832323047334
          ],
          [
           0.23740329322427778,
           -0.7794985941188111,
           -0.738264695283076,
           -0.09674568881211587,
           0.934255345280137,
           0.9928266005293576,
           0.9704682406199825,
           0.2264971415954402,
           0.9045718323338994,
           0.5599866939414031
          ],
          [
           0.11341246194195986,
           -0.536962296876516,
           -0.6302230744468207,
           -0.061141582376623926,
           0.21084896158691557,
           -0.7660111157622767,
           -0.3950083922477563,
           0.8728238138025481,
           0.8305655432249102,
           0.7342976382153983
          ],
          [
           -0.3443498332097521,
           0.8506767063898013,
           0.6604848726467729,
           0.6261414457523868,
           0.9792144203910771,
           -0.22235911319087176,
           -0.6552629750855667,
           0.5591752791051086,
           0.5572015786386662,
           0.3261197723050413
          ],
          [
           -0.8615272798732443,
           -0.8305510609529001,
           0.4677363312249898,
           -0.3522854964127773,
           -0.49154298446404976,
           -0.6040089674851552,
           0.9503082262267404,
           0.6680252376771036,
           0.7179304133810338,
           0.5819092771867367
          ],
          [
           -0.9696696031929459,
           -0.6157511269677218,
           -0.4861693212815046,
           0.841204535657651,
           0.6648549569395668,
           -0.8733332353140002,
           -0.9471209442348119,
           0.6188960555946117,
           0.09614648130793957,
           -0.9656225425780345
          ],
          [
           -0.8334010369970686,
           0.024053152861131855,
           0.9942852190759166,
           0.7544243895489555,
           0.9258575299470317,
           0.45421306700390907,
           0.5184333561095065,
           -0.11777440091639879,
           0.8316245640578959,
           -0.7960180494784521
          ],
          [
           0.6387010082299436,
           -0.27324438156531916,
           -0.4374016449087448,
           -0.11837445575668903,
           -0.3117486115539827,
           0.9673395452652418,
           -0.7681028993138159,
           -0.9507409878135453,
           -0.01973363848147125,
           -0.91848445762835
          ],
          [
           -0.1936000957630548,
           0.8276357393671787,
           0.3210256079874507,
           -0.8286748259094945,
           -0.7183180252172539,
           0.17117317561309564,
           0.15158514976344106,
           0.19227754884568626,
           0.9685096853527195,
           -0.30113234064743755
          ],
          [
           0.9163956800492856,
           -0.4377461252894943,
           -0.17530782161594405,
           -0.3480030195026804,
           -0.2529681523734728,
           0.8760024462868397,
           -0.25222362447990987,
           -0.5007440274177368,
           -0.6070876443264737,
           0.47520026818596195
          ],
          [
           0.15700093432924445,
           0.8399672050519245,
           0.8719856531443089,
           0.9512766731479869,
           -0.3340389941161863,
           -0.14422697407787988,
           0.3055163208822327,
           -0.04376861786449315,
           0.18883690199116154,
           0.9132615549120833
          ],
          [
           0.3029701888990284,
           -0.11170643138421488,
           0.6995580816395923,
           0.2975918754006004,
           0.3510610024274825,
           -0.12130732751630147,
           0.21451914423222407,
           -0.7768587867150427,
           -0.8269325695477621,
           -0.18787553489795683
          ]
         ],
         "zmax": 1,
         "zmin": -1
        }
       ],
       "_js2py_layoutDelta": {},
       "_js2py_pointsCallback": {},
       "_js2py_relayout": {},
       "_js2py_restyle": {},
       "_js2py_traceDeltas": {},
       "_js2py_update": {},
       "_last_layout_edit_id": 41,
       "_last_trace_edit_id": 40,
       "_layout": {
        "font": {
         "family": "Arial",
         "size": 18
        },
        "height": 450,
        "margin": {
         "b": 0,
         "l": 0,
         "r": 20,
         "t": 80
        },
        "title": {
         "font": {
          "family": "Arial",
          "size": 20
         },
         "text": "Random numbers",
         "xanchor": "center",
         "xref": "paper",
         "y": 0.7777777777777778,
         "yanchor": "middle",
         "yref": "container"
        },
        "width": 700
       },
       "_py2js_animate": {},
       "_py2js_moveTraces": {},
       "_py2js_removeLayoutProps": {},
       "_py2js_removeTraceProps": {},
       "_py2js_restyle": {},
       "_view_count": 0
      }
     }
    },
    "version_major": 2,
    "version_minor": 0
   }
  }
 },
 "nbformat": 4,
 "nbformat_minor": 2
}
