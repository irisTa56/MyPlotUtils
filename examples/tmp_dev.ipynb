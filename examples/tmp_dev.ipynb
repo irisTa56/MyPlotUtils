{
 "cells": [
  {
   "cell_type": "code",
   "execution_count": 1,
   "metadata": {
    "ExecuteTime": {
     "end_time": "2019-01-21T01:49:05.326441Z",
     "start_time": "2019-01-21T01:49:05.227392Z"
    }
   },
   "outputs": [],
   "source": [
    "import numpy as np # for preparing data"
   ]
  },
  {
   "cell_type": "code",
   "execution_count": 2,
   "metadata": {
    "ExecuteTime": {
     "end_time": "2019-01-21T01:49:06.546935Z",
     "start_time": "2019-01-21T01:49:05.521414Z"
    }
   },
   "outputs": [],
   "source": [
    "import tk_plot_utils as tk"
   ]
  },
  {
   "cell_type": "code",
   "execution_count": 3,
   "metadata": {
    "ExecuteTime": {
     "end_time": "2019-01-21T01:49:06.576308Z",
     "start_time": "2019-01-21T01:49:06.551944Z"
    }
   },
   "outputs": [
    {
     "data": {
      "text/html": [
       "<script type=\"text/javascript\">window.PlotlyConfig = {MathJaxConfig: 'local'};</script><script type=\"text/javascript\">if (window.MathJax) {MathJax.Hub.Config({SVG: {font: \"STIX-Web\"}});}</script><script>requirejs.config({paths: { 'plotly': ['https://cdn.plot.ly/plotly-latest.min']},});if(!window._Plotly) {require(['plotly'],function(plotly) {window._Plotly=plotly;});}</script>"
      ],
      "text/vnd.plotly.v1+html": [
       "<script type=\"text/javascript\">window.PlotlyConfig = {MathJaxConfig: 'local'};</script><script type=\"text/javascript\">if (window.MathJax) {MathJax.Hub.Config({SVG: {font: \"STIX-Web\"}});}</script><script>requirejs.config({paths: { 'plotly': ['https://cdn.plot.ly/plotly-latest.min']},});if(!window._Plotly) {require(['plotly'],function(plotly) {window._Plotly=plotly;});}</script>"
      ]
     },
     "metadata": {},
     "output_type": "display_data"
    },
    {
     "data": {
      "text/html": [
       "<script>\n",
       "  function download_plotly_image(plot_id, format, height, width, filename)\n",
       "  {\n",
       "    let p = document.getElementById(plot_id);\n",
       "    window._Plotly.downloadImage(\n",
       "      p,\n",
       "      {\n",
       "        format: format,\n",
       "        height: height,\n",
       "        width: width,\n",
       "        filename: filename\n",
       "      });\n",
       "  };\n",
       "</script>\n",
       "<script>\n",
       "  function hide_draggable_elements(plot_id)\n",
       "  {\n",
       "    let p = document.getElementById(plot_id);\n",
       "    let svg = p.querySelector(\"svg.main-svg\");\n",
       "    let svgNS = svg.namespaceURI;\n",
       "    let hidelayer = document.createElementNS(svgNS, \"g\");\n",
       "    hidelayer.setAttribute(\"class\", \"hidelayer\");\n",
       "    [...p.querySelectorAll(\"g.draglayer > g\")].forEach((item) =>\n",
       "      {\n",
       "        if (6 < item.getAttribute(\"class\").length)\n",
       "        {\n",
       "          [...item.querySelectorAll(\"rect.drag\")].forEach((item) =>\n",
       "            {\n",
       "              let rect = document.createElementNS(svgNS, \"rect\");\n",
       "              for (let key of [\"style\", \"x\", \"y\", \"width\", \"height\"])\n",
       "              {\n",
       "                rect.setAttribute(key, item.getAttribute(key));\n",
       "              }\n",
       "              hidelayer.appendChild(rect);\n",
       "            });\n",
       "        }\n",
       "      });\n",
       "    svg.appendChild(hidelayer);\n",
       "  };\n",
       "</script>\n",
       "<script>\n",
       "  function remove_autoscale_button(plot_id)\n",
       "  {\n",
       "    [...document.getElementById(plot_id).querySelectorAll(\"a.modebar-btn\")]\n",
       "      .forEach((item) =>\n",
       "        {\n",
       "          if (item.getAttribute(\"data-title\") == \"Autoscale\")\n",
       "          {\n",
       "            item.parentNode.removeChild(item);\n",
       "          }\n",
       "        });\n",
       "  };\n",
       "</script>\n",
       "<script>\n",
       "  function shift_subplots_xtitle(plot_id, xtitle_index)\n",
       "  {\n",
       "    let p = document.getElementById(plot_id);\n",
       "    let xtitle = [...p.querySelectorAll(\"g.infolayer > g\")]\n",
       "      .filter((g) => g.className.baseVal == \"annotation\")[xtitle_index]\n",
       "      .querySelector(\"g.cursor-pointer\");\n",
       "    let t = xtitle.getAttribute(\"transform\");\n",
       "    let ytrans_old = parseFloat(t.slice(t.indexOf(\",\")+1, t.indexOf(\")\")));\n",
       "    let h_rect = parseFloat(xtitle.querySelector(\"rect\").getAttribute(\"height\"));\n",
       "    let ytrans_new = p.layout.height - h_rect;\n",
       "    xtitle.setAttribute(\"transform\",\n",
       "      t.slice(0,t.indexOf(\",\")+1) + ytrans_new.toString() + \")\");\n",
       "    p.layout.annotations[xtitle_index].yshift = ytrans_old - ytrans_new;\n",
       "  };\n",
       "</script>\n",
       "<script>\n",
       "  function shift_subplots_ytitle(plot_id, ytitle_index)\n",
       "  {\n",
       "    let p = document.getElementById(plot_id);\n",
       "    let annotation = [...p.querySelectorAll(\"g.infolayer > g\")]\n",
       "      .filter((g) => g.className.baseVal == \"annotation\")[ytitle_index];\n",
       "    let ytitle_parent = annotation.querySelector(\"g.annotation-text-g\");\n",
       "    let ytitle = annotation.querySelector(\"g.cursor-pointer\");\n",
       "    let r = ytitle_parent.getAttribute(\"transform\");\n",
       "    let t = ytitle.getAttribute(\"transform\");\n",
       "    let xtrans_old = parseFloat(t.slice(t.indexOf(\"(\")+1, t.indexOf(\",\")));\n",
       "    let rect = ytitle.querySelector(\"rect\");\n",
       "    let xcenter = 0.5*parseFloat(rect.getAttribute(\"width\"))\n",
       "                  + parseFloat(rect.getAttribute(\"x\"));\n",
       "    let ycenter = 0.5*parseFloat(rect.getAttribute(\"height\"))\n",
       "                  - parseFloat(rect.getAttribute(\"y\"));\n",
       "    let xtrans_new = ycenter - xcenter;\n",
       "    ytitle.setAttribute(\"transform\",\n",
       "      t.slice(0,t.indexOf(\"(\")+1) + xtrans_new.toString() + t.slice(t.indexOf(\",\")));\n",
       "      ytitle_parent.setAttribute(\"transform\",\n",
       "      r.slice(0,r.indexOf(\",\")+1) + (xtrans_new+xcenter).toString() + r.slice(r.lastIndexOf(\",\")));\n",
       "    p.layout.annotations[ytitle_index].xshift = xtrans_new - xtrans_old;\n",
       "  };\n",
       "</script>\n"
      ],
      "text/plain": [
       "<IPython.core.display.HTML object>"
      ]
     },
     "metadata": {},
     "output_type": "display_data"
    }
   ],
   "source": [
    "tk.init_plotly(connected=True)"
   ]
  },
  {
   "cell_type": "code",
   "execution_count": 4,
   "metadata": {
    "ExecuteTime": {
     "end_time": "2019-01-21T01:49:06.605019Z",
     "start_time": "2019-01-21T01:49:06.579960Z"
    }
   },
   "outputs": [],
   "source": [
    "rad_array = np.arange(0, 10, 0.01)\n",
    "exp_array_rad = np.exp(-0.1*rad_array*rad_array)\n",
    "sin_array_rad = exp_array_rad*np.sin(rad_array)\n",
    "cos_array_rad = exp_array_rad*np.cos(rad_array)\n",
    "deg_array = np.arange(0, 500, 0.5)\n",
    "exp_array_deg = np.exp(-0.1*deg_array*(np.pi/180))\n",
    "sin_array_deg = exp_array_deg*np.sin(deg_array*(np.pi/180))\n",
    "cos_array_deg = exp_array_deg*np.cos(deg_array*(np.pi/180))"
   ]
  },
  {
   "cell_type": "code",
   "execution_count": 5,
   "metadata": {
    "ExecuteTime": {
     "end_time": "2019-01-21T01:49:06.636030Z",
     "start_time": "2019-01-21T01:49:06.615526Z"
    }
   },
   "outputs": [],
   "source": [
    "exp_str = \"e<sup>\\u22120.1x<sup>2</sup></sup>\"\n",
    "\n",
    "data_rad = [\n",
    "  {\n",
    "    \"x\": rad_array,\n",
    "    \"y\": y,\n",
    "    \"name\": n,\n",
    "  }\n",
    "  for y, n in zip(\n",
    "    [exp_array_rad, sin_array_rad, cos_array_rad],\n",
    "    [exp_str, exp_str+\"sin(x)\", exp_str+\"cos(x)\"])\n",
    "]"
   ]
  },
  {
   "cell_type": "code",
   "execution_count": 6,
   "metadata": {
    "ExecuteTime": {
     "end_time": "2019-01-21T01:49:06.821023Z",
     "start_time": "2019-01-21T01:49:06.649916Z"
    }
   },
   "outputs": [],
   "source": [
    "scatter_list_rad = tk.make_scatter(data_rad)"
   ]
  },
  {
   "cell_type": "code",
   "execution_count": 7,
   "metadata": {
    "ExecuteTime": {
     "end_time": "2019-01-21T01:49:06.847038Z",
     "start_time": "2019-01-21T01:49:06.834039Z"
    }
   },
   "outputs": [],
   "source": [
    "exp_str = \"e<sup>\\u22120.1x</sup>\"\n",
    "\n",
    "data_deg = [\n",
    "  {\n",
    "    \"x\": deg_array,\n",
    "    \"y\": y,\n",
    "    \"name\": n,\n",
    "  }\n",
    "  for y, n in zip(\n",
    "    [exp_array_deg, sin_array_deg, cos_array_deg],\n",
    "    [exp_str, exp_str+\"sin(x)\", exp_str+\"cos(x)\"])\n",
    "]"
   ]
  },
  {
   "cell_type": "code",
   "execution_count": 8,
   "metadata": {
    "ExecuteTime": {
     "end_time": "2019-01-21T01:49:07.643522Z",
     "start_time": "2019-01-21T01:49:07.607611Z"
    }
   },
   "outputs": [],
   "source": [
    "scatter_list_deg = tk.make_scatter(data_deg)"
   ]
  },
  {
   "cell_type": "code",
   "execution_count": 9,
   "metadata": {
    "ExecuteTime": {
     "end_time": "2019-01-21T01:49:07.999318Z",
     "start_time": "2019-01-21T01:49:07.977484Z"
    }
   },
   "outputs": [],
   "source": [
    "trace_array = [[rad, deg] for rad, deg in zip(scatter_list_rad, scatter_list_deg)]"
   ]
  },
  {
   "cell_type": "code",
   "execution_count": 10,
   "metadata": {
    "ExecuteTime": {
     "end_time": "2019-01-21T01:49:08.610437Z",
     "start_time": "2019-01-21T01:49:08.279017Z"
    }
   },
   "outputs": [],
   "source": [
    "plt = tk.plotly()"
   ]
  },
  {
   "cell_type": "code",
   "execution_count": 14,
   "metadata": {
    "ExecuteTime": {
     "end_time": "2019-01-21T01:51:31.011245Z",
     "start_time": "2019-01-21T01:51:30.973667Z"
    }
   },
   "outputs": [
    {
     "ename": "TypeError",
     "evalue": "can't multiply sequence by non-int of type 'list'",
     "output_type": "error",
     "traceback": [
      "\u001b[0;31m---------------------------------------------------------------------------\u001b[0m",
      "\u001b[0;31mTypeError\u001b[0m                                 Traceback (most recent call last)",
      "\u001b[0;32m<ipython-input-14-2b4441987624>\u001b[0m in \u001b[0;36m<module>\u001b[0;34m\u001b[0m\n\u001b[0;32m----> 1\u001b[0;31m plt._make_subplots(trace_array*[[None, None]], specs=[[{}, {}],\n\u001b[0m\u001b[1;32m      2\u001b[0m                                      [{}, {}],[{}, {}],[None, None]])\n",
      "\u001b[0;31mTypeError\u001b[0m: can't multiply sequence by non-int of type 'list'"
     ]
    }
   ],
   "source": [
    "plt._make_subplots(trace_array*[[None, None]], specs=[[{}, {}],\n",
    "                                     [{}, {}],[{}, {}],[None, None]])"
   ]
  },
  {
   "cell_type": "code",
   "execution_count": 13,
   "metadata": {
    "ExecuteTime": {
     "end_time": "2019-01-21T01:50:52.450549Z",
     "start_time": "2019-01-21T01:50:52.438086Z"
    }
   },
   "outputs": [
    {
     "data": {
      "text/plain": [
       "[[('x', 'y'), ('x2', 'y2')],\n",
       " [('x3', 'y3'), ('x4', 'y4')],\n",
       " [('x5', 'y5'), ('x6', 'y6')]]"
      ]
     },
     "execution_count": 13,
     "metadata": {},
     "output_type": "execute_result"
    }
   ],
   "source": [
    "plt._grid_ref"
   ]
  },
  {
   "cell_type": "code",
   "execution_count": 14,
   "metadata": {
    "ExecuteTime": {
     "end_time": "2019-01-21T01:24:38.952838Z",
     "start_time": "2019-01-21T01:24:38.930736Z"
    }
   },
   "outputs": [
    {
     "data": {
      "text/plain": [
       "{'_grid_str': 'This is the format of your plot grid:\\n[ (1,1) x1,y1 ]  [ (1,2) x2,y2 ]\\n[ (2,1) x1,y3 ]  [ (2,2) x2,y4 ]\\n[ (3,1) x1,y5 ]  [ (3,2) x2,y6 ]\\n',\n",
       " '_grid_ref': [[('x1', 'y1'), ('x2', 'y2')],\n",
       "  [('x1', 'y3'), ('x2', 'y4')],\n",
       "  [('x1', 'y5'), ('x2', 'y6')]],\n",
       " '_data_validator': <plotly.validators._data.DataValidator at 0x7f8ed05f6080>,\n",
       " '_data_objs': [],\n",
       " '_data': [],\n",
       " '_data_defaults': [],\n",
       " '_layout_validator': <plotly.validators._layout.LayoutValidator at 0x7f8ed05f6048>,\n",
       " '_layout_obj': Layout({\n",
       "     'xaxis': {'anchor': 'y5', 'domain': [0.0, 0.45]},\n",
       "     'xaxis2': {'anchor': 'y6', 'domain': [0.55, 1.0]},\n",
       "     'yaxis': {'anchor': 'free', 'domain': [0.7333333333333333, 1.0], 'position': 0.0},\n",
       "     'yaxis2': {'anchor': 'free', 'domain': [0.7333333333333333, 1.0], 'position': 0.55},\n",
       "     'yaxis3': {'anchor': 'free', 'domain': [0.36666666666666664, 0.6333333333333333], 'position': 0.0},\n",
       "     'yaxis4': {'anchor': 'free', 'domain': [0.36666666666666664, 0.6333333333333333], 'position': 0.55},\n",
       "     'yaxis5': {'anchor': 'x', 'domain': [0.0, 0.26666666666666666]},\n",
       "     'yaxis6': {'anchor': 'x2', 'domain': [0.0, 0.26666666666666666]}\n",
       " }),\n",
       " '_layout': {'xaxis': {'anchor': 'y5', 'domain': [0.0, 0.45]},\n",
       "  'yaxis': {'anchor': 'free',\n",
       "   'domain': [0.7333333333333333, 1.0],\n",
       "   'position': 0.0},\n",
       "  'yaxis2': {'anchor': 'free',\n",
       "   'domain': [0.7333333333333333, 1.0],\n",
       "   'position': 0.55},\n",
       "  'yaxis3': {'anchor': 'free',\n",
       "   'domain': [0.36666666666666664, 0.6333333333333333],\n",
       "   'position': 0.0},\n",
       "  'yaxis4': {'anchor': 'free',\n",
       "   'domain': [0.36666666666666664, 0.6333333333333333],\n",
       "   'position': 0.55},\n",
       "  'yaxis5': {'anchor': 'x', 'domain': [0.0, 0.26666666666666666]},\n",
       "  'xaxis2': {'anchor': 'y6', 'domain': [0.55, 1.0]},\n",
       "  'yaxis6': {'anchor': 'x2', 'domain': [0.0, 0.26666666666666666]}},\n",
       " '_layout_defaults': {},\n",
       " '_config': {'plotlyServerURL': 'https://plot.ly'},\n",
       " '_frames_validator': <plotly.validators._frames.FramesValidator at 0x7f8ed053a160>,\n",
       " '_frame_objs': [],\n",
       " '_in_batch_mode': False,\n",
       " '_batch_trace_edits': {},\n",
       " '_batch_layout_edits': {},\n",
       " '_animation_duration_validator': <plotly.animation.DurationValidator at 0x7f8ed04f3898>,\n",
       " '_animation_easing_validator': <plotly.animation.EasingValidator at 0x7f8ed04f38d0>}"
      ]
     },
     "execution_count": 14,
     "metadata": {},
     "output_type": "execute_result"
    }
   ],
   "source": [
    "fig.__dict__"
   ]
  },
  {
   "cell_type": "code",
   "execution_count": 15,
   "metadata": {
    "ExecuteTime": {
     "end_time": "2019-01-21T02:12:05.316876Z",
     "start_time": "2019-01-21T02:12:05.310233Z"
    }
   },
   "outputs": [],
   "source": [
    "import re"
   ]
  },
  {
   "cell_type": "code",
   "execution_count": 20,
   "metadata": {
    "ExecuteTime": {
     "end_time": "2019-01-21T02:12:34.358723Z",
     "start_time": "2019-01-21T02:12:34.340981Z"
    }
   },
   "outputs": [
    {
     "data": {
      "text/plain": [
       "True"
      ]
     },
     "execution_count": 20,
     "metadata": {},
     "output_type": "execute_result"
    }
   ],
   "source": [
    "a = re.search(\"^[xyz]axis\\d*$\", \"xaxis111\")\n",
    "bool(a)"
   ]
  },
  {
   "cell_type": "code",
   "execution_count": 21,
   "metadata": {
    "ExecuteTime": {
     "end_time": "2019-01-21T02:28:44.204092Z",
     "start_time": "2019-01-21T02:28:44.196269Z"
    }
   },
   "outputs": [],
   "source": [
    "class My:\n",
    "  def __init__(self):\n",
    "    pass\n",
    "  def __del__(self):\n",
    "    print(\"hello\")"
   ]
  },
  {
   "cell_type": "code",
   "execution_count": 22,
   "metadata": {
    "ExecuteTime": {
     "end_time": "2019-01-21T02:28:49.780943Z",
     "start_time": "2019-01-21T02:28:49.773869Z"
    }
   },
   "outputs": [],
   "source": [
    "my = My()"
   ]
  },
  {
   "cell_type": "code",
   "execution_count": 23,
   "metadata": {
    "ExecuteTime": {
     "end_time": "2019-01-21T02:28:52.068461Z",
     "start_time": "2019-01-21T02:28:52.060967Z"
    }
   },
   "outputs": [
    {
     "name": "stdout",
     "output_type": "stream",
     "text": [
      "hello\n"
     ]
    }
   ],
   "source": [
    "del my"
   ]
  },
  {
   "cell_type": "code",
   "execution_count": 26,
   "metadata": {
    "ExecuteTime": {
     "end_time": "2019-01-21T02:29:16.729051Z",
     "start_time": "2019-01-21T02:29:16.715846Z"
    }
   },
   "outputs": [
    {
     "name": "stdout",
     "output_type": "stream",
     "text": [
      "hello\n"
     ]
    }
   ],
   "source": [
    "a = {\"a\": My()}"
   ]
  },
  {
   "cell_type": "code",
   "execution_count": 27,
   "metadata": {
    "ExecuteTime": {
     "end_time": "2019-01-21T02:29:25.409039Z",
     "start_time": "2019-01-21T02:29:25.392025Z"
    }
   },
   "outputs": [
    {
     "name": "stdout",
     "output_type": "stream",
     "text": [
      "hello\n"
     ]
    }
   ],
   "source": [
    "a.clear()"
   ]
  },
  {
   "cell_type": "code",
   "execution_count": 28,
   "metadata": {
    "ExecuteTime": {
     "end_time": "2019-01-21T02:31:18.707118Z",
     "start_time": "2019-01-21T02:31:18.699816Z"
    }
   },
   "outputs": [],
   "source": [
    "tmp1 = {\"dct\": {\"a\": 1}}\n",
    "tmp2 = tmp1[\"dct\"]"
   ]
  },
  {
   "cell_type": "code",
   "execution_count": 29,
   "metadata": {
    "ExecuteTime": {
     "end_time": "2019-01-21T02:31:26.247233Z",
     "start_time": "2019-01-21T02:31:26.232136Z"
    }
   },
   "outputs": [
    {
     "data": {
      "text/plain": [
       "{'dct': {'a': 1}}"
      ]
     },
     "execution_count": 29,
     "metadata": {},
     "output_type": "execute_result"
    }
   ],
   "source": [
    "del tmp2\n",
    "tmp1"
   ]
  },
  {
   "cell_type": "code",
   "execution_count": null,
   "metadata": {},
   "outputs": [],
   "source": []
  }
 ],
 "metadata": {
  "kernelspec": {
   "display_name": "Python 3",
   "language": "python",
   "name": "python3"
  },
  "language_info": {
   "codemirror_mode": {
    "name": "ipython",
    "version": 3
   },
   "file_extension": ".py",
   "mimetype": "text/x-python",
   "name": "python",
   "nbconvert_exporter": "python",
   "pygments_lexer": "ipython3",
   "version": "3.6.7"
  },
  "toc": {
   "base_numbering": 1,
   "nav_menu": {},
   "number_sections": true,
   "sideBar": true,
   "skip_h1_title": true,
   "title_cell": "Table of Contents",
   "title_sidebar": "Contents",
   "toc_cell": false,
   "toc_position": {},
   "toc_section_display": true,
   "toc_window_display": false
  }
 },
 "nbformat": 4,
 "nbformat_minor": 2
}
